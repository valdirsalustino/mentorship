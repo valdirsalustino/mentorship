{
 "cells": [
  {
   "cell_type": "markdown",
   "id": "605962d0",
   "metadata": {},
   "source": [
    "# Review of descriptive statistics\n",
    "------\n",
    "\n",
    "Lets review some descriptive statistics. "
   ]
  },
  {
   "cell_type": "markdown",
   "id": "c9636b5b",
   "metadata": {},
   "source": [
    "#### average / mean\n",
    "\n",
    "This is simple: represent the mean value.\n",
    "\n",
    "$$\\mu = \\frac{1}{N}\\sum_i^N a_i$$"
   ]
  },
  {
   "cell_type": "code",
   "execution_count": 1,
   "id": "6c52e3a3",
   "metadata": {},
   "outputs": [
    {
     "name": "stdout",
     "output_type": "stream",
     "text": [
      "5.666666666666667\n"
     ]
    }
   ],
   "source": [
    "import numpy as np\n",
    "a = [3, 5, 9]\n",
    "np.mean(a)\n",
    "\n",
    "assert np.mean(a) == sum(a)/len(a)\n",
    "\n",
    "print(np.mean(a))"
   ]
  },
  {
   "cell_type": "code",
   "execution_count": 2,
   "id": "c2207df8",
   "metadata": {},
   "outputs": [
    {
     "data": {
      "text/plain": [
       "9"
      ]
     },
     "execution_count": 2,
     "metadata": {},
     "output_type": "execute_result"
    }
   ],
   "source": [
    "np.square(3)"
   ]
  },
  {
   "cell_type": "code",
   "execution_count": 3,
   "id": "d46d2f96",
   "metadata": {},
   "outputs": [
    {
     "data": {
      "text/plain": [
       "2.494438257849294"
      ]
     },
     "execution_count": 3,
     "metadata": {},
     "output_type": "execute_result"
    }
   ],
   "source": [
    "mean = 5.666666666666667\n",
    "\n",
    "np.sqrt((np.square(3 - mean) + np.square(5 - mean) + np.square(9 - mean))/3)"
   ]
  },
  {
   "cell_type": "markdown",
   "id": "17165c15",
   "metadata": {},
   "source": [
    "#### standard deviation: \n",
    "\n",
    "* Discrete random variable: \n",
    "\n",
    "$$\\sigma = \\sqrt{\\frac{1}{N} \\sum_i^N (x_i - \\mu)^2}$$\n"
   ]
  },
  {
   "cell_type": "code",
   "execution_count": 4,
   "id": "8f8543b1",
   "metadata": {},
   "outputs": [
    {
     "data": {
      "text/plain": [
       "2.494438257849294"
      ]
     },
     "execution_count": 4,
     "metadata": {},
     "output_type": "execute_result"
    }
   ],
   "source": [
    "np.std(a)"
   ]
  },
  {
   "cell_type": "markdown",
   "id": "c0dc654d",
   "metadata": {},
   "source": [
    "Standard deviations represents the dispersion. Low standard deviation indicates that the values are close to the mean value. \n",
    "\n",
    "<!-- <img src=\"figs/std.png\" style=\"width: 350px;\"> -->\n",
    "\n",
    "<a title=\"M. W. Toews, CC BY 2.5 &lt;https://creativecommons.org/licenses/by/2.5&gt;, via Wikimedia Commons\" href=\"https://commons.wikimedia.org/wiki/File:Standard_deviation_diagram.svg\"><img width=\"256\" alt=\"Standard deviation diagram\" src=\"https://upload.wikimedia.org/wikipedia/commons/thumb/8/8c/Standard_deviation_diagram.svg/256px-Standard_deviation_diagram.svg.png\"></a>\n",
    "\n",
    "\n",
    "1 standard deviation width represents 68.2% of all the data distribution. We will see more details in the histogram review and how its relates to histogram width-height and gaussian. The variance is equal to standard deviation squared sometimes descibed as $\\sigma^2$."
   ]
  },
  {
   "cell_type": "code",
   "execution_count": 5,
   "id": "bcf3980a",
   "metadata": {},
   "outputs": [
    {
     "data": {
      "text/plain": [
       "71.83333333333333"
      ]
     },
     "execution_count": 5,
     "metadata": {},
     "output_type": "execute_result"
    }
   ],
   "source": [
    "a = [73, 68, 70, 50, 80, 90]\n",
    "np.mean(a)"
   ]
  },
  {
   "cell_type": "code",
   "execution_count": 6,
   "id": "ee84b2c4",
   "metadata": {},
   "outputs": [
    {
     "data": {
      "text/plain": [
       "12.19858826076016"
      ]
     },
     "execution_count": 6,
     "metadata": {},
     "output_type": "execute_result"
    }
   ],
   "source": [
    "np.std(a)"
   ]
  },
  {
   "cell_type": "code",
   "execution_count": 7,
   "id": "10a917e2",
   "metadata": {},
   "outputs": [
    {
     "data": {
      "text/plain": [
       "(47.43615681181301, 96.23050985485365)"
      ]
     },
     "execution_count": 7,
     "metadata": {},
     "output_type": "execute_result"
    }
   ],
   "source": [
    "np.mean(a) - 2*np.std(a), np.mean(a) + 2*np.std(a) # confidence interval 95CL%"
   ]
  },
  {
   "cell_type": "markdown",
   "id": "5f232932",
   "metadata": {},
   "source": [
    "From the above mass sample: 68% of human mass is between 59.63kg to 84.03kg"
   ]
  },
  {
   "cell_type": "markdown",
   "id": "f1c741d4",
   "metadata": {},
   "source": [
    "#### Mode\n",
    "\n",
    "The mode is the value that appears most often in a set of data values."
   ]
  },
  {
   "cell_type": "code",
   "execution_count": 8,
   "id": "a0805875",
   "metadata": {},
   "outputs": [
    {
     "data": {
      "text/plain": [
       "1    3\n",
       "3    1\n",
       "4    1\n",
       "5    1\n",
       "6    1\n",
       "dtype: int64"
      ]
     },
     "execution_count": 8,
     "metadata": {},
     "output_type": "execute_result"
    }
   ],
   "source": [
    "import pandas as pd\n",
    "a = [1, 1, 1, 3, 4, 5, 6]\n",
    "\n",
    "pd.Series(a).value_counts()"
   ]
  },
  {
   "cell_type": "markdown",
   "id": "62924451",
   "metadata": {},
   "source": [
    "#### Median\n",
    "\n",
    "Median is the value separating the higher half from the lower half of a data sample, a population, or a probability distribution."
   ]
  },
  {
   "cell_type": "code",
   "execution_count": 9,
   "id": "c8f477e0",
   "metadata": {},
   "outputs": [],
   "source": [
    "a = [10, 20, 30, 15, 50, 60, 70]"
   ]
  },
  {
   "cell_type": "code",
   "execution_count": 10,
   "id": "9d323220",
   "metadata": {},
   "outputs": [
    {
     "data": {
      "text/plain": [
       "[10, 15, 20, 30, 50, 60, 70]"
      ]
     },
     "execution_count": 10,
     "metadata": {},
     "output_type": "execute_result"
    }
   ],
   "source": [
    "sorted(a)"
   ]
  },
  {
   "cell_type": "code",
   "execution_count": 11,
   "id": "56137626",
   "metadata": {},
   "outputs": [
    {
     "data": {
      "text/plain": [
       "(30.0, 36.42857142857143)"
      ]
     },
     "execution_count": 11,
     "metadata": {},
     "output_type": "execute_result"
    }
   ],
   "source": [
    "np.median(a), np.mean(a)"
   ]
  },
  {
   "cell_type": "code",
   "execution_count": 12,
   "id": "a681856d",
   "metadata": {},
   "outputs": [
    {
     "data": {
      "text/plain": [
       "30.0"
      ]
     },
     "execution_count": 12,
     "metadata": {},
     "output_type": "execute_result"
    }
   ],
   "source": [
    "np.median(a)"
   ]
  },
  {
   "cell_type": "markdown",
   "id": "60a21349",
   "metadata": {},
   "source": [
    "<a title=\"Cmglee, CC BY-SA 3.0 &lt;https://creativecommons.org/licenses/by-sa/3.0&gt;, via Wikimedia Commons\" href=\"https://commons.wikimedia.org/wiki/File:Visualisation_mode_median_mean.svg\"><img width=\"256\" alt=\"Visualisation mode median mean\" src=\"https://upload.wikimedia.org/wikipedia/commons/thumb/3/33/Visualisation_mode_median_mean.svg/256px-Visualisation_mode_median_mean.svg.png\"></a>"
   ]
  },
  {
   "cell_type": "markdown",
   "id": "16c1e2bd",
   "metadata": {},
   "source": [
    "#### Root Mean square  (RMS)\n",
    "\n",
    "Root Mean Square (RMS or rms) is defined as the square root of the mean square (the arithmetic mean of the squares of a set of numbers)\n",
    "\n",
    "\n",
    "$$\n",
    "x_{RMS} = \\sqrt{\\frac{1}{N}\\sum_i^N x_i^2} = \\sqrt{\\frac{1}{N}(x_1^2 + x_2^2 \\cdots x_N^2)}\n",
    "$$\n",
    "\n",
    "\n",
    "RMS of the pairwise differences of the two data sets can serve as a measure how far on average the error is from 0 (predicted vs measured values)."
   ]
  },
  {
   "cell_type": "code",
   "execution_count": 13,
   "id": "6abab8b7",
   "metadata": {},
   "outputs": [],
   "source": [
    "def rms(a): \n",
    "    return np.sqrt(np.square(a).sum()/len(a))"
   ]
  },
  {
   "cell_type": "code",
   "execution_count": 14,
   "id": "05cd05ed",
   "metadata": {},
   "outputs": [
    {
     "data": {
      "text/plain": [
       "42.46847570341357"
      ]
     },
     "execution_count": 14,
     "metadata": {},
     "output_type": "execute_result"
    }
   ],
   "source": [
    "rms(a)"
   ]
  },
  {
   "cell_type": "markdown",
   "id": "80d9f5cb",
   "metadata": {},
   "source": [
    "#### Examples"
   ]
  },
  {
   "cell_type": "code",
   "execution_count": 15,
   "id": "e43a9665",
   "metadata": {},
   "outputs": [],
   "source": [
    "import pandas as pd\n",
    "from statadict import parse_stata_dict\n",
    "\n",
    "stata_dict = parse_stata_dict('../../ThinkStats2/code/2002FemPreg.dct')\n",
    "\n",
    "df = pd.read_fwf('../../ThinkStats2/code/2002FemPreg.dat', \n",
    "                 names=stata_dict.names, \n",
    "                 colspecs=stata_dict.colspecs)"
   ]
  },
  {
   "cell_type": "code",
   "execution_count": 16,
   "id": "3391f59a",
   "metadata": {},
   "outputs": [
    {
     "data": {
      "text/html": [
       "<div>\n",
       "<style scoped>\n",
       "    .dataframe tbody tr th:only-of-type {\n",
       "        vertical-align: middle;\n",
       "    }\n",
       "\n",
       "    .dataframe tbody tr th {\n",
       "        vertical-align: top;\n",
       "    }\n",
       "\n",
       "    .dataframe thead th {\n",
       "        text-align: right;\n",
       "    }\n",
       "</style>\n",
       "<table border=\"1\" class=\"dataframe\">\n",
       "  <thead>\n",
       "    <tr style=\"text-align: right;\">\n",
       "      <th></th>\n",
       "      <th>caseid</th>\n",
       "      <th>pregordr</th>\n",
       "      <th>howpreg_n</th>\n",
       "      <th>howpreg_p</th>\n",
       "      <th>moscurrp</th>\n",
       "      <th>nowprgdk</th>\n",
       "      <th>pregend1</th>\n",
       "      <th>pregend2</th>\n",
       "      <th>nbrnaliv</th>\n",
       "      <th>multbrth</th>\n",
       "      <th>...</th>\n",
       "      <th>poverty_i</th>\n",
       "      <th>laborfor_i</th>\n",
       "      <th>religion_i</th>\n",
       "      <th>metro_i</th>\n",
       "      <th>basewgt</th>\n",
       "      <th>adj_mod_basewgt</th>\n",
       "      <th>finalwgt</th>\n",
       "      <th>secu_p</th>\n",
       "      <th>sest</th>\n",
       "      <th>cmintvw</th>\n",
       "    </tr>\n",
       "  </thead>\n",
       "  <tbody>\n",
       "    <tr>\n",
       "      <th>0</th>\n",
       "      <td>1</td>\n",
       "      <td>1</td>\n",
       "      <td>NaN</td>\n",
       "      <td>NaN</td>\n",
       "      <td>NaN</td>\n",
       "      <td>NaN</td>\n",
       "      <td>6.0</td>\n",
       "      <td>NaN</td>\n",
       "      <td>1.0</td>\n",
       "      <td>NaN</td>\n",
       "      <td>...</td>\n",
       "      <td>0</td>\n",
       "      <td>0</td>\n",
       "      <td>0</td>\n",
       "      <td>0</td>\n",
       "      <td>3410.389399</td>\n",
       "      <td>3869.349602</td>\n",
       "      <td>6448.271112</td>\n",
       "      <td>2</td>\n",
       "      <td>9</td>\n",
       "      <td>1231</td>\n",
       "    </tr>\n",
       "    <tr>\n",
       "      <th>1</th>\n",
       "      <td>1</td>\n",
       "      <td>2</td>\n",
       "      <td>NaN</td>\n",
       "      <td>NaN</td>\n",
       "      <td>NaN</td>\n",
       "      <td>NaN</td>\n",
       "      <td>6.0</td>\n",
       "      <td>NaN</td>\n",
       "      <td>1.0</td>\n",
       "      <td>NaN</td>\n",
       "      <td>...</td>\n",
       "      <td>0</td>\n",
       "      <td>0</td>\n",
       "      <td>0</td>\n",
       "      <td>0</td>\n",
       "      <td>3410.389399</td>\n",
       "      <td>3869.349602</td>\n",
       "      <td>6448.271112</td>\n",
       "      <td>2</td>\n",
       "      <td>9</td>\n",
       "      <td>1231</td>\n",
       "    </tr>\n",
       "    <tr>\n",
       "      <th>2</th>\n",
       "      <td>2</td>\n",
       "      <td>1</td>\n",
       "      <td>NaN</td>\n",
       "      <td>NaN</td>\n",
       "      <td>NaN</td>\n",
       "      <td>NaN</td>\n",
       "      <td>5.0</td>\n",
       "      <td>NaN</td>\n",
       "      <td>3.0</td>\n",
       "      <td>5.0</td>\n",
       "      <td>...</td>\n",
       "      <td>0</td>\n",
       "      <td>0</td>\n",
       "      <td>0</td>\n",
       "      <td>0</td>\n",
       "      <td>7226.301740</td>\n",
       "      <td>8567.549110</td>\n",
       "      <td>12999.542264</td>\n",
       "      <td>2</td>\n",
       "      <td>12</td>\n",
       "      <td>1231</td>\n",
       "    </tr>\n",
       "  </tbody>\n",
       "</table>\n",
       "<p>3 rows × 243 columns</p>\n",
       "</div>"
      ],
      "text/plain": [
       "   caseid  pregordr  howpreg_n  howpreg_p  moscurrp  nowprgdk  pregend1  \\\n",
       "0       1         1        NaN        NaN       NaN       NaN       6.0   \n",
       "1       1         2        NaN        NaN       NaN       NaN       6.0   \n",
       "2       2         1        NaN        NaN       NaN       NaN       5.0   \n",
       "\n",
       "   pregend2  nbrnaliv  multbrth  ...  poverty_i  laborfor_i  religion_i  \\\n",
       "0       NaN       1.0       NaN  ...          0           0           0   \n",
       "1       NaN       1.0       NaN  ...          0           0           0   \n",
       "2       NaN       3.0       5.0  ...          0           0           0   \n",
       "\n",
       "   metro_i      basewgt  adj_mod_basewgt      finalwgt  secu_p  sest  cmintvw  \n",
       "0        0  3410.389399      3869.349602   6448.271112       2     9     1231  \n",
       "1        0  3410.389399      3869.349602   6448.271112       2     9     1231  \n",
       "2        0  7226.301740      8567.549110  12999.542264       2    12     1231  \n",
       "\n",
       "[3 rows x 243 columns]"
      ]
     },
     "execution_count": 16,
     "metadata": {},
     "output_type": "execute_result"
    }
   ],
   "source": [
    "df[:3]"
   ]
  },
  {
   "cell_type": "markdown",
   "id": "32755727",
   "metadata": {},
   "source": [
    "Some feature description from ThinkStats2 book: \n",
    "\n",
    "* `caseid` is the integer ID of the respondent.\n",
    "\n",
    "* `prglength` is the integer duration of the pregnancy in weeks.\n",
    "\n",
    "* `outcome` is an integer code for the outcome of the pregnancy. The code 1 indicates a live birth.\n",
    "\n",
    "* `pregordr` is a pregnancy serial number; for example, the code for a respondent’s first pregnancy is 1, for the second pregnancy is 2, and so on.\n",
    "\n",
    "* `birthord` is a serial number for live births; the code for a respondent’s first child is 1, and so on. For outcomes other than live births, this field is blank.\n",
    "\n",
    "* `birthwgt_lb` and `birthwgt_oz` contain the pounds and ounces parts of the birth weight of the baby.\n",
    "\n",
    "* `agepreg` is the mother’s age at the end of the pregnancy.\n",
    "\n",
    "* `finalwgt` is the statistical weight associated with the respondent. It is a floating-point value that indicates the number of people in the U.S. population this respondent represents.\n"
   ]
  },
  {
   "cell_type": "code",
   "execution_count": 17,
   "id": "ed112f22",
   "metadata": {},
   "outputs": [],
   "source": [
    "import sys\n",
    "sys.path.append('/Users/Valdir.Salustino@ibm.com/Documents/git/ThinkStats2/code')\n",
    "\n",
    "from nsfg import CleanFemPreg\n",
    "\n",
    "# perform some cleanup\n",
    "CleanFemPreg(df)"
   ]
  },
  {
   "cell_type": "code",
   "execution_count": 18,
   "id": "14291d77",
   "metadata": {},
   "outputs": [],
   "source": [
    "POUND_TO_KG = 0.453592\n",
    "\n",
    "df['totalwgt_kg'] = df['totalwgt_lb']*POUND_TO_KG"
   ]
  },
  {
   "cell_type": "code",
   "execution_count": 19,
   "id": "97db9e71",
   "metadata": {},
   "outputs": [
    {
     "name": "stdout",
     "output_type": "stream",
     "text": [
      "mean: 7.265628457623368\n",
      "std: 1.4082934455690173\n",
      "median: 7.375\n",
      "rms: 7.4008396735760025\n",
      "mode: 7.5\n",
      "\n",
      "----------------------------------------\n",
      "\n",
      "mean: 3.2956309433502984\n",
      "std: 0.6387906405625416\n",
      "median: 3.345241\n",
      "rms: 3.356961669216686\n",
      "mode: 3.4019399999999997\n"
     ]
    }
   ],
   "source": [
    "print('mean:', df['totalwgt_lb'].mean())\n",
    "print('std:',  df['totalwgt_lb'].std())\n",
    "print('median:', df['totalwgt_lb'].median())\n",
    "print('rms:', rms(df['totalwgt_lb'].dropna().values))\n",
    "print('mode:', df['totalwgt_lb'].mode().values[0]) \n",
    "print()\n",
    "print('-'*40)\n",
    "print()\n",
    "print('mean:', df['totalwgt_kg'].mean())\n",
    "print('std:',  df['totalwgt_kg'].std())\n",
    "print('median:', df['totalwgt_kg'].median())\n",
    "print('rms:', rms(df['totalwgt_kg'].dropna().values))\n",
    "print('mode:', df['totalwgt_kg'].mode().values[0]) \n"
   ]
  },
  {
   "cell_type": "markdown",
   "id": "67b8bc01",
   "metadata": {},
   "source": [
    "```\n",
    "\n",
    "value\tlabel\t \t        Total\n",
    "1\tLIVE BIRTH              9148\n",
    "2\tINDUCED ABORTION        1862\n",
    "3\tSTILLBIRTH               120\n",
    "4\tMISCARRIAGE             1921\n",
    "5\tECTOPIC PREGNANCY        190\n",
    "6\tCURRENT PREGNANCY        352\n",
    "\n",
    "```"
   ]
  },
  {
   "cell_type": "code",
   "execution_count": 20,
   "id": "dd011603",
   "metadata": {},
   "outputs": [
    {
     "data": {
      "text/plain": [
       "1    9148\n",
       "2    1862\n",
       "3     120\n",
       "4    1921\n",
       "5     190\n",
       "6     352\n",
       "Name: outcome, dtype: int64"
      ]
     },
     "execution_count": 20,
     "metadata": {},
     "output_type": "execute_result"
    }
   ],
   "source": [
    "df.outcome.value_counts().sort_index()"
   ]
  },
  {
   "cell_type": "code",
   "execution_count": 21,
   "id": "3b2726b2",
   "metadata": {},
   "outputs": [
    {
     "data": {
      "text/plain": [
       "11093    4\n",
       "11094    4\n",
       "11095    4\n",
       "11096    4\n",
       "11097    4\n",
       "11098    4\n",
       "11099    1\n",
       "Name: outcome, dtype: int64"
      ]
     },
     "execution_count": 21,
     "metadata": {},
     "output_type": "execute_result"
    }
   ],
   "source": [
    "df[df['caseid'] == 10229].sort_values('datend')['outcome']"
   ]
  },
  {
   "cell_type": "markdown",
   "id": "83e44320",
   "metadata": {},
   "source": [
    "# Correlations: \n",
    "\n",
    "\n",
    "#### Covariance: \n",
    "Covariance is a measure of the joint variability of two random variables. \n",
    "\n",
    "\n",
    "<a title=\"Cmglee, CC BY-SA 4.0 &lt;https://creativecommons.org/licenses/by-sa/4.0&gt;, via Wikimedia Commons\" href=\"https://commons.wikimedia.org/wiki/File:Covariance_trends.svg\"><img width=\"128\" alt=\"Covariance trends\" src=\"https://upload.wikimedia.org/wikipedia/commons/thumb/a/a0/Covariance_trends.svg/128px-Covariance_trends.svg.png\"></a>\n",
    "\n",
    "**Formal definition:**\n",
    "\n",
    "$$\n",
    "cov(X,Y) = E[(X - E[X])(Y - E[y])]\n",
    "$$\n",
    "\n",
    "\n",
    "[from wiki]: For two jointly distributed real-valued random variables {\\displaystyle X}X and {\\displaystyle Y}Y with finite second moments, the covariance is defined as the expected value (or mean) of the product of their deviations from their individual expected values\n",
    "\n",
    "\n",
    "\n",
    "If the (real) random variable pair $(X,Y)$ can take on the values $(x_i, y_i)$ for $i = (1,...,N)$ with equal probabilities $p_i = 1/N$ then the covariance can be equivalently written in terms of the means $E(X)$ and $E(Y)$ as \n",
    "\n",
    "$$\n",
    "cov(X,Y) = \\frac{1}{N}\\sum_i^N(x_i - E(Y))(y_i - E(Y))\n",
    "$$\n",
    "\n",
    "\n",
    "Note: $cov(X,X) = \\sigma^2$"
   ]
  },
  {
   "cell_type": "code",
   "execution_count": 22,
   "id": "5da1254a",
   "metadata": {},
   "outputs": [],
   "source": [
    "X = np.array([1, 2, 3, 4, 5])\n",
    "Y = 0.3*X\n",
    "# Y = np.square(X)"
   ]
  },
  {
   "cell_type": "code",
   "execution_count": 23,
   "id": "3a51c423",
   "metadata": {},
   "outputs": [
    {
     "data": {
      "text/plain": [
       "array([1, 2, 3, 4, 5])"
      ]
     },
     "execution_count": 23,
     "metadata": {},
     "output_type": "execute_result"
    }
   ],
   "source": [
    "X"
   ]
  },
  {
   "cell_type": "code",
   "execution_count": 24,
   "id": "f4ad58cb",
   "metadata": {},
   "outputs": [
    {
     "data": {
      "text/plain": [
       "array([0.3, 0.6, 0.9, 1.2, 1.5])"
      ]
     },
     "execution_count": 24,
     "metadata": {},
     "output_type": "execute_result"
    }
   ],
   "source": [
    "Y"
   ]
  },
  {
   "cell_type": "code",
   "execution_count": 25,
   "id": "f8e0da6b",
   "metadata": {},
   "outputs": [],
   "source": [
    "from matplotlib import pyplot as plt"
   ]
  },
  {
   "cell_type": "code",
   "execution_count": 26,
   "id": "6848bf58",
   "metadata": {},
   "outputs": [
    {
     "data": {
      "text/plain": [
       "Text(0, 0.5, 'Y')"
      ]
     },
     "execution_count": 26,
     "metadata": {},
     "output_type": "execute_result"
    },
    {
     "data": {
      "image/png": "[encoded data removed]",
      "text/plain": [
       "<Figure size 432x288 with 1 Axes>"
      ]
     },
     "metadata": {
      "needs_background": "light"
     },
     "output_type": "display_data"
    }
   ],
   "source": [
    "plt.scatter(X,Y)\n",
    "plt.xlabel('X')\n",
    "plt.ylabel('Y')"
   ]
  },
  {
   "cell_type": "code",
   "execution_count": 27,
   "id": "046f3e48",
   "metadata": {},
   "outputs": [
    {
     "data": {
      "text/plain": [
       "array([[2.  , 0.6 ],\n",
       "       [0.6 , 0.18]])"
      ]
     },
     "execution_count": 27,
     "metadata": {},
     "output_type": "execute_result"
    }
   ],
   "source": [
    "np.cov(X,Y, bias=True)"
   ]
  },
  {
   "cell_type": "code",
   "execution_count": 28,
   "id": "7c8a9d2a",
   "metadata": {},
   "outputs": [],
   "source": [
    "# cov(X*X) cov(X*Y)\n",
    "# cov(Y*X) cov(Y*Y)"
   ]
  },
  {
   "cell_type": "code",
   "execution_count": 29,
   "id": "11a09ae4",
   "metadata": {},
   "outputs": [
    {
     "data": {
      "text/plain": [
       "array([1, 2, 3, 4, 5])"
      ]
     },
     "execution_count": 29,
     "metadata": {},
     "output_type": "execute_result"
    }
   ],
   "source": [
    "X"
   ]
  },
  {
   "cell_type": "code",
   "execution_count": 30,
   "id": "cdeefeba",
   "metadata": {},
   "outputs": [
    {
     "data": {
      "text/plain": [
       "2.0"
      ]
     },
     "execution_count": 30,
     "metadata": {},
     "output_type": "execute_result"
    }
   ],
   "source": [
    "np.var(X)"
   ]
  },
  {
   "cell_type": "code",
   "execution_count": 31,
   "id": "2fa178a9",
   "metadata": {},
   "outputs": [
    {
     "data": {
      "text/plain": [
       "1.4142135623730951"
      ]
     },
     "execution_count": 31,
     "metadata": {},
     "output_type": "execute_result"
    }
   ],
   "source": [
    "np.sqrt(np.var(X))"
   ]
  },
  {
   "cell_type": "code",
   "execution_count": 32,
   "id": "599e7592",
   "metadata": {},
   "outputs": [
    {
     "data": {
      "text/plain": [
       "1.4142135623730951"
      ]
     },
     "execution_count": 32,
     "metadata": {},
     "output_type": "execute_result"
    }
   ],
   "source": [
    "np.std(X)"
   ]
  },
  {
   "cell_type": "markdown",
   "id": "1c608a4b",
   "metadata": {},
   "source": [
    "#### Pearson correlation coefficient\n",
    "\n",
    "\n",
    "\n",
    "[cite: wiki] It is the ratio between the covariance of two variables and the product of their standard deviations; thus it is essentially a normalised measurement of the covariance, such that the result always has a value between −1 and 1.\n",
    "\n",
    "\n",
    "$$\n",
    "\\rho_{X,Y} = \\frac{cov(X,Y)}{\\sigma_X\\sigma_Y}\n",
    "$$\n",
    "\n",
    "\n",
    "It is a measure of linear correlation between two sets of data.\n",
    "\n",
    "\n",
    "<a title=\"Kiatdd, CC BY-SA 3.0 &lt;https://creativecommons.org/licenses/by-sa/3.0&gt;, via Wikimedia Commons\" href=\"https://commons.wikimedia.org/wiki/File:Correlation_coefficient.png\"><img width=\"512\" alt=\"Correlation coefficient\" src=\"https://upload.wikimedia.org/wikipedia/commons/thumb/3/34/Correlation_coefficient.png/512px-Correlation_coefficient.png\"></a>\n",
    "\n",
    "\n",
    "\n",
    "<a title=\"DenisBoigelot, original uploader was Imagecreator, CC0, via Wikimedia Commons\" href=\"https://upload.wikimedia.org/wikipedia/commons/thumb/d/d4/Correlation_examples2.svg/2560px-Correlation_examples2.svg.png\">\n",
    "    <img width=\"512\" alt=\"Correlation examples2\" src=\"https://upload.wikimedia.org/wikipedia/commons/thumb/d/d4/Correlation_examples2.svg/256px-Correlation_examples2.svg.png\"></a>\n",
    "\n",
    "\n",
    "<a href=\"https://commons.wikimedia.org/wiki/File:Correlation_examples2.svg\">DenisBoigelot, original uploader was Imagecreator</a>, CC0, via Wikimedia Commons\n",
    "\n",
    "\n",
    "Take a note: correlation is not causality, see <a href=\"https://www.tylervigen.com/spurious-correlations\">here</a>"
   ]
  },
  {
   "cell_type": "code",
   "execution_count": 33,
   "id": "bd6a5ca2",
   "metadata": {},
   "outputs": [],
   "source": [
    "X\n",
    "\n",
    "Y = np.sqrt(X)"
   ]
  },
  {
   "cell_type": "code",
   "execution_count": 34,
   "id": "b4940a8d",
   "metadata": {},
   "outputs": [
    {
     "data": {
      "text/plain": [
       "array([1, 2, 3, 4, 5])"
      ]
     },
     "execution_count": 34,
     "metadata": {},
     "output_type": "execute_result"
    }
   ],
   "source": [
    "X"
   ]
  },
  {
   "cell_type": "code",
   "execution_count": 35,
   "id": "73262528",
   "metadata": {},
   "outputs": [
    {
     "data": {
      "text/plain": [
       "array([1.        , 1.41421356, 1.73205081, 2.        , 2.23606798])"
      ]
     },
     "execution_count": 35,
     "metadata": {},
     "output_type": "execute_result"
    }
   ],
   "source": [
    "Y"
   ]
  },
  {
   "cell_type": "code",
   "execution_count": 36,
   "id": "d9c4538f",
   "metadata": {},
   "outputs": [
    {
     "data": {
      "text/plain": [
       "array([[1.        , 0.99353344],\n",
       "       [0.99353344, 1.        ]])"
      ]
     },
     "execution_count": 36,
     "metadata": {},
     "output_type": "execute_result"
    }
   ],
   "source": [
    "np.corrcoef(X,Y)"
   ]
  },
  {
   "cell_type": "markdown",
   "id": "3e80136b",
   "metadata": {},
   "source": [
    "# Probabilities"
   ]
  },
  {
   "cell_type": "code",
   "execution_count": 63,
   "id": "7959a760",
   "metadata": {},
   "outputs": [],
   "source": [
    "a = ['A', 'A', 'B', 'B','B','B','B']"
   ]
  },
  {
   "cell_type": "code",
   "execution_count": 202,
   "id": "4b165036",
   "metadata": {},
   "outputs": [
    {
     "data": {
      "text/plain": [
       "0.2857142857142857"
      ]
     },
     "execution_count": 202,
     "metadata": {},
     "output_type": "execute_result"
    }
   ],
   "source": [
    "p_theory = 2/7\n",
    "p_theory"
   ]
  },
  {
   "cell_type": "code",
   "execution_count": 64,
   "id": "8552d076",
   "metadata": {},
   "outputs": [],
   "source": [
    "import random"
   ]
  },
  {
   "cell_type": "code",
   "execution_count": 209,
   "id": "59e52adc",
   "metadata": {},
   "outputs": [
    {
     "data": {
      "text/plain": [
       "'B'"
      ]
     },
     "execution_count": 209,
     "metadata": {},
     "output_type": "execute_result"
    }
   ],
   "source": [
    "random.choice(a)"
   ]
  },
  {
   "cell_type": "code",
   "execution_count": 297,
   "id": "2afece92",
   "metadata": {},
   "outputs": [],
   "source": [
    "probabilities = []\n",
    "\n",
    "\n",
    "for i in range(100): \n",
    "    values = []\n",
    "    for j in range(10):\n",
    "\n",
    "        extracted = random.choice(a)\n",
    "\n",
    "        if extracted == 'A': \n",
    "            values.append('correct')\n",
    "        else: \n",
    "            values.append('fail')\n",
    "\n",
    "    num = len([i for i in values if i == 'correct'])\n",
    "    den = len(values)\n",
    "\n",
    "    probabilities.append(num/den)"
   ]
  },
  {
   "cell_type": "code",
   "execution_count": 298,
   "id": "2832c639",
   "metadata": {},
   "outputs": [
    {
     "data": {
      "text/plain": [
       "100"
      ]
     },
     "execution_count": 298,
     "metadata": {},
     "output_type": "execute_result"
    }
   ],
   "source": [
    "len(probabilities)"
   ]
  },
  {
   "cell_type": "code",
   "execution_count": 299,
   "id": "b3f8464d",
   "metadata": {},
   "outputs": [
    {
     "data": {
      "text/plain": [
       "(array([ 5.,  0.,  0.,  0.,  0., 17.,  0.,  0.,  0.,  0., 23.,  0.,  0.,\n",
       "         0.,  0., 25.,  0.,  0.,  0.,  0., 17.,  0.,  0.,  0.,  0.,  9.,\n",
       "         0.,  0.,  0.,  0.,  2.,  0.,  0.,  0.,  2.,  0.,  0.,  0.,  0.,\n",
       "         0.,  0.,  0.,  0.,  0.,  0.,  0.,  0.,  0.,  0.,  0.]),\n",
       " array([0.  , 0.02, 0.04, 0.06, 0.08, 0.1 , 0.12, 0.14, 0.16, 0.18, 0.2 ,\n",
       "        0.22, 0.24, 0.26, 0.28, 0.3 , 0.32, 0.34, 0.36, 0.38, 0.4 , 0.42,\n",
       "        0.44, 0.46, 0.48, 0.5 , 0.52, 0.54, 0.56, 0.58, 0.6 , 0.62, 0.64,\n",
       "        0.66, 0.68, 0.7 , 0.72, 0.74, 0.76, 0.78, 0.8 , 0.82, 0.84, 0.86,\n",
       "        0.88, 0.9 , 0.92, 0.94, 0.96, 0.98, 1.  ]),\n",
       " <BarContainer object of 50 artists>)"
      ]
     },
     "execution_count": 299,
     "metadata": {},
     "output_type": "execute_result"
    },
    {
     "data": {
      "image/png": "[encoded data removed]",
      "text/plain": [
       "<Figure size 432x288 with 1 Axes>"
      ]
     },
     "metadata": {
      "needs_background": "light"
     },
     "output_type": "display_data"
    }
   ],
   "source": [
    "plt.hist(probabilities, bins=50, range=(0,1))"
   ]
  },
  {
   "cell_type": "markdown",
   "id": "27a86ecf",
   "metadata": {},
   "source": [
    "* standard error: \n",
    "\n",
    "$$\n",
    "E_{e} = \\frac{\\sigma}{\\sqrt{N}}\n",
    "$$"
   ]
  },
  {
   "cell_type": "code",
   "execution_count": 273,
   "id": "9b118715",
   "metadata": {},
   "outputs": [
    {
     "data": {
      "text/plain": [
       "(0.285732, 0.014121868714869139, 0.00014121868714869138)"
      ]
     },
     "execution_count": 273,
     "metadata": {},
     "output_type": "execute_result"
    }
   ],
   "source": [
    "np.mean(probabilities), np.std(probabilities), np.std(probabilities)/np.sqrt(len(probabilities))"
   ]
  },
  {
   "cell_type": "code",
   "execution_count": null,
   "id": "562dbf28",
   "metadata": {},
   "outputs": [],
   "source": [
    "0.285732 +/- 0.000141"
   ]
  },
  {
   "cell_type": "code",
   "execution_count": 290,
   "id": "95142e58",
   "metadata": {},
   "outputs": [
    {
     "data": {
      "text/plain": [
       "<ErrorbarContainer object of 3 artists>"
      ]
     },
     "execution_count": 290,
     "metadata": {},
     "output_type": "execute_result"
    },
    {
     "data": {
      "image/png": "[encoded data removed]",
      "text/plain": [
       "<Figure size 432x288 with 1 Axes>"
      ]
     },
     "metadata": {
      "needs_background": "light"
     },
     "output_type": "display_data"
    }
   ],
   "source": [
    "# import matplotlib.lines as mlines\n",
    "\n",
    "\n",
    "plt.errorbar([0,1], [0.285732, 2/7], yerr=[0.000141, 0], xerr=None, marker='o', linestyle='')\n",
    "# plt.plot(-0.04, 2/7, 0.04, 2/7, color='k')\n",
    "\n",
    "# mlines.Line2D([-0.04,0.04], [2/7,2/7])"
   ]
  },
  {
   "cell_type": "code",
   "execution_count": 274,
   "id": "d5299512",
   "metadata": {},
   "outputs": [
    {
     "data": {
      "text/plain": [
       "0.2857142857142857"
      ]
     },
     "execution_count": 274,
     "metadata": {},
     "output_type": "execute_result"
    }
   ],
   "source": [
    "2/7"
   ]
  },
  {
   "cell_type": "code",
   "execution_count": 254,
   "id": "46500e1d",
   "metadata": {},
   "outputs": [
    {
     "data": {
      "text/plain": [
       "(0.14193409345181932, 0.42738590654818065)"
      ]
     },
     "execution_count": 254,
     "metadata": {},
     "output_type": "execute_result"
    }
   ],
   "source": [
    "np.mean(probabilities) - np.std(probabilities), np.mean(probabilities) + np.std(probabilities)"
   ]
  },
  {
   "cell_type": "markdown",
   "id": "d0c9c01d",
   "metadata": {},
   "source": [
    "$$\n",
    "P = N_A/ N_T\n",
    "$$"
   ]
  },
  {
   "cell_type": "code",
   "execution_count": 155,
   "id": "a40db46c",
   "metadata": {},
   "outputs": [
    {
     "data": {
      "text/plain": [
       "1.0"
      ]
     },
     "execution_count": 155,
     "metadata": {},
     "output_type": "execute_result"
    }
   ],
   "source": [
    "2/7 + 5/7"
   ]
  },
  {
   "cell_type": "code",
   "execution_count": 154,
   "id": "04295d5d",
   "metadata": {},
   "outputs": [
    {
     "data": {
      "text/plain": [
       "1.0"
      ]
     },
     "execution_count": 154,
     "metadata": {},
     "output_type": "execute_result"
    }
   ],
   "source": [
    "0.2857142857142857 + 0.7142857142857143"
   ]
  },
  {
   "cell_type": "code",
   "execution_count": 157,
   "id": "c6e97f22",
   "metadata": {},
   "outputs": [
    {
     "data": {
      "text/plain": [
       "0.2040816326530612"
      ]
     },
     "execution_count": 157,
     "metadata": {},
     "output_type": "execute_result"
    }
   ],
   "source": [
    "2/7*5/7"
   ]
  },
  {
   "cell_type": "markdown",
   "id": "56f3caa7",
   "metadata": {},
   "source": [
    "# Distributions \n",
    "\n",
    "## Histograms"
   ]
  },
  {
   "cell_type": "code",
   "execution_count": 171,
   "id": "18cf5a44",
   "metadata": {},
   "outputs": [],
   "source": [
    "a = [5, 6, 3, 4, 4, 4, 6, 6]"
   ]
  },
  {
   "cell_type": "code",
   "execution_count": 179,
   "id": "f942784c",
   "metadata": {},
   "outputs": [
    {
     "data": {
      "image/png": "[encoded data removed]",
      "text/plain": [
       "<Figure size 432x288 with 1 Axes>"
      ]
     },
     "metadata": {
      "needs_background": "light"
     },
     "output_type": "display_data"
    }
   ],
   "source": [
    "_ = plt.hist(a, bins=10, range=(0,10))\n",
    "plt.grid()"
   ]
  },
  {
   "cell_type": "code",
   "execution_count": 180,
   "id": "5d1721a1",
   "metadata": {},
   "outputs": [
    {
     "data": {
      "text/plain": [
       "1.0"
      ]
     },
     "execution_count": 180,
     "metadata": {},
     "output_type": "execute_result"
    }
   ],
   "source": [
    "(10 - 0)/10"
   ]
  },
  {
   "cell_type": "code",
   "execution_count": 183,
   "id": "2a651340",
   "metadata": {},
   "outputs": [
    {
     "data": {
      "text/plain": [
       "(10.33, 44.08)"
      ]
     },
     "execution_count": 183,
     "metadata": {},
     "output_type": "execute_result"
    }
   ],
   "source": [
    "df['agepreg'].min(), df['agepreg'].max()"
   ]
  },
  {
   "cell_type": "code",
   "execution_count": 184,
   "id": "862cdc27",
   "metadata": {},
   "outputs": [
    {
     "data": {
      "text/plain": [
       "<AxesSubplot:>"
      ]
     },
     "execution_count": 184,
     "metadata": {},
     "output_type": "execute_result"
    },
    {
     "data": {
      "image/png": "[encoded data removed]",
      "text/plain": [
       "<Figure size 432x288 with 1 Axes>"
      ]
     },
     "metadata": {
      "needs_background": "light"
     },
     "output_type": "display_data"
    }
   ],
   "source": [
    "df['agepreg'].hist(bins=100, range=(df['agepreg'].min(), df['agepreg'].max()))"
   ]
  },
  {
   "cell_type": "code",
   "execution_count": 185,
   "id": "31f71daa",
   "metadata": {},
   "outputs": [
    {
     "data": {
      "text/plain": [
       "24.6881511970395"
      ]
     },
     "execution_count": 185,
     "metadata": {},
     "output_type": "execute_result"
    }
   ],
   "source": [
    "df['agepreg'].mean()"
   ]
  },
  {
   "cell_type": "code",
   "execution_count": 186,
   "id": "253e1c94",
   "metadata": {},
   "outputs": [
    {
     "data": {
      "text/plain": [
       "23.91"
      ]
     },
     "execution_count": 186,
     "metadata": {},
     "output_type": "execute_result"
    }
   ],
   "source": [
    "df['agepreg'].median()"
   ]
  },
  {
   "cell_type": "code",
   "execution_count": 187,
   "id": "9d1f3dec",
   "metadata": {},
   "outputs": [
    {
     "data": {
      "text/plain": [
       "0    22.75\n",
       "dtype: float64"
      ]
     },
     "execution_count": 187,
     "metadata": {},
     "output_type": "execute_result"
    }
   ],
   "source": [
    "df['agepreg'].mode()"
   ]
  },
  {
   "cell_type": "code",
   "execution_count": 188,
   "id": "53995495",
   "metadata": {},
   "outputs": [
    {
     "data": {
      "text/plain": [
       "5.814707994302967"
      ]
     },
     "execution_count": 188,
     "metadata": {},
     "output_type": "execute_result"
    }
   ],
   "source": [
    "df['agepreg'].std()"
   ]
  },
  {
   "cell_type": "code",
   "execution_count": 190,
   "id": "8e9b0683",
   "metadata": {},
   "outputs": [
    {
     "data": {
      "text/plain": [
       "(13.058735208433564, 36.31756718564543)"
      ]
     },
     "execution_count": 190,
     "metadata": {},
     "output_type": "execute_result"
    }
   ],
   "source": [
    "df['agepreg'].mean() - 2*df['agepreg'].std(), df['agepreg'].mean() + 2*df['agepreg'].std()"
   ]
  },
  {
   "cell_type": "markdown",
   "id": "bca86599",
   "metadata": {},
   "source": [
    "# Hypothesis tests\n",
    "\n",
    "Lets first revisit what statistical tests are reference [here](http://www.stats.ox.ac.uk/~filippi/Teaching/psychology_humanscience_2015/lecture8.pdf)\n",
    "\n"
   ]
  },
  {
   "cell_type": "code",
   "execution_count": 303,
   "id": "a3a1c7c9",
   "metadata": {},
   "outputs": [],
   "source": [
    "from numpy import random"
   ]
  },
  {
   "cell_type": "code",
   "execution_count": 306,
   "id": "f0842c23",
   "metadata": {},
   "outputs": [],
   "source": [
    "obs = random.normal(0, 1, 1000)"
   ]
  },
  {
   "cell_type": "code",
   "execution_count": 363,
   "id": "66699e2e",
   "metadata": {},
   "outputs": [
    {
     "data": {
      "text/plain": [
       "<matplotlib.lines.Line2D at 0x7f9df3d98a60>"
      ]
     },
     "execution_count": 363,
     "metadata": {},
     "output_type": "execute_result"
    },
    {
     "data": {
      "image/png": "[encoded data removed]",
      "text/plain": [
       "<Figure size 432x288 with 1 Axes>"
      ]
     },
     "metadata": {
      "needs_background": "light"
     },
     "output_type": "display_data"
    }
   ],
   "source": [
    "hull_hypothesis = 0.05\n",
    "fig = plt.figure()\n",
    "ax = fig.add_subplot(111)\n",
    "\n",
    "_ = ax.hist(obs, range=(-5,5), bins=100, alpha=0.7)\n",
    "\n",
    "ax.add_line(mlines.Line2D([hypo_alter,hypo_alter], [0, 50], color='r'))\n",
    "# largura a meia altura ~ \\sigma"
   ]
  },
  {
   "cell_type": "code",
   "execution_count": 364,
   "id": "44ec3586",
   "metadata": {},
   "outputs": [],
   "source": [
    "from scipy import stats"
   ]
  },
  {
   "cell_type": "code",
   "execution_count": 365,
   "id": "dc74f7a6",
   "metadata": {},
   "outputs": [
    {
     "data": {
      "text/plain": [
       "Ttest_1sampResult(statistic=-2.4278970183210133, pvalue=0.015362419607646415)"
      ]
     },
     "execution_count": 365,
     "metadata": {},
     "output_type": "execute_result"
    }
   ],
   "source": [
    "stats.ttest_1samp(obs, hull_hypothesis)"
   ]
  },
  {
   "cell_type": "markdown",
   "id": "312e34f3",
   "metadata": {},
   "source": [
    "* pvalues < 5% alternative hypothesis cannot be excluded\n",
    "* pvalue > 5% null hypothesis cannot be excluded"
   ]
  },
  {
   "cell_type": "markdown",
   "id": "2cc89057",
   "metadata": {},
   "source": [
    "- hull hypotheses: first babies have average birth lenght of 40 weeks;\n",
    "- alternative hypothesis: first babies have average birth higher from 40 weeks;"
   ]
  },
  {
   "cell_type": "code",
   "execution_count": 374,
   "id": "33060e3d",
   "metadata": {},
   "outputs": [
    {
     "data": {
      "text/plain": [
       "<matplotlib.legend.Legend at 0x7f9df8460f10>"
      ]
     },
     "execution_count": 374,
     "metadata": {},
     "output_type": "execute_result"
    },
    {
     "data": {
      "image/png": "[encoded data removed]",
      "text/plain": [
       "<Figure size 576x432 with 1 Axes>"
      ]
     },
     "metadata": {
      "needs_background": "light"
     },
     "output_type": "display_data"
    }
   ],
   "source": [
    "first = (df['pregordr'] == 1) & (df['outcome'] == 1)\n",
    "other = (df['pregordr'] != 1) & (df['outcome'] == 1)\n",
    "\n",
    "# observe pandas have histogram plotting\n",
    "plt.figure(figsize=(8,6))\n",
    "\n",
    "df[other]['prglngth'].hist(bins=100, label='other', density=False)\n",
    "df[first]['prglngth'].hist(bins=100, label='first', density=False)\n",
    "\n",
    "plt.xlabel('preg. length [weeks]')\n",
    "plt.legend()"
   ]
  },
  {
   "cell_type": "code",
   "execution_count": 372,
   "id": "fde74cb7",
   "metadata": {},
   "outputs": [
    {
     "data": {
      "text/plain": [
       "(38.58432304038005, 2.681047688536467)"
      ]
     },
     "execution_count": 372,
     "metadata": {},
     "output_type": "execute_result"
    }
   ],
   "source": [
    "df[first]['prglngth'].mean(), df[first]['prglngth'].mean() "
   ]
  },
  {
   "cell_type": "code",
   "execution_count": 373,
   "id": "17f82fec",
   "metadata": {},
   "outputs": [
    {
     "data": {
      "text/plain": [
       "(38.54671280276817, 2.71481128288008)"
      ]
     },
     "execution_count": 373,
     "metadata": {},
     "output_type": "execute_result"
    }
   ],
   "source": [
    "df[other]['prglngth'].mean(), df[other]['prglngth'].std()"
   ]
  },
  {
   "cell_type": "code",
   "execution_count": 382,
   "id": "37761ddf",
   "metadata": {},
   "outputs": [],
   "source": [
    "err_first = df[first]['prglngth'].std()/np.sqrt(len(df[first]['prglngth']))\n",
    "err_other = df[other]['prglngth'].std()/np.sqrt(len(df[other]['prglngth']))"
   ]
  },
  {
   "cell_type": "code",
   "execution_count": 386,
   "id": "0eab5503",
   "metadata": {},
   "outputs": [
    {
     "data": {
      "text/plain": [
       "(5780, 3368)"
      ]
     },
     "execution_count": 386,
     "metadata": {},
     "output_type": "execute_result"
    }
   ],
   "source": [
    "df[other].shape[0], df[first].shape[0]"
   ]
  },
  {
   "cell_type": "code",
   "execution_count": 384,
   "id": "9b7ae103",
   "metadata": {},
   "outputs": [
    {
     "data": {
      "text/plain": [
       "(0.046197502490972646, 0.035708838674136885)"
      ]
     },
     "execution_count": 384,
     "metadata": {},
     "output_type": "execute_result"
    }
   ],
   "source": [
    "err_first, err_other"
   ]
  },
  {
   "cell_type": "code",
   "execution_count": 387,
   "id": "239d1aba",
   "metadata": {},
   "outputs": [
    {
     "data": {
      "text/plain": [
       "<ErrorbarContainer object of 3 artists>"
      ]
     },
     "execution_count": 387,
     "metadata": {},
     "output_type": "execute_result"
    },
    {
     "data": {
      "image/png": "[encoded data removed]",
      "text/plain": [
       "<Figure size 432x288 with 1 Axes>"
      ]
     },
     "metadata": {
      "needs_background": "light"
     },
     "output_type": "display_data"
    }
   ],
   "source": [
    "plt.errorbar([0,1], [df[first]['prglngth'].mean(), df[other]['prglngth'].mean()], yerr=[err_first, err_other], xerr=None, marker='o', linestyle='')"
   ]
  },
  {
   "cell_type": "code",
   "execution_count": 175,
   "id": "1e7c1375",
   "metadata": {},
   "outputs": [
    {
     "data": {
      "text/plain": [
       "<matplotlib.legend.Legend at 0x7f9dfa570e50>"
      ]
     },
     "execution_count": 175,
     "metadata": {},
     "output_type": "execute_result"
    },
    {
     "data": {
      "image/png": "[encoded data removed]",
      "text/plain": [
       "<Figure size 576x432 with 1 Axes>"
      ]
     },
     "metadata": {
      "needs_background": "light"
     },
     "output_type": "display_data"
    }
   ],
   "source": [
    "import seaborn as sns\n",
    "plt.figure(figsize=(8,6))\n",
    "\n",
    "sns.kdeplot(data=df[other], x=\"prglngth\", label='other')\n",
    "sns.kdeplot(data=df[first], x=\"prglngth\", label='first')\n",
    "\n",
    "plt.xlabel('preg. length [weeks]')\n",
    "plt.legend()"
   ]
  },
  {
   "cell_type": "code",
   "execution_count": 379,
   "id": "81a40070",
   "metadata": {},
   "outputs": [
    {
     "data": {
      "text/plain": [
       "Ttest_1sampResult(statistic=-40.698248702341985, pvalue=0.0)"
      ]
     },
     "execution_count": 379,
     "metadata": {},
     "output_type": "execute_result"
    }
   ],
   "source": [
    "scipy.stats.ttest_1samp(df[other]['prglngth'].values, 40)"
   ]
  },
  {
   "cell_type": "code",
   "execution_count": 380,
   "id": "51c7628d",
   "metadata": {},
   "outputs": [
    {
     "data": {
      "text/plain": [
       "Ttest_1sampResult(statistic=-30.644015007014403, pvalue=4.0666236645525976e-182)"
      ]
     },
     "execution_count": 380,
     "metadata": {},
     "output_type": "execute_result"
    }
   ],
   "source": [
    "scipy.stats.ttest_1samp(df[first]['prglngth'].values, 40)"
   ]
  },
  {
   "cell_type": "markdown",
   "id": "87899bab",
   "metadata": {},
   "source": [
    "- $H_0$ first babies have equal pregnance length that of others babies\n",
    "- $H_1$ first babies have different pregnance length that of others babies"
   ]
  },
  {
   "cell_type": "code",
   "execution_count": 388,
   "id": "9db531e9",
   "metadata": {},
   "outputs": [
    {
     "data": {
      "text/plain": [
       "Ttest_indResult(statistic=0.6420049882591117, pvalue=0.5208860344743724)"
      ]
     },
     "execution_count": 388,
     "metadata": {},
     "output_type": "execute_result"
    }
   ],
   "source": [
    "stats.ttest_ind(df[first]['prglngth'].values, df[other]['prglngth'].values)"
   ]
  },
  {
   "cell_type": "markdown",
   "id": "745837a4",
   "metadata": {},
   "source": [
    " - the null hypothesis cannot be rejected."
   ]
  },
  {
   "cell_type": "markdown",
   "id": "1caa2ace",
   "metadata": {},
   "source": [
    "- H_0 first babies does not have higher pregnance lenght that of other babies; \n",
    "- H_1 first babies have higher pregnance length that of other babies; "
   ]
  },
  {
   "cell_type": "markdown",
   "id": "3ad5a432",
   "metadata": {},
   "source": [
    "Please read as ref [this](https://machinelearningmastery.com/statistical-hypothesis-tests-in-python-cheat-sheet/)"
   ]
  },
  {
   "cell_type": "code",
   "execution_count": null,
   "id": "93e4c641",
   "metadata": {},
   "outputs": [],
   "source": []
  }
 ],
 "metadata": {
  "kernelspec": {
   "display_name": "Python 3 (ipykernel)",
   "language": "python",
   "name": "python3"
  },
  "language_info": {
   "codemirror_mode": {
    "name": "ipython",
    "version": 3
   },
   "file_extension": ".py",
   "mimetype": "text/x-python",
   "name": "python",
   "nbconvert_exporter": "python",
   "pygments_lexer": "ipython3",
   "version": "3.9.4"
  }
 },
 "nbformat": 4,
 "nbformat_minor": 5
}
