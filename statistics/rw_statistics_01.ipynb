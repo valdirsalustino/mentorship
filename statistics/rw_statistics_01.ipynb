{
 "cells": [
  {
   "cell_type": "markdown",
   "id": "605962d0",
   "metadata": {},
   "source": [
    "# Review of descriptive statistics\n",
    "------\n",
    "\n",
    "Lets review some descriptive statistics. "
   ]
  },
  {
   "cell_type": "markdown",
   "id": "c9636b5b",
   "metadata": {},
   "source": [
    "#### average / mean\n",
    "\n",
    "This is simple: represent the mean value.\n",
    "\n",
    "$$\\mu = \\frac{1}{N}\\sum_i^N a_i$$"
   ]
  },
  {
   "cell_type": "code",
   "execution_count": 1,
   "id": "6c52e3a3",
   "metadata": {},
   "outputs": [
    {
     "name": "stdout",
     "output_type": "stream",
     "text": [
      "5.666666666666667\n"
     ]
    }
   ],
   "source": [
    "import numpy as np\n",
    "a = [3, 5, 9]\n",
    "np.mean(a)\n",
    "\n",
    "assert np.mean(a) == sum(a)/len(a)\n",
    "\n",
    "print(np.mean(a))"
   ]
  },
  {
   "cell_type": "markdown",
   "id": "17165c15",
   "metadata": {},
   "source": [
    "#### standard deviation: \n",
    "\n",
    "* Discrete random variable: \n",
    "\n",
    "$$\\sigma = \\sqrt{\\frac{1}{N} \\sum_i^N (x_i - \\mu)^2}$$\n"
   ]
  },
  {
   "cell_type": "code",
   "execution_count": 2,
   "id": "8f8543b1",
   "metadata": {},
   "outputs": [
    {
     "data": {
      "text/plain": [
       "2.494438257849294"
      ]
     },
     "execution_count": 2,
     "metadata": {},
     "output_type": "execute_result"
    }
   ],
   "source": [
    "np.std(a)"
   ]
  },
  {
   "cell_type": "markdown",
   "id": "c0dc654d",
   "metadata": {},
   "source": [
    "Standard deviations represents the dispersion. Low standard deviation indicates that the values are close to the mean value. \n",
    "\n",
    "<!-- <img src=\"figs/std.png\" style=\"width: 350px;\"> -->\n",
    "\n",
    "<a title=\"M. W. Toews, CC BY 2.5 &lt;https://creativecommons.org/licenses/by/2.5&gt;, via Wikimedia Commons\" href=\"https://commons.wikimedia.org/wiki/File:Standard_deviation_diagram.svg\"><img width=\"256\" alt=\"Standard deviation diagram\" src=\"https://upload.wikimedia.org/wikipedia/commons/thumb/8/8c/Standard_deviation_diagram.svg/256px-Standard_deviation_diagram.svg.png\"></a>\n",
    "\n",
    "\n",
    "1 standard deviation width represents 68.2% of all the data distribution. We will see more details in the histogram review and how its relates to histogram width-height and gaussian. The variance is equal to standard deviation squared sometimes descibed as $\\sigma^2$."
   ]
  },
  {
   "cell_type": "markdown",
   "id": "f1c741d4",
   "metadata": {},
   "source": [
    "#### Mode\n",
    "\n",
    "The mode is the value that appears most often in a set of data values."
   ]
  },
  {
   "cell_type": "code",
   "execution_count": 3,
   "id": "a0805875",
   "metadata": {},
   "outputs": [
    {
     "data": {
      "text/plain": [
       "1    3\n",
       "3    1\n",
       "4    1\n",
       "5    1\n",
       "6    1\n",
       "dtype: int64"
      ]
     },
     "execution_count": 3,
     "metadata": {},
     "output_type": "execute_result"
    }
   ],
   "source": [
    "import pandas as pd\n",
    "a = [1, 1, 1, 3, 4, 5, 6]\n",
    "\n",
    "pd.Series(a).value_counts()"
   ]
  },
  {
   "cell_type": "markdown",
   "id": "62924451",
   "metadata": {},
   "source": [
    "#### Median\n",
    "\n",
    "Median is the value separating the higher half from the lower half of a data sample, a population, or a probability distribution."
   ]
  },
  {
   "cell_type": "code",
   "execution_count": 4,
   "id": "a681856d",
   "metadata": {},
   "outputs": [
    {
     "data": {
      "text/plain": [
       "3.0"
      ]
     },
     "execution_count": 4,
     "metadata": {},
     "output_type": "execute_result"
    }
   ],
   "source": [
    "np.median(a)"
   ]
  },
  {
   "cell_type": "markdown",
   "id": "60a21349",
   "metadata": {},
   "source": [
    "<a title=\"Cmglee, CC BY-SA 3.0 &lt;https://creativecommons.org/licenses/by-sa/3.0&gt;, via Wikimedia Commons\" href=\"https://commons.wikimedia.org/wiki/File:Visualisation_mode_median_mean.svg\"><img width=\"256\" alt=\"Visualisation mode median mean\" src=\"https://upload.wikimedia.org/wikipedia/commons/thumb/3/33/Visualisation_mode_median_mean.svg/256px-Visualisation_mode_median_mean.svg.png\"></a>"
   ]
  },
  {
   "cell_type": "markdown",
   "id": "16c1e2bd",
   "metadata": {},
   "source": [
    "#### Root Mean square  (RMS)\n",
    "\n",
    "Root Mean Square (RMS or rms or rms) is defined as the square root of the mean square (the arithmetic mean of the squares of a set of numbers)\n",
    "\n",
    "\n",
    "$$\n",
    "x_{RMS} = \\sqrt{\\frac{1}{N}\\sum_i^N x_i^2} = \\sqrt{\\frac{1}{N}(x_1^2 + x_2^2 \\cdots x_N^2)}\n",
    "$$\n",
    "\n",
    "\n",
    "RMS of the pairwise differences of the two data sets can serve as a measure how far on average the error is from 0 (predicted vs measured values)."
   ]
  },
  {
   "cell_type": "code",
   "execution_count": 5,
   "id": "6abab8b7",
   "metadata": {},
   "outputs": [],
   "source": [
    "def rms(a): \n",
    "    return np.sqrt(np.square(a).sum()/len(a))"
   ]
  },
  {
   "cell_type": "code",
   "execution_count": 6,
   "id": "05cd05ed",
   "metadata": {},
   "outputs": [
    {
     "data": {
      "text/plain": [
       "3.565709706956767"
      ]
     },
     "execution_count": 6,
     "metadata": {},
     "output_type": "execute_result"
    }
   ],
   "source": [
    "rms(a)"
   ]
  },
  {
   "cell_type": "markdown",
   "id": "80d9f5cb",
   "metadata": {},
   "source": [
    "#### Examples"
   ]
  },
  {
   "cell_type": "code",
   "execution_count": 7,
   "id": "e43a9665",
   "metadata": {},
   "outputs": [],
   "source": [
    "import pandas as pd\n",
    "from statadict import parse_stata_dict\n",
    "\n",
    "stata_dict = parse_stata_dict('../../ThinkStats2/code/2002FemPreg.dct')\n",
    "\n",
    "df = pd.read_fwf('../../ThinkStats2/code/2002FemPreg.dat', \n",
    "                 names=stata_dict.names, \n",
    "                 colspecs=stata_dict.colspecs)"
   ]
  },
  {
   "cell_type": "code",
   "execution_count": 8,
   "id": "3391f59a",
   "metadata": {},
   "outputs": [
    {
     "data": {
      "text/html": [
       "<div>\n",
       "<style scoped>\n",
       "    .dataframe tbody tr th:only-of-type {\n",
       "        vertical-align: middle;\n",
       "    }\n",
       "\n",
       "    .dataframe tbody tr th {\n",
       "        vertical-align: top;\n",
       "    }\n",
       "\n",
       "    .dataframe thead th {\n",
       "        text-align: right;\n",
       "    }\n",
       "</style>\n",
       "<table border=\"1\" class=\"dataframe\">\n",
       "  <thead>\n",
       "    <tr style=\"text-align: right;\">\n",
       "      <th></th>\n",
       "      <th>caseid</th>\n",
       "      <th>pregordr</th>\n",
       "      <th>howpreg_n</th>\n",
       "      <th>howpreg_p</th>\n",
       "      <th>moscurrp</th>\n",
       "      <th>nowprgdk</th>\n",
       "      <th>pregend1</th>\n",
       "      <th>pregend2</th>\n",
       "      <th>nbrnaliv</th>\n",
       "      <th>multbrth</th>\n",
       "      <th>...</th>\n",
       "      <th>poverty_i</th>\n",
       "      <th>laborfor_i</th>\n",
       "      <th>religion_i</th>\n",
       "      <th>metro_i</th>\n",
       "      <th>basewgt</th>\n",
       "      <th>adj_mod_basewgt</th>\n",
       "      <th>finalwgt</th>\n",
       "      <th>secu_p</th>\n",
       "      <th>sest</th>\n",
       "      <th>cmintvw</th>\n",
       "    </tr>\n",
       "  </thead>\n",
       "  <tbody>\n",
       "    <tr>\n",
       "      <th>0</th>\n",
       "      <td>1</td>\n",
       "      <td>1</td>\n",
       "      <td>NaN</td>\n",
       "      <td>NaN</td>\n",
       "      <td>NaN</td>\n",
       "      <td>NaN</td>\n",
       "      <td>6.0</td>\n",
       "      <td>NaN</td>\n",
       "      <td>1.0</td>\n",
       "      <td>NaN</td>\n",
       "      <td>...</td>\n",
       "      <td>0</td>\n",
       "      <td>0</td>\n",
       "      <td>0</td>\n",
       "      <td>0</td>\n",
       "      <td>3410.389399</td>\n",
       "      <td>3869.349602</td>\n",
       "      <td>6448.271112</td>\n",
       "      <td>2</td>\n",
       "      <td>9</td>\n",
       "      <td>1231</td>\n",
       "    </tr>\n",
       "    <tr>\n",
       "      <th>1</th>\n",
       "      <td>1</td>\n",
       "      <td>2</td>\n",
       "      <td>NaN</td>\n",
       "      <td>NaN</td>\n",
       "      <td>NaN</td>\n",
       "      <td>NaN</td>\n",
       "      <td>6.0</td>\n",
       "      <td>NaN</td>\n",
       "      <td>1.0</td>\n",
       "      <td>NaN</td>\n",
       "      <td>...</td>\n",
       "      <td>0</td>\n",
       "      <td>0</td>\n",
       "      <td>0</td>\n",
       "      <td>0</td>\n",
       "      <td>3410.389399</td>\n",
       "      <td>3869.349602</td>\n",
       "      <td>6448.271112</td>\n",
       "      <td>2</td>\n",
       "      <td>9</td>\n",
       "      <td>1231</td>\n",
       "    </tr>\n",
       "    <tr>\n",
       "      <th>2</th>\n",
       "      <td>2</td>\n",
       "      <td>1</td>\n",
       "      <td>NaN</td>\n",
       "      <td>NaN</td>\n",
       "      <td>NaN</td>\n",
       "      <td>NaN</td>\n",
       "      <td>5.0</td>\n",
       "      <td>NaN</td>\n",
       "      <td>3.0</td>\n",
       "      <td>5.0</td>\n",
       "      <td>...</td>\n",
       "      <td>0</td>\n",
       "      <td>0</td>\n",
       "      <td>0</td>\n",
       "      <td>0</td>\n",
       "      <td>7226.301740</td>\n",
       "      <td>8567.549110</td>\n",
       "      <td>12999.542264</td>\n",
       "      <td>2</td>\n",
       "      <td>12</td>\n",
       "      <td>1231</td>\n",
       "    </tr>\n",
       "  </tbody>\n",
       "</table>\n",
       "<p>3 rows × 243 columns</p>\n",
       "</div>"
      ],
      "text/plain": [
       "   caseid  pregordr  howpreg_n  howpreg_p  moscurrp  nowprgdk  pregend1  \\\n",
       "0       1         1        NaN        NaN       NaN       NaN       6.0   \n",
       "1       1         2        NaN        NaN       NaN       NaN       6.0   \n",
       "2       2         1        NaN        NaN       NaN       NaN       5.0   \n",
       "\n",
       "   pregend2  nbrnaliv  multbrth  ...  poverty_i  laborfor_i  religion_i  \\\n",
       "0       NaN       1.0       NaN  ...          0           0           0   \n",
       "1       NaN       1.0       NaN  ...          0           0           0   \n",
       "2       NaN       3.0       5.0  ...          0           0           0   \n",
       "\n",
       "   metro_i      basewgt  adj_mod_basewgt      finalwgt  secu_p  sest  cmintvw  \n",
       "0        0  3410.389399      3869.349602   6448.271112       2     9     1231  \n",
       "1        0  3410.389399      3869.349602   6448.271112       2     9     1231  \n",
       "2        0  7226.301740      8567.549110  12999.542264       2    12     1231  \n",
       "\n",
       "[3 rows x 243 columns]"
      ]
     },
     "execution_count": 8,
     "metadata": {},
     "output_type": "execute_result"
    }
   ],
   "source": [
    "df[:3]"
   ]
  },
  {
   "cell_type": "markdown",
   "id": "32755727",
   "metadata": {},
   "source": [
    "Some feature description from ThinkStats2 book: \n",
    "\n",
    "* `caseid` is the integer ID of the respondent.\n",
    "\n",
    "* `prglength` is the integer duration of the pregnancy in weeks.\n",
    "\n",
    "* `outcome` is an integer code for the outcome of the pregnancy. The code 1 indicates a live birth.\n",
    "\n",
    "* `pregordr` is a pregnancy serial number; for example, the code for a respondent’s first pregnancy is 1, for the second pregnancy is 2, and so on.\n",
    "\n",
    "* `birthord` is a serial number for live births; the code for a respondent’s first child is 1, and so on. For outcomes other than live births, this field is blank.\n",
    "\n",
    "* `birthwgt_lb` and `birthwgt_oz` contain the pounds and ounces parts of the birth weight of the baby.\n",
    "\n",
    "* `agepreg` is the mother’s age at the end of the pregnancy.\n",
    "\n",
    "* `finalwgt` is the statistical weight associated with the respondent. It is a floating-point value that indicates the number of people in the U.S. population this respondent represents.\n"
   ]
  },
  {
   "cell_type": "code",
   "execution_count": 11,
   "id": "ed112f22",
   "metadata": {},
   "outputs": [],
   "source": [
    "import sys\n",
    "sys.path.append('/Users/Valdir.Salustino@ibm.com/Documents/git/ThinkStats2/code')\n",
    "\n",
    "from nsfg import CleanFemPreg\n",
    "\n",
    "# perform some cleanup\n",
    "CleanFemPreg(df)"
   ]
  },
  {
   "cell_type": "code",
   "execution_count": 22,
   "id": "14291d77",
   "metadata": {},
   "outputs": [],
   "source": [
    "POUND_TO_KG = 0.453592\n",
    "\n",
    "df['totalwgt_kg'] = df['totalwgt_lb']*POUND_TO_KG"
   ]
  },
  {
   "cell_type": "code",
   "execution_count": 49,
   "id": "97db9e71",
   "metadata": {},
   "outputs": [
    {
     "name": "stdout",
     "output_type": "stream",
     "text": [
      "mean: 7.265628457623368\n",
      "std: 1.4082934455690173\n",
      "median: 7.375\n",
      "rms: 7.4008396735760025\n",
      "mode: 7.5\n",
      "\n",
      "----------------------------------------\n",
      "\n",
      "mean: 3.2956309433502984\n",
      "std: 0.6387906405625416\n",
      "median: 3.345241\n",
      "rms: 3.356961669216686\n",
      "mode: 3.4019399999999997\n"
     ]
    }
   ],
   "source": [
    "print('mean:', df['totalwgt_lb'].mean())\n",
    "print('std:',  df['totalwgt_lb'].std())\n",
    "print('median:', df['totalwgt_lb'].median())\n",
    "print('rms:', rms(df['totalwgt_lb'].dropna().values))\n",
    "print('mode:', df['totalwgt_lb'].mode().values[0]) \n",
    "print()\n",
    "print('-'*40)\n",
    "print()\n",
    "print('mean:', df['totalwgt_kg'].mean())\n",
    "print('std:',  df['totalwgt_kg'].std())\n",
    "print('median:', df['totalwgt_kg'].median())\n",
    "print('rms:', rms(df['totalwgt_kg'].dropna().values))\n",
    "print('mode:', df['totalwgt_kg'].mode().values[0]) \n"
   ]
  },
  {
   "cell_type": "markdown",
   "id": "67b8bc01",
   "metadata": {},
   "source": [
    "```\n",
    "\n",
    "value\tlabel\t \t        Total\n",
    "1\tLIVE BIRTH              9148\n",
    "2\tINDUCED ABORTION        1862\n",
    "3\tSTILLBIRTH               120\n",
    "4\tMISCARRIAGE             1921\n",
    "5\tECTOPIC PREGNANCY        190\n",
    "6\tCURRENT PREGNANCY        352\n",
    "\n",
    "```"
   ]
  },
  {
   "cell_type": "code",
   "execution_count": 21,
   "id": "dd011603",
   "metadata": {},
   "outputs": [
    {
     "data": {
      "text/plain": [
       "1    9148\n",
       "2    1862\n",
       "3     120\n",
       "4    1921\n",
       "5     190\n",
       "6     352\n",
       "Name: outcome, dtype: int64"
      ]
     },
     "execution_count": 21,
     "metadata": {},
     "output_type": "execute_result"
    }
   ],
   "source": [
    "df.outcome.value_counts().sort_index()"
   ]
  },
  {
   "cell_type": "code",
   "execution_count": 60,
   "id": "3b2726b2",
   "metadata": {},
   "outputs": [
    {
     "data": {
      "text/plain": [
       "11093    4\n",
       "11094    4\n",
       "11095    4\n",
       "11096    4\n",
       "11097    4\n",
       "11098    4\n",
       "11099    1\n",
       "Name: outcome, dtype: int64"
      ]
     },
     "execution_count": 60,
     "metadata": {},
     "output_type": "execute_result"
    }
   ],
   "source": [
    "df[df['caseid'] == 10229].sort_values('datend')['outcome']"
   ]
  },
  {
   "cell_type": "markdown",
   "id": "83e44320",
   "metadata": {},
   "source": [
    "# Correlations: \n",
    "\n",
    "\n",
    "#### Covariance: \n",
    "Covariance is a measure of the joint variability of two random variables. \n",
    "\n",
    "\n",
    "<a title=\"Cmglee, CC BY-SA 4.0 &lt;https://creativecommons.org/licenses/by-sa/4.0&gt;, via Wikimedia Commons\" href=\"https://commons.wikimedia.org/wiki/File:Covariance_trends.svg\"><img width=\"128\" alt=\"Covariance trends\" src=\"https://upload.wikimedia.org/wikipedia/commons/thumb/a/a0/Covariance_trends.svg/128px-Covariance_trends.svg.png\"></a>\n",
    "\n",
    "**Formal definition:**\n",
    "\n",
    "$$\n",
    "cov(X,Y) = E[(X - E[X])(Y - E[y])]\n",
    "$$\n",
    "\n",
    "\n",
    "[from wiki]: For two jointly distributed real-valued random variables {\\displaystyle X}X and {\\displaystyle Y}Y with finite second moments, the covariance is defined as the expected value (or mean) of the product of their deviations from their individual expected values\n",
    "\n",
    "\n",
    "\n",
    "If the (real) random variable pair $(X,Y)$ can take on the values $(x_i, y_i)$ for $i = (1,...,N)$ with equal probabilities $p_i = 1/N$ then the covariance can be equivalently written in terms of the means $E(X)$ and $E(Y)$ as \n",
    "\n",
    "$$\n",
    "cov(X,Y) = \\frac{1}{N}\\sum_i^N(x_i - E(Y))(y_i - E(Y))\n",
    "$$\n",
    "\n",
    "\n",
    "Note: $cov(X,X) = \\sigma^2$"
   ]
  },
  {
   "cell_type": "code",
   "execution_count": 61,
   "id": "5da1254a",
   "metadata": {},
   "outputs": [],
   "source": [
    "X = np.array([1, 2, 3, 4, 5])\n",
    "Y = 0.3*X"
   ]
  },
  {
   "cell_type": "code",
   "execution_count": 63,
   "id": "f8e0da6b",
   "metadata": {},
   "outputs": [],
   "source": [
    "from matplotlib import pyplot as plt"
   ]
  },
  {
   "cell_type": "code",
   "execution_count": 64,
   "id": "6848bf58",
   "metadata": {},
   "outputs": [
    {
     "data": {
      "text/plain": [
       "<matplotlib.collections.PathCollection at 0x7fde4717b5e0>"
      ]
     },
     "execution_count": 64,
     "metadata": {},
     "output_type": "execute_result"
    },
    {
     "data": {
      "image/png": "[encoded data removed]",
      "text/plain": [
       "<Figure size 432x288 with 1 Axes>"
      ]
     },
     "metadata": {
      "needs_background": "light"
     },
     "output_type": "display_data"
    }
   ],
   "source": [
    "plt.scatter(X,Y)"
   ]
  },
  {
   "cell_type": "code",
   "execution_count": 94,
   "id": "046f3e48",
   "metadata": {},
   "outputs": [
    {
     "data": {
      "text/plain": [
       "array([[2., 2.],\n",
       "       [2., 2.]])"
      ]
     },
     "execution_count": 94,
     "metadata": {},
     "output_type": "execute_result"
    }
   ],
   "source": [
    "np.cov(X,X, bias=True)"
   ]
  },
  {
   "cell_type": "code",
   "execution_count": 89,
   "id": "cdeefeba",
   "metadata": {},
   "outputs": [
    {
     "data": {
      "text/plain": [
       "2.0"
      ]
     },
     "execution_count": 89,
     "metadata": {},
     "output_type": "execute_result"
    }
   ],
   "source": [
    "np.var(X)"
   ]
  },
  {
   "cell_type": "code",
   "execution_count": 90,
   "id": "2fa178a9",
   "metadata": {},
   "outputs": [
    {
     "data": {
      "text/plain": [
       "1.4142135623730951"
      ]
     },
     "execution_count": 90,
     "metadata": {},
     "output_type": "execute_result"
    }
   ],
   "source": [
    "np.sqrt(np.var(X))"
   ]
  },
  {
   "cell_type": "code",
   "execution_count": 92,
   "id": "599e7592",
   "metadata": {},
   "outputs": [
    {
     "data": {
      "text/plain": [
       "1.4142135623730951"
      ]
     },
     "execution_count": 92,
     "metadata": {},
     "output_type": "execute_result"
    }
   ],
   "source": [
    "np.std(X)"
   ]
  },
  {
   "cell_type": "markdown",
   "id": "1c608a4b",
   "metadata": {},
   "source": [
    "#### Pearson correlation coefficient\n",
    "\n",
    "\n",
    "\n",
    "[cite: wiki] It is the ratio between the covariance of two variables and the product of their standard deviations; thus it is essentially a normalised measurement of the covariance, such that the result always has a value between −1 and 1.\n",
    "\n",
    "\n",
    "$$\n",
    "\\rho_{X,Y} = \\frac{cov(X,Y)}{\\sigma_X\\sigma_Y}\n",
    "$$\n",
    "\n",
    "\n",
    "It is a measure of linear correlation between two sets of data.\n",
    "\n",
    "\n",
    "<a title=\"Kiatdd, CC BY-SA 3.0 &lt;https://creativecommons.org/licenses/by-sa/3.0&gt;, via Wikimedia Commons\" href=\"https://commons.wikimedia.org/wiki/File:Correlation_coefficient.png\"><img width=\"512\" alt=\"Correlation coefficient\" src=\"https://upload.wikimedia.org/wikipedia/commons/thumb/3/34/Correlation_coefficient.png/512px-Correlation_coefficient.png\"></a>\n",
    "\n",
    "\n",
    "\n",
    "<a title=\"DenisBoigelot, original uploader was Imagecreator, CC0, via Wikimedia Commons\" href=\"https://upload.wikimedia.org/wikipedia/commons/thumb/d/d4/Correlation_examples2.svg/2560px-Correlation_examples2.svg.png\">\n",
    "    <img width=\"512\" alt=\"Correlation examples2\" src=\"https://upload.wikimedia.org/wikipedia/commons/thumb/d/d4/Correlation_examples2.svg/256px-Correlation_examples2.svg.png\"></a>\n",
    "\n",
    "\n",
    "<a href=\"https://commons.wikimedia.org/wiki/File:Correlation_examples2.svg\">DenisBoigelot, original uploader was Imagecreator</a>, CC0, via Wikimedia Commons\n",
    "\n",
    "\n",
    "Take a note: correlation is not causality, see <a href=\"https://www.tylervigen.com/spurious-correlations\">here</a>"
   ]
  },
  {
   "cell_type": "code",
   "execution_count": 96,
   "id": "456b5db2",
   "metadata": {},
   "outputs": [
    {
     "data": {
      "text/plain": [
       "array([[1., 1.],\n",
       "       [1., 1.]])"
      ]
     },
     "execution_count": 96,
     "metadata": {},
     "output_type": "execute_result"
    }
   ],
   "source": [
    "np.corrcoef(X,Y)"
   ]
  },
  {
   "cell_type": "code",
   "execution_count": 97,
   "id": "d8f90998",
   "metadata": {},
   "outputs": [],
   "source": [
    "np.corrcoef?"
   ]
  },
  {
   "cell_type": "markdown",
   "id": "fe876d4d",
   "metadata": {},
   "source": [
    "# Probabilities"
   ]
  },
  {
   "cell_type": "code",
   "execution_count": null,
   "id": "324515a2",
   "metadata": {},
   "outputs": [],
   "source": []
  }
 ],
 "metadata": {
  "kernelspec": {
   "display_name": "Python 3 (ipykernel)",
   "language": "python",
   "name": "python3"
  },
  "language_info": {
   "codemirror_mode": {
    "name": "ipython",
    "version": 3
   },
   "file_extension": ".py",
   "mimetype": "text/x-python",
   "name": "python",
   "nbconvert_exporter": "python",
   "pygments_lexer": "ipython3",
   "version": "3.9.4"
  }
 },
 "nbformat": 4,
 "nbformat_minor": 5
}
