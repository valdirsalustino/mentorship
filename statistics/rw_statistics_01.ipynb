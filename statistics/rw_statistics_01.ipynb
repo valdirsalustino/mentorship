{
 "cells": [
  {
   "cell_type": "markdown",
   "id": "605962d0",
   "metadata": {},
   "source": [
    "# Review of descriptive statistics\n",
    "------\n",
    "\n",
    "Lets review some descriptive statistics. "
   ]
  },
  {
   "cell_type": "markdown",
   "id": "c9636b5b",
   "metadata": {},
   "source": [
    "#### average / mean\n",
    "\n",
    "This is simple: represent the mean value.\n",
    "\n",
    "$$\\mu = \\frac{1}{N}\\sum_i^N a_i$$"
   ]
  },
  {
   "cell_type": "code",
   "execution_count": 1,
   "id": "6c52e3a3",
   "metadata": {},
   "outputs": [
    {
     "name": "stdout",
     "output_type": "stream",
     "text": [
      "5.666666666666667\n"
     ]
    }
   ],
   "source": [
    "import numpy as np\n",
    "a = [3, 5, 9]\n",
    "np.mean(a)\n",
    "\n",
    "assert np.mean(a) == sum(a)/len(a)\n",
    "\n",
    "print(np.mean(a))"
   ]
  },
  {
   "cell_type": "code",
   "execution_count": 2,
   "id": "c2207df8",
   "metadata": {},
   "outputs": [
    {
     "data": {
      "text/plain": [
       "9"
      ]
     },
     "execution_count": 2,
     "metadata": {},
     "output_type": "execute_result"
    }
   ],
   "source": [
    "np.square(3)"
   ]
  },
  {
   "cell_type": "code",
   "execution_count": 3,
   "id": "d46d2f96",
   "metadata": {},
   "outputs": [
    {
     "data": {
      "text/plain": [
       "2.494438257849294"
      ]
     },
     "execution_count": 3,
     "metadata": {},
     "output_type": "execute_result"
    }
   ],
   "source": [
    "mean = 5.666666666666667\n",
    "\n",
    "np.sqrt((np.square(3 - mean) + np.square(5 - mean) + np.square(9 - mean))/3)"
   ]
  },
  {
   "cell_type": "markdown",
   "id": "17165c15",
   "metadata": {},
   "source": [
    "#### standard deviation: \n",
    "\n",
    "* Discrete random variable: \n",
    "\n",
    "$$\\sigma = \\sqrt{\\frac{1}{N} \\sum_i^N (x_i - \\mu)^2}$$\n"
   ]
  },
  {
   "cell_type": "code",
   "execution_count": 4,
   "id": "8f8543b1",
   "metadata": {},
   "outputs": [
    {
     "data": {
      "text/plain": [
       "2.494438257849294"
      ]
     },
     "execution_count": 4,
     "metadata": {},
     "output_type": "execute_result"
    }
   ],
   "source": [
    "np.std(a)"
   ]
  },
  {
   "cell_type": "markdown",
   "id": "c0dc654d",
   "metadata": {},
   "source": [
    "Standard deviations represents the dispersion. Low standard deviation indicates that the values are close to the mean value. \n",
    "\n",
    "<!-- <img src=\"figs/std.png\" style=\"width: 350px;\"> -->\n",
    "\n",
    "<a title=\"M. W. Toews, CC BY 2.5 &lt;https://creativecommons.org/licenses/by/2.5&gt;, via Wikimedia Commons\" href=\"https://commons.wikimedia.org/wiki/File:Standard_deviation_diagram.svg\"><img width=\"256\" alt=\"Standard deviation diagram\" src=\"https://upload.wikimedia.org/wikipedia/commons/thumb/8/8c/Standard_deviation_diagram.svg/256px-Standard_deviation_diagram.svg.png\"></a>\n",
    "\n",
    "\n",
    "1 standard deviation width represents 68.2% of all the data distribution. We will see more details in the histogram review and how its relates to histogram width-height and gaussian. The variance is equal to standard deviation squared sometimes descibed as $\\sigma^2$."
   ]
  },
  {
   "cell_type": "code",
   "execution_count": 5,
   "id": "bcf3980a",
   "metadata": {},
   "outputs": [
    {
     "data": {
      "text/plain": [
       "71.83333333333333"
      ]
     },
     "execution_count": 5,
     "metadata": {},
     "output_type": "execute_result"
    }
   ],
   "source": [
    "a = [73, 68, 70, 50, 80, 90]\n",
    "np.mean(a)"
   ]
  },
  {
   "cell_type": "code",
   "execution_count": 6,
   "id": "ee84b2c4",
   "metadata": {},
   "outputs": [
    {
     "data": {
      "text/plain": [
       "12.19858826076016"
      ]
     },
     "execution_count": 6,
     "metadata": {},
     "output_type": "execute_result"
    }
   ],
   "source": [
    "np.std(a)"
   ]
  },
  {
   "cell_type": "code",
   "execution_count": 7,
   "id": "10a917e2",
   "metadata": {},
   "outputs": [
    {
     "data": {
      "text/plain": [
       "(62.07242983841868, 81.59423682824799)"
      ]
     },
     "execution_count": 7,
     "metadata": {},
     "output_type": "execute_result"
    }
   ],
   "source": [
    "np.mean(a) - 1.96*np.std(a)/np.sqrt(len(a)), np.mean(a) + 1.96*np.std(a)/np.sqrt(len(a)) # confidence interval 95CL%"
   ]
  },
  {
   "cell_type": "markdown",
   "id": "5f232932",
   "metadata": {},
   "source": [
    "From the above mass sample: 68% of human mass is between 59.63kg to 84.03kg"
   ]
  },
  {
   "cell_type": "markdown",
   "id": "f1c741d4",
   "metadata": {},
   "source": [
    "#### Mode\n",
    "\n",
    "The mode is the value that appears most often in a set of data values."
   ]
  },
  {
   "cell_type": "code",
   "execution_count": 8,
   "id": "a0805875",
   "metadata": {},
   "outputs": [
    {
     "data": {
      "text/plain": [
       "1    3\n",
       "3    1\n",
       "4    1\n",
       "5    1\n",
       "6    1\n",
       "dtype: int64"
      ]
     },
     "execution_count": 8,
     "metadata": {},
     "output_type": "execute_result"
    }
   ],
   "source": [
    "import pandas as pd\n",
    "a = [1, 1, 1, 3, 4, 5, 6]\n",
    "\n",
    "pd.Series(a).value_counts()"
   ]
  },
  {
   "cell_type": "markdown",
   "id": "62924451",
   "metadata": {},
   "source": [
    "#### Median\n",
    "\n",
    "Median is the value separating the higher half from the lower half of a data sample, a population, or a probability distribution."
   ]
  },
  {
   "cell_type": "code",
   "execution_count": 9,
   "id": "c8f477e0",
   "metadata": {},
   "outputs": [],
   "source": [
    "a = [10, 20, 30, 15, 50, 60, 70]"
   ]
  },
  {
   "cell_type": "code",
   "execution_count": 10,
   "id": "9d323220",
   "metadata": {},
   "outputs": [
    {
     "data": {
      "text/plain": [
       "[10, 15, 20, 30, 50, 60, 70]"
      ]
     },
     "execution_count": 10,
     "metadata": {},
     "output_type": "execute_result"
    }
   ],
   "source": [
    "sorted(a)"
   ]
  },
  {
   "cell_type": "code",
   "execution_count": 11,
   "id": "56137626",
   "metadata": {},
   "outputs": [
    {
     "data": {
      "text/plain": [
       "(30.0, 36.42857142857143)"
      ]
     },
     "execution_count": 11,
     "metadata": {},
     "output_type": "execute_result"
    }
   ],
   "source": [
    "np.median(a), np.mean(a)"
   ]
  },
  {
   "cell_type": "code",
   "execution_count": 12,
   "id": "a681856d",
   "metadata": {},
   "outputs": [
    {
     "data": {
      "text/plain": [
       "30.0"
      ]
     },
     "execution_count": 12,
     "metadata": {},
     "output_type": "execute_result"
    }
   ],
   "source": [
    "np.median(a)"
   ]
  },
  {
   "cell_type": "markdown",
   "id": "60a21349",
   "metadata": {},
   "source": [
    "<a title=\"Cmglee, CC BY-SA 3.0 &lt;https://creativecommons.org/licenses/by-sa/3.0&gt;, via Wikimedia Commons\" href=\"https://commons.wikimedia.org/wiki/File:Visualisation_mode_median_mean.svg\"><img width=\"256\" alt=\"Visualisation mode median mean\" src=\"https://upload.wikimedia.org/wikipedia/commons/thumb/3/33/Visualisation_mode_median_mean.svg/256px-Visualisation_mode_median_mean.svg.png\"></a>"
   ]
  },
  {
   "cell_type": "markdown",
   "id": "16c1e2bd",
   "metadata": {},
   "source": [
    "#### Root Mean square  (RMS)\n",
    "\n",
    "Root Mean Square (RMS or rms) is defined as the square root of the mean square (the arithmetic mean of the squares of a set of numbers)\n",
    "\n",
    "\n",
    "$$\n",
    "x_{RMS} = \\sqrt{\\frac{1}{N}\\sum_i^N x_i^2} = \\sqrt{\\frac{1}{N}(x_1^2 + x_2^2 \\cdots x_N^2)}\n",
    "$$\n",
    "\n",
    "\n",
    "RMS of the pairwise differences of the two data sets can serve as a measure how far on average the error is from 0 (predicted vs measured values)."
   ]
  },
  {
   "cell_type": "code",
   "execution_count": 13,
   "id": "6abab8b7",
   "metadata": {},
   "outputs": [],
   "source": [
    "def rms(a): \n",
    "    return np.sqrt(np.square(a).sum()/len(a))"
   ]
  },
  {
   "cell_type": "code",
   "execution_count": 14,
   "id": "05cd05ed",
   "metadata": {},
   "outputs": [
    {
     "data": {
      "text/plain": [
       "42.46847570341357"
      ]
     },
     "execution_count": 14,
     "metadata": {},
     "output_type": "execute_result"
    }
   ],
   "source": [
    "rms(a)"
   ]
  },
  {
   "cell_type": "markdown",
   "id": "80d9f5cb",
   "metadata": {},
   "source": [
    "#### Examples"
   ]
  },
  {
   "cell_type": "code",
   "execution_count": 15,
   "id": "e43a9665",
   "metadata": {},
   "outputs": [],
   "source": [
    "import pandas as pd\n",
    "from statadict import parse_stata_dict\n",
    "\n",
    "stata_dict = parse_stata_dict('../../ThinkStats2/code/2002FemPreg.dct')\n",
    "\n",
    "df = pd.read_fwf('../../ThinkStats2/code/2002FemPreg.dat', \n",
    "                 names=stata_dict.names, \n",
    "                 colspecs=stata_dict.colspecs)"
   ]
  },
  {
   "cell_type": "code",
   "execution_count": 16,
   "id": "3391f59a",
   "metadata": {},
   "outputs": [
    {
     "data": {
      "text/html": [
       "<div>\n",
       "<style scoped>\n",
       "    .dataframe tbody tr th:only-of-type {\n",
       "        vertical-align: middle;\n",
       "    }\n",
       "\n",
       "    .dataframe tbody tr th {\n",
       "        vertical-align: top;\n",
       "    }\n",
       "\n",
       "    .dataframe thead th {\n",
       "        text-align: right;\n",
       "    }\n",
       "</style>\n",
       "<table border=\"1\" class=\"dataframe\">\n",
       "  <thead>\n",
       "    <tr style=\"text-align: right;\">\n",
       "      <th></th>\n",
       "      <th>caseid</th>\n",
       "      <th>pregordr</th>\n",
       "      <th>howpreg_n</th>\n",
       "      <th>howpreg_p</th>\n",
       "      <th>moscurrp</th>\n",
       "      <th>nowprgdk</th>\n",
       "      <th>pregend1</th>\n",
       "      <th>pregend2</th>\n",
       "      <th>nbrnaliv</th>\n",
       "      <th>multbrth</th>\n",
       "      <th>...</th>\n",
       "      <th>poverty_i</th>\n",
       "      <th>laborfor_i</th>\n",
       "      <th>religion_i</th>\n",
       "      <th>metro_i</th>\n",
       "      <th>basewgt</th>\n",
       "      <th>adj_mod_basewgt</th>\n",
       "      <th>finalwgt</th>\n",
       "      <th>secu_p</th>\n",
       "      <th>sest</th>\n",
       "      <th>cmintvw</th>\n",
       "    </tr>\n",
       "  </thead>\n",
       "  <tbody>\n",
       "    <tr>\n",
       "      <th>0</th>\n",
       "      <td>1</td>\n",
       "      <td>1</td>\n",
       "      <td>NaN</td>\n",
       "      <td>NaN</td>\n",
       "      <td>NaN</td>\n",
       "      <td>NaN</td>\n",
       "      <td>6.0</td>\n",
       "      <td>NaN</td>\n",
       "      <td>1.0</td>\n",
       "      <td>NaN</td>\n",
       "      <td>...</td>\n",
       "      <td>0</td>\n",
       "      <td>0</td>\n",
       "      <td>0</td>\n",
       "      <td>0</td>\n",
       "      <td>3410.389399</td>\n",
       "      <td>3869.349602</td>\n",
       "      <td>6448.271112</td>\n",
       "      <td>2</td>\n",
       "      <td>9</td>\n",
       "      <td>1231</td>\n",
       "    </tr>\n",
       "    <tr>\n",
       "      <th>1</th>\n",
       "      <td>1</td>\n",
       "      <td>2</td>\n",
       "      <td>NaN</td>\n",
       "      <td>NaN</td>\n",
       "      <td>NaN</td>\n",
       "      <td>NaN</td>\n",
       "      <td>6.0</td>\n",
       "      <td>NaN</td>\n",
       "      <td>1.0</td>\n",
       "      <td>NaN</td>\n",
       "      <td>...</td>\n",
       "      <td>0</td>\n",
       "      <td>0</td>\n",
       "      <td>0</td>\n",
       "      <td>0</td>\n",
       "      <td>3410.389399</td>\n",
       "      <td>3869.349602</td>\n",
       "      <td>6448.271112</td>\n",
       "      <td>2</td>\n",
       "      <td>9</td>\n",
       "      <td>1231</td>\n",
       "    </tr>\n",
       "    <tr>\n",
       "      <th>2</th>\n",
       "      <td>2</td>\n",
       "      <td>1</td>\n",
       "      <td>NaN</td>\n",
       "      <td>NaN</td>\n",
       "      <td>NaN</td>\n",
       "      <td>NaN</td>\n",
       "      <td>5.0</td>\n",
       "      <td>NaN</td>\n",
       "      <td>3.0</td>\n",
       "      <td>5.0</td>\n",
       "      <td>...</td>\n",
       "      <td>0</td>\n",
       "      <td>0</td>\n",
       "      <td>0</td>\n",
       "      <td>0</td>\n",
       "      <td>7226.301740</td>\n",
       "      <td>8567.549110</td>\n",
       "      <td>12999.542264</td>\n",
       "      <td>2</td>\n",
       "      <td>12</td>\n",
       "      <td>1231</td>\n",
       "    </tr>\n",
       "  </tbody>\n",
       "</table>\n",
       "<p>3 rows × 243 columns</p>\n",
       "</div>"
      ],
      "text/plain": [
       "   caseid  pregordr  howpreg_n  howpreg_p  moscurrp  nowprgdk  pregend1  \\\n",
       "0       1         1        NaN        NaN       NaN       NaN       6.0   \n",
       "1       1         2        NaN        NaN       NaN       NaN       6.0   \n",
       "2       2         1        NaN        NaN       NaN       NaN       5.0   \n",
       "\n",
       "   pregend2  nbrnaliv  multbrth  ...  poverty_i  laborfor_i  religion_i  \\\n",
       "0       NaN       1.0       NaN  ...          0           0           0   \n",
       "1       NaN       1.0       NaN  ...          0           0           0   \n",
       "2       NaN       3.0       5.0  ...          0           0           0   \n",
       "\n",
       "   metro_i      basewgt  adj_mod_basewgt      finalwgt  secu_p  sest  cmintvw  \n",
       "0        0  3410.389399      3869.349602   6448.271112       2     9     1231  \n",
       "1        0  3410.389399      3869.349602   6448.271112       2     9     1231  \n",
       "2        0  7226.301740      8567.549110  12999.542264       2    12     1231  \n",
       "\n",
       "[3 rows x 243 columns]"
      ]
     },
     "execution_count": 16,
     "metadata": {},
     "output_type": "execute_result"
    }
   ],
   "source": [
    "df[:3]"
   ]
  },
  {
   "cell_type": "markdown",
   "id": "32755727",
   "metadata": {},
   "source": [
    "Some feature description from ThinkStats2 book: \n",
    "\n",
    "* `caseid` is the integer ID of the respondent.\n",
    "\n",
    "* `prglength` is the integer duration of the pregnancy in weeks.\n",
    "\n",
    "* `outcome` is an integer code for the outcome of the pregnancy. The code 1 indicates a live birth.\n",
    "\n",
    "* `pregordr` is a pregnancy serial number; for example, the code for a respondent’s first pregnancy is 1, for the second pregnancy is 2, and so on.\n",
    "\n",
    "* `birthord` is a serial number for live births; the code for a respondent’s first child is 1, and so on. For outcomes other than live births, this field is blank.\n",
    "\n",
    "* `birthwgt_lb` and `birthwgt_oz` contain the pounds and ounces parts of the birth weight of the baby.\n",
    "\n",
    "* `agepreg` is the mother’s age at the end of the pregnancy.\n",
    "\n",
    "* `finalwgt` is the statistical weight associated with the respondent. It is a floating-point value that indicates the number of people in the U.S. population this respondent represents.\n"
   ]
  },
  {
   "cell_type": "code",
   "execution_count": 17,
   "id": "ed112f22",
   "metadata": {},
   "outputs": [],
   "source": [
    "import sys\n",
    "sys.path.append('/Users/Valdir.Salustino@ibm.com/Documents/git/ThinkStats2/code')\n",
    "\n",
    "from nsfg import CleanFemPreg\n",
    "\n",
    "# perform some cleanup\n",
    "CleanFemPreg(df)"
   ]
  },
  {
   "cell_type": "code",
   "execution_count": 18,
   "id": "14291d77",
   "metadata": {},
   "outputs": [],
   "source": [
    "POUND_TO_KG = 0.453592\n",
    "\n",
    "df['totalwgt_kg'] = df['totalwgt_lb']*POUND_TO_KG"
   ]
  },
  {
   "cell_type": "code",
   "execution_count": 19,
   "id": "97db9e71",
   "metadata": {},
   "outputs": [
    {
     "name": "stdout",
     "output_type": "stream",
     "text": [
      "mean: 7.265628457623368\n",
      "std: 1.4082934455690173\n",
      "median: 7.375\n",
      "rms: 7.4008396735760025\n",
      "mode: 7.5\n",
      "\n",
      "----------------------------------------\n",
      "\n",
      "mean: 3.2956309433502984\n",
      "std: 0.6387906405625416\n",
      "median: 3.345241\n",
      "rms: 3.356961669216686\n",
      "mode: 3.4019399999999997\n"
     ]
    }
   ],
   "source": [
    "print('mean:', df['totalwgt_lb'].mean())\n",
    "print('std:',  df['totalwgt_lb'].std())\n",
    "print('median:', df['totalwgt_lb'].median())\n",
    "print('rms:', rms(df['totalwgt_lb'].dropna().values))\n",
    "print('mode:', df['totalwgt_lb'].mode().values[0]) \n",
    "print()\n",
    "print('-'*40)\n",
    "print()\n",
    "print('mean:', df['totalwgt_kg'].mean())\n",
    "print('std:',  df['totalwgt_kg'].std())\n",
    "print('median:', df['totalwgt_kg'].median())\n",
    "print('rms:', rms(df['totalwgt_kg'].dropna().values))\n",
    "print('mode:', df['totalwgt_kg'].mode().values[0]) \n"
   ]
  },
  {
   "cell_type": "markdown",
   "id": "67b8bc01",
   "metadata": {},
   "source": [
    "```\n",
    "\n",
    "value\tlabel\t \t        Total\n",
    "1\tLIVE BIRTH              9148\n",
    "2\tINDUCED ABORTION        1862\n",
    "3\tSTILLBIRTH               120\n",
    "4\tMISCARRIAGE             1921\n",
    "5\tECTOPIC PREGNANCY        190\n",
    "6\tCURRENT PREGNANCY        352\n",
    "\n",
    "```"
   ]
  },
  {
   "cell_type": "code",
   "execution_count": 20,
   "id": "dd011603",
   "metadata": {},
   "outputs": [
    {
     "data": {
      "text/plain": [
       "1    9148\n",
       "2    1862\n",
       "3     120\n",
       "4    1921\n",
       "5     190\n",
       "6     352\n",
       "Name: outcome, dtype: int64"
      ]
     },
     "execution_count": 20,
     "metadata": {},
     "output_type": "execute_result"
    }
   ],
   "source": [
    "df.outcome.value_counts().sort_index()"
   ]
  },
  {
   "cell_type": "code",
   "execution_count": 21,
   "id": "3b2726b2",
   "metadata": {},
   "outputs": [
    {
     "data": {
      "text/plain": [
       "11093    4\n",
       "11094    4\n",
       "11095    4\n",
       "11096    4\n",
       "11097    4\n",
       "11098    4\n",
       "11099    1\n",
       "Name: outcome, dtype: int64"
      ]
     },
     "execution_count": 21,
     "metadata": {},
     "output_type": "execute_result"
    }
   ],
   "source": [
    "df[df['caseid'] == 10229].sort_values('datend')['outcome']"
   ]
  },
  {
   "cell_type": "markdown",
   "id": "83e44320",
   "metadata": {},
   "source": [
    "# Correlations: \n",
    "\n",
    "\n",
    "#### Covariance: \n",
    "Covariance is a measure of the joint variability of two random variables. \n",
    "\n",
    "\n",
    "<a title=\"Cmglee, CC BY-SA 4.0 &lt;https://creativecommons.org/licenses/by-sa/4.0&gt;, via Wikimedia Commons\" href=\"https://commons.wikimedia.org/wiki/File:Covariance_trends.svg\"><img width=\"128\" alt=\"Covariance trends\" src=\"https://upload.wikimedia.org/wikipedia/commons/thumb/a/a0/Covariance_trends.svg/128px-Covariance_trends.svg.png\"></a>\n",
    "\n",
    "**Formal definition:**\n",
    "\n",
    "$$\n",
    "cov(X,Y) = E[(X - E[X])(Y - E[y])]\n",
    "$$\n",
    "\n",
    "\n",
    "[from wiki]: For two jointly distributed real-valued random variables {\\displaystyle X}X and {\\displaystyle Y}Y with finite second moments, the covariance is defined as the expected value (or mean) of the product of their deviations from their individual expected values\n",
    "\n",
    "\n",
    "\n",
    "If the (real) random variable pair $(X,Y)$ can take on the values $(x_i, y_i)$ for $i = (1,...,N)$ with equal probabilities $p_i = 1/N$ then the covariance can be equivalently written in terms of the means $E(X)$ and $E(Y)$ as \n",
    "\n",
    "$$\n",
    "cov(X,Y) = \\frac{1}{N}\\sum_i^N(x_i - E(Y))(y_i - E(Y))\n",
    "$$\n",
    "\n",
    "\n",
    "Note: $cov(X,X) = \\sigma^2$"
   ]
  },
  {
   "cell_type": "code",
   "execution_count": 22,
   "id": "5da1254a",
   "metadata": {},
   "outputs": [],
   "source": [
    "X = np.array([1, 2, 3, 4, 5])\n",
    "Y = 0.3*X\n",
    "# Y = np.square(X)"
   ]
  },
  {
   "cell_type": "code",
   "execution_count": 23,
   "id": "3a51c423",
   "metadata": {},
   "outputs": [
    {
     "data": {
      "text/plain": [
       "array([1, 2, 3, 4, 5])"
      ]
     },
     "execution_count": 23,
     "metadata": {},
     "output_type": "execute_result"
    }
   ],
   "source": [
    "X"
   ]
  },
  {
   "cell_type": "code",
   "execution_count": 24,
   "id": "f4ad58cb",
   "metadata": {},
   "outputs": [
    {
     "data": {
      "text/plain": [
       "array([0.3, 0.6, 0.9, 1.2, 1.5])"
      ]
     },
     "execution_count": 24,
     "metadata": {},
     "output_type": "execute_result"
    }
   ],
   "source": [
    "Y"
   ]
  },
  {
   "cell_type": "code",
   "execution_count": 25,
   "id": "f8e0da6b",
   "metadata": {},
   "outputs": [],
   "source": [
    "from matplotlib import pyplot as plt"
   ]
  },
  {
   "cell_type": "code",
   "execution_count": 26,
   "id": "6848bf58",
   "metadata": {},
   "outputs": [
    {
     "data": {
      "text/plain": [
       "Text(0, 0.5, 'Y')"
      ]
     },
     "execution_count": 26,
     "metadata": {},
     "output_type": "execute_result"
    },
    {
     "data": {
      "image/png": "[encoded data removed]",
      "text/plain": [
       "<Figure size 432x288 with 1 Axes>"
      ]
     },
     "metadata": {
      "needs_background": "light"
     },
     "output_type": "display_data"
    }
   ],
   "source": [
    "plt.scatter(X,Y)\n",
    "plt.xlabel('X')\n",
    "plt.ylabel('Y')"
   ]
  },
  {
   "cell_type": "code",
   "execution_count": 27,
   "id": "046f3e48",
   "metadata": {},
   "outputs": [
    {
     "data": {
      "text/plain": [
       "array([[2.  , 0.6 ],\n",
       "       [0.6 , 0.18]])"
      ]
     },
     "execution_count": 27,
     "metadata": {},
     "output_type": "execute_result"
    }
   ],
   "source": [
    "np.cov(X,Y, bias=True)"
   ]
  },
  {
   "cell_type": "code",
   "execution_count": 28,
   "id": "7c8a9d2a",
   "metadata": {},
   "outputs": [],
   "source": [
    "# cov(X*X) cov(X*Y)\n",
    "# cov(Y*X) cov(Y*Y)"
   ]
  },
  {
   "cell_type": "code",
   "execution_count": 29,
   "id": "11a09ae4",
   "metadata": {},
   "outputs": [
    {
     "data": {
      "text/plain": [
       "array([1, 2, 3, 4, 5])"
      ]
     },
     "execution_count": 29,
     "metadata": {},
     "output_type": "execute_result"
    }
   ],
   "source": [
    "X"
   ]
  },
  {
   "cell_type": "code",
   "execution_count": 30,
   "id": "cdeefeba",
   "metadata": {},
   "outputs": [
    {
     "data": {
      "text/plain": [
       "2.0"
      ]
     },
     "execution_count": 30,
     "metadata": {},
     "output_type": "execute_result"
    }
   ],
   "source": [
    "np.var(X)"
   ]
  },
  {
   "cell_type": "code",
   "execution_count": 31,
   "id": "2fa178a9",
   "metadata": {},
   "outputs": [
    {
     "data": {
      "text/plain": [
       "1.4142135623730951"
      ]
     },
     "execution_count": 31,
     "metadata": {},
     "output_type": "execute_result"
    }
   ],
   "source": [
    "np.sqrt(np.var(X))"
   ]
  },
  {
   "cell_type": "code",
   "execution_count": 32,
   "id": "599e7592",
   "metadata": {},
   "outputs": [
    {
     "data": {
      "text/plain": [
       "1.4142135623730951"
      ]
     },
     "execution_count": 32,
     "metadata": {},
     "output_type": "execute_result"
    }
   ],
   "source": [
    "np.std(X)"
   ]
  },
  {
   "cell_type": "markdown",
   "id": "1c608a4b",
   "metadata": {},
   "source": [
    "#### Pearson correlation coefficient\n",
    "\n",
    "\n",
    "\n",
    "[cite: wiki] It is the ratio between the covariance of two variables and the product of their standard deviations; thus it is essentially a normalised measurement of the covariance, such that the result always has a value between −1 and 1.\n",
    "\n",
    "\n",
    "$$\n",
    "\\rho_{X,Y} = \\frac{cov(X,Y)}{\\sigma_X\\sigma_Y}\n",
    "$$\n",
    "\n",
    "\n",
    "It is a measure of linear correlation between two sets of data.\n",
    "\n",
    "\n",
    "<a title=\"Kiatdd, CC BY-SA 3.0 &lt;https://creativecommons.org/licenses/by-sa/3.0&gt;, via Wikimedia Commons\" href=\"https://commons.wikimedia.org/wiki/File:Correlation_coefficient.png\"><img width=\"512\" alt=\"Correlation coefficient\" src=\"https://upload.wikimedia.org/wikipedia/commons/thumb/3/34/Correlation_coefficient.png/512px-Correlation_coefficient.png\"></a>\n",
    "\n",
    "\n",
    "\n",
    "<a title=\"DenisBoigelot, original uploader was Imagecreator, CC0, via Wikimedia Commons\" href=\"https://upload.wikimedia.org/wikipedia/commons/thumb/d/d4/Correlation_examples2.svg/2560px-Correlation_examples2.svg.png\">\n",
    "    <img width=\"512\" alt=\"Correlation examples2\" src=\"https://upload.wikimedia.org/wikipedia/commons/thumb/d/d4/Correlation_examples2.svg/256px-Correlation_examples2.svg.png\"></a>\n",
    "\n",
    "\n",
    "<a href=\"https://commons.wikimedia.org/wiki/File:Correlation_examples2.svg\">DenisBoigelot, original uploader was Imagecreator</a>, CC0, via Wikimedia Commons\n",
    "\n",
    "\n",
    "Take a note: correlation is not causality, see <a href=\"https://www.tylervigen.com/spurious-correlations\">here</a>"
   ]
  },
  {
   "cell_type": "code",
   "execution_count": 33,
   "id": "bd6a5ca2",
   "metadata": {},
   "outputs": [],
   "source": [
    "X\n",
    "\n",
    "Y = np.sqrt(X)"
   ]
  },
  {
   "cell_type": "code",
   "execution_count": 34,
   "id": "b4940a8d",
   "metadata": {},
   "outputs": [
    {
     "data": {
      "text/plain": [
       "array([1, 2, 3, 4, 5])"
      ]
     },
     "execution_count": 34,
     "metadata": {},
     "output_type": "execute_result"
    }
   ],
   "source": [
    "X"
   ]
  },
  {
   "cell_type": "code",
   "execution_count": 35,
   "id": "73262528",
   "metadata": {},
   "outputs": [
    {
     "data": {
      "text/plain": [
       "array([1.        , 1.41421356, 1.73205081, 2.        , 2.23606798])"
      ]
     },
     "execution_count": 35,
     "metadata": {},
     "output_type": "execute_result"
    }
   ],
   "source": [
    "Y"
   ]
  },
  {
   "cell_type": "code",
   "execution_count": 36,
   "id": "d9c4538f",
   "metadata": {},
   "outputs": [
    {
     "data": {
      "text/plain": [
       "array([[1.        , 0.99353344],\n",
       "       [0.99353344, 1.        ]])"
      ]
     },
     "execution_count": 36,
     "metadata": {},
     "output_type": "execute_result"
    }
   ],
   "source": [
    "np.corrcoef(X,Y)"
   ]
  },
  {
   "cell_type": "markdown",
   "id": "3e80136b",
   "metadata": {},
   "source": [
    "# Probabilities"
   ]
  },
  {
   "cell_type": "code",
   "execution_count": 37,
   "id": "7959a760",
   "metadata": {},
   "outputs": [],
   "source": [
    "a = ['A', 'A', 'B', 'B','B','B','B']"
   ]
  },
  {
   "cell_type": "code",
   "execution_count": 38,
   "id": "4b165036",
   "metadata": {},
   "outputs": [
    {
     "data": {
      "text/plain": [
       "0.2857142857142857"
      ]
     },
     "execution_count": 38,
     "metadata": {},
     "output_type": "execute_result"
    }
   ],
   "source": [
    "p_theory = 2/7\n",
    "p_theory"
   ]
  },
  {
   "cell_type": "code",
   "execution_count": 39,
   "id": "8552d076",
   "metadata": {},
   "outputs": [],
   "source": [
    "import random"
   ]
  },
  {
   "cell_type": "code",
   "execution_count": 40,
   "id": "59e52adc",
   "metadata": {},
   "outputs": [
    {
     "data": {
      "text/plain": [
       "'A'"
      ]
     },
     "execution_count": 40,
     "metadata": {},
     "output_type": "execute_result"
    }
   ],
   "source": [
    "random.choice(a)"
   ]
  },
  {
   "cell_type": "code",
   "execution_count": 41,
   "id": "2afece92",
   "metadata": {},
   "outputs": [],
   "source": [
    "probabilities = []\n",
    "\n",
    "\n",
    "for i in range(100): \n",
    "    values = []\n",
    "    for j in range(10):\n",
    "\n",
    "        extracted = random.choice(a)\n",
    "\n",
    "        if extracted == 'A': \n",
    "            values.append('correct')\n",
    "        else: \n",
    "            values.append('fail')\n",
    "\n",
    "    num = len([i for i in values if i == 'correct'])\n",
    "    den = len(values)\n",
    "\n",
    "    probabilities.append(num/den)"
   ]
  },
  {
   "cell_type": "code",
   "execution_count": 42,
   "id": "2832c639",
   "metadata": {},
   "outputs": [
    {
     "data": {
      "text/plain": [
       "100"
      ]
     },
     "execution_count": 42,
     "metadata": {},
     "output_type": "execute_result"
    }
   ],
   "source": [
    "len(probabilities)"
   ]
  },
  {
   "cell_type": "code",
   "execution_count": 43,
   "id": "b3f8464d",
   "metadata": {},
   "outputs": [
    {
     "data": {
      "text/plain": [
       "(array([ 3.,  0.,  0.,  0.,  0., 16.,  0.,  0.,  0.,  0., 20.,  0.,  0.,\n",
       "         0.,  0., 26.,  0.,  0.,  0.,  0., 20.,  0.,  0.,  0.,  0.,  9.,\n",
       "         0.,  0.,  0.,  0.,  4.,  0.,  0.,  0.,  2.,  0.,  0.,  0.,  0.,\n",
       "         0.,  0.,  0.,  0.,  0.,  0.,  0.,  0.,  0.,  0.,  0.]),\n",
       " array([0.  , 0.02, 0.04, 0.06, 0.08, 0.1 , 0.12, 0.14, 0.16, 0.18, 0.2 ,\n",
       "        0.22, 0.24, 0.26, 0.28, 0.3 , 0.32, 0.34, 0.36, 0.38, 0.4 , 0.42,\n",
       "        0.44, 0.46, 0.48, 0.5 , 0.52, 0.54, 0.56, 0.58, 0.6 , 0.62, 0.64,\n",
       "        0.66, 0.68, 0.7 , 0.72, 0.74, 0.76, 0.78, 0.8 , 0.82, 0.84, 0.86,\n",
       "        0.88, 0.9 , 0.92, 0.94, 0.96, 0.98, 1.  ]),\n",
       " <BarContainer object of 50 artists>)"
      ]
     },
     "execution_count": 43,
     "metadata": {},
     "output_type": "execute_result"
    },
    {
     "data": {
      "image/png": "[encoded data removed]",
      "text/plain": [
       "<Figure size 432x288 with 1 Axes>"
      ]
     },
     "metadata": {
      "needs_background": "light"
     },
     "output_type": "display_data"
    }
   ],
   "source": [
    "plt.hist(probabilities, bins=50, range=(0,1))"
   ]
  },
  {
   "cell_type": "markdown",
   "id": "27a86ecf",
   "metadata": {},
   "source": [
    "* standard error: \n",
    "\n",
    "$$\n",
    "E_{e} = \\frac{\\sigma}{\\sqrt{N}}\n",
    "$$"
   ]
  },
  {
   "cell_type": "code",
   "execution_count": 44,
   "id": "9b118715",
   "metadata": {},
   "outputs": [
    {
     "data": {
      "text/plain": [
       "(0.297, 0.15326773959317075, 0.015326773959317076)"
      ]
     },
     "execution_count": 44,
     "metadata": {},
     "output_type": "execute_result"
    }
   ],
   "source": [
    "np.mean(probabilities), np.std(probabilities), np.std(probabilities)/np.sqrt(len(probabilities))"
   ]
  },
  {
   "cell_type": "code",
   "execution_count": 48,
   "id": "562dbf28",
   "metadata": {},
   "outputs": [],
   "source": [
    "# 0.285732 +/- 0.000141"
   ]
  },
  {
   "cell_type": "code",
   "execution_count": 49,
   "id": "95142e58",
   "metadata": {},
   "outputs": [
    {
     "data": {
      "text/plain": [
       "<ErrorbarContainer object of 3 artists>"
      ]
     },
     "execution_count": 49,
     "metadata": {},
     "output_type": "execute_result"
    },
    {
     "data": {
      "image/png": "[encoded data removed]",
      "text/plain": [
       "<Figure size 432x288 with 1 Axes>"
      ]
     },
     "metadata": {
      "needs_background": "light"
     },
     "output_type": "display_data"
    }
   ],
   "source": [
    "# import matplotlib.lines as mlines\n",
    "\n",
    "\n",
    "plt.errorbar([0,1], [0.285732, 2/7], yerr=[0.000141, 0], xerr=None, marker='o', linestyle='')\n",
    "# plt.plot(-0.04, 2/7, 0.04, 2/7, color='k')\n",
    "\n",
    "# mlines.Line2D([-0.04,0.04], [2/7,2/7])"
   ]
  },
  {
   "cell_type": "code",
   "execution_count": 50,
   "id": "d5299512",
   "metadata": {},
   "outputs": [
    {
     "data": {
      "text/plain": [
       "0.2857142857142857"
      ]
     },
     "execution_count": 50,
     "metadata": {},
     "output_type": "execute_result"
    }
   ],
   "source": [
    "2/7"
   ]
  },
  {
   "cell_type": "code",
   "execution_count": 51,
   "id": "46500e1d",
   "metadata": {},
   "outputs": [
    {
     "data": {
      "text/plain": [
       "(0.14373226040682924, 0.45026773959317073)"
      ]
     },
     "execution_count": 51,
     "metadata": {},
     "output_type": "execute_result"
    }
   ],
   "source": [
    "np.mean(probabilities) - np.std(probabilities), np.mean(probabilities) + np.std(probabilities)"
   ]
  },
  {
   "cell_type": "markdown",
   "id": "d0c9c01d",
   "metadata": {},
   "source": [
    "$$\n",
    "P = N_A/ N_T\n",
    "$$"
   ]
  },
  {
   "cell_type": "code",
   "execution_count": 52,
   "id": "a40db46c",
   "metadata": {},
   "outputs": [
    {
     "data": {
      "text/plain": [
       "1.0"
      ]
     },
     "execution_count": 52,
     "metadata": {},
     "output_type": "execute_result"
    }
   ],
   "source": [
    "2/7 + 5/7"
   ]
  },
  {
   "cell_type": "code",
   "execution_count": 53,
   "id": "04295d5d",
   "metadata": {},
   "outputs": [
    {
     "data": {
      "text/plain": [
       "1.0"
      ]
     },
     "execution_count": 53,
     "metadata": {},
     "output_type": "execute_result"
    }
   ],
   "source": [
    "0.2857142857142857 + 0.7142857142857143"
   ]
  },
  {
   "cell_type": "code",
   "execution_count": 54,
   "id": "c6e97f22",
   "metadata": {},
   "outputs": [
    {
     "data": {
      "text/plain": [
       "0.2040816326530612"
      ]
     },
     "execution_count": 54,
     "metadata": {},
     "output_type": "execute_result"
    }
   ],
   "source": [
    "2/7*5/7"
   ]
  },
  {
   "cell_type": "markdown",
   "id": "56f3caa7",
   "metadata": {},
   "source": [
    "# Distributions \n",
    "\n",
    "## Histograms"
   ]
  },
  {
   "cell_type": "code",
   "execution_count": 55,
   "id": "18cf5a44",
   "metadata": {},
   "outputs": [],
   "source": [
    "a = [5, 6, 3, 4, 4, 4, 6, 6]"
   ]
  },
  {
   "cell_type": "code",
   "execution_count": 56,
   "id": "f942784c",
   "metadata": {},
   "outputs": [
    {
     "data": {
      "image/png": "[encoded data removed]",
      "text/plain": [
       "<Figure size 432x288 with 1 Axes>"
      ]
     },
     "metadata": {
      "needs_background": "light"
     },
     "output_type": "display_data"
    }
   ],
   "source": [
    "_ = plt.hist(a, bins=10, range=(0,10))\n",
    "plt.grid()"
   ]
  },
  {
   "cell_type": "code",
   "execution_count": 57,
   "id": "5d1721a1",
   "metadata": {},
   "outputs": [
    {
     "data": {
      "text/plain": [
       "1.0"
      ]
     },
     "execution_count": 57,
     "metadata": {},
     "output_type": "execute_result"
    }
   ],
   "source": [
    "(10 - 0)/10"
   ]
  },
  {
   "cell_type": "code",
   "execution_count": 58,
   "id": "2a651340",
   "metadata": {},
   "outputs": [
    {
     "data": {
      "text/plain": [
       "(10.33, 44.08)"
      ]
     },
     "execution_count": 58,
     "metadata": {},
     "output_type": "execute_result"
    }
   ],
   "source": [
    "df['agepreg'].min(), df['agepreg'].max()"
   ]
  },
  {
   "cell_type": "code",
   "execution_count": 59,
   "id": "862cdc27",
   "metadata": {},
   "outputs": [
    {
     "data": {
      "text/plain": [
       "<AxesSubplot:>"
      ]
     },
     "execution_count": 59,
     "metadata": {},
     "output_type": "execute_result"
    },
    {
     "data": {
      "image/png": "[encoded data removed]",
      "text/plain": [
       "<Figure size 432x288 with 1 Axes>"
      ]
     },
     "metadata": {
      "needs_background": "light"
     },
     "output_type": "display_data"
    }
   ],
   "source": [
    "df['agepreg'].hist(bins=100, range=(df['agepreg'].min(), df['agepreg'].max()))"
   ]
  },
  {
   "cell_type": "code",
   "execution_count": 60,
   "id": "31f71daa",
   "metadata": {},
   "outputs": [
    {
     "data": {
      "text/plain": [
       "24.6881511970395"
      ]
     },
     "execution_count": 60,
     "metadata": {},
     "output_type": "execute_result"
    }
   ],
   "source": [
    "df['agepreg'].mean()"
   ]
  },
  {
   "cell_type": "code",
   "execution_count": 61,
   "id": "253e1c94",
   "metadata": {},
   "outputs": [
    {
     "data": {
      "text/plain": [
       "23.91"
      ]
     },
     "execution_count": 61,
     "metadata": {},
     "output_type": "execute_result"
    }
   ],
   "source": [
    "df['agepreg'].median()"
   ]
  },
  {
   "cell_type": "code",
   "execution_count": 62,
   "id": "9d1f3dec",
   "metadata": {},
   "outputs": [
    {
     "data": {
      "text/plain": [
       "0    22.75\n",
       "dtype: float64"
      ]
     },
     "execution_count": 62,
     "metadata": {},
     "output_type": "execute_result"
    }
   ],
   "source": [
    "df['agepreg'].mode()"
   ]
  },
  {
   "cell_type": "code",
   "execution_count": 63,
   "id": "53995495",
   "metadata": {},
   "outputs": [
    {
     "data": {
      "text/plain": [
       "5.814707994302967"
      ]
     },
     "execution_count": 63,
     "metadata": {},
     "output_type": "execute_result"
    }
   ],
   "source": [
    "df['agepreg'].std()"
   ]
  },
  {
   "cell_type": "code",
   "execution_count": 64,
   "id": "8e9b0683",
   "metadata": {},
   "outputs": [
    {
     "data": {
      "text/plain": [
       "(13.058735208433564, 36.31756718564543)"
      ]
     },
     "execution_count": 64,
     "metadata": {},
     "output_type": "execute_result"
    }
   ],
   "source": [
    "df['agepreg'].mean() - 2*df['agepreg'].std(), df['agepreg'].mean() + 2*df['agepreg'].std()"
   ]
  },
  {
   "cell_type": "markdown",
   "id": "bca86599",
   "metadata": {},
   "source": [
    "# Hypothesis tests\n",
    "\n",
    "Lets first revisit what statistical tests are reference [here](http://www.stats.ox.ac.uk/~filippi/Teaching/psychology_humanscience_2015/lecture8.pdf)\n",
    "\n"
   ]
  },
  {
   "cell_type": "code",
   "execution_count": 65,
   "id": "a3a1c7c9",
   "metadata": {},
   "outputs": [],
   "source": [
    "from numpy import random\n",
    "from matplotlib import lines as mlines"
   ]
  },
  {
   "cell_type": "code",
   "execution_count": 66,
   "id": "f0842c23",
   "metadata": {},
   "outputs": [],
   "source": [
    "obs = random.normal(0, 1, 1000)"
   ]
  },
  {
   "cell_type": "code",
   "execution_count": 67,
   "id": "66699e2e",
   "metadata": {},
   "outputs": [
    {
     "data": {
      "text/plain": [
       "<matplotlib.lines.Line2D at 0x7f9c6e92f910>"
      ]
     },
     "execution_count": 67,
     "metadata": {},
     "output_type": "execute_result"
    },
    {
     "data": {
      "image/png": "[encoded data removed]",
      "text/plain": [
       "<Figure size 432x288 with 1 Axes>"
      ]
     },
     "metadata": {
      "needs_background": "light"
     },
     "output_type": "display_data"
    }
   ],
   "source": [
    "hull_hypothesis = 0.05\n",
    "fig = plt.figure()\n",
    "ax = fig.add_subplot(111)\n",
    "\n",
    "_ = ax.hist(obs, range=(-5,5), bins=100, alpha=0.7)\n",
    "\n",
    "ax.add_line(mlines.Line2D([0,0], [0, 50], color='r'))\n",
    "# largura a meia altura ~ \\sigma"
   ]
  },
  {
   "cell_type": "code",
   "execution_count": 68,
   "id": "44ec3586",
   "metadata": {},
   "outputs": [],
   "source": [
    "from scipy import stats"
   ]
  },
  {
   "cell_type": "code",
   "execution_count": 69,
   "id": "dc74f7a6",
   "metadata": {},
   "outputs": [
    {
     "data": {
      "text/plain": [
       "Ttest_1sampResult(statistic=0.29841200925222805, pvalue=0.7654507802784976)"
      ]
     },
     "execution_count": 69,
     "metadata": {},
     "output_type": "execute_result"
    }
   ],
   "source": [
    "stats.ttest_1samp(obs, hull_hypothesis)"
   ]
  },
  {
   "cell_type": "markdown",
   "id": "312e34f3",
   "metadata": {},
   "source": [
    "* pvalues < 5% alternative hypothesis cannot be excluded\n",
    "* pvalue > 5% null hypothesis cannot be excluded"
   ]
  },
  {
   "cell_type": "markdown",
   "id": "2cc89057",
   "metadata": {},
   "source": [
    "- hull hypotheses: first babies have average birth lenght of 40 weeks;\n",
    "- alternative hypothesis: first babies have average birth higher from 40 weeks;"
   ]
  },
  {
   "cell_type": "code",
   "execution_count": 70,
   "id": "33060e3d",
   "metadata": {},
   "outputs": [
    {
     "data": {
      "text/plain": [
       "<matplotlib.legend.Legend at 0x7f9c6eb2a370>"
      ]
     },
     "execution_count": 70,
     "metadata": {},
     "output_type": "execute_result"
    },
    {
     "data": {
      "image/png": "[encoded data removed]",
      "text/plain": [
       "<Figure size 576x432 with 1 Axes>"
      ]
     },
     "metadata": {
      "needs_background": "light"
     },
     "output_type": "display_data"
    }
   ],
   "source": [
    "first = (df['pregordr'] == 1) & (df['outcome'] == 1)\n",
    "other = (df['pregordr'] != 1) & (df['outcome'] == 1)\n",
    "\n",
    "# observe pandas have histogram plotting\n",
    "plt.figure(figsize=(8,6))\n",
    "\n",
    "df[other]['prglngth'].hist(bins=100, label='other', density=False)\n",
    "df[first]['prglngth'].hist(bins=100, label='first', density=False)\n",
    "\n",
    "plt.xlabel('preg. length [weeks]')\n",
    "plt.legend()"
   ]
  },
  {
   "cell_type": "code",
   "execution_count": 71,
   "id": "fde74cb7",
   "metadata": {},
   "outputs": [
    {
     "data": {
      "text/plain": [
       "(38.58432304038005, 38.58432304038005)"
      ]
     },
     "execution_count": 71,
     "metadata": {},
     "output_type": "execute_result"
    }
   ],
   "source": [
    "df[first]['prglngth'].mean(), df[first]['prglngth'].mean() "
   ]
  },
  {
   "cell_type": "code",
   "execution_count": 72,
   "id": "17f82fec",
   "metadata": {},
   "outputs": [
    {
     "data": {
      "text/plain": [
       "(38.54671280276817, 2.71481128288008)"
      ]
     },
     "execution_count": 72,
     "metadata": {},
     "output_type": "execute_result"
    }
   ],
   "source": [
    "df[other]['prglngth'].mean(), df[other]['prglngth'].std()"
   ]
  },
  {
   "cell_type": "code",
   "execution_count": 73,
   "id": "37761ddf",
   "metadata": {},
   "outputs": [],
   "source": [
    "err_first = df[first]['prglngth'].std()/np.sqrt(len(df[first]['prglngth']))\n",
    "err_other = df[other]['prglngth'].std()/np.sqrt(len(df[other]['prglngth']))"
   ]
  },
  {
   "cell_type": "code",
   "execution_count": 74,
   "id": "0eab5503",
   "metadata": {},
   "outputs": [
    {
     "data": {
      "text/plain": [
       "(5780, 3368)"
      ]
     },
     "execution_count": 74,
     "metadata": {},
     "output_type": "execute_result"
    }
   ],
   "source": [
    "df[other].shape[0], df[first].shape[0]"
   ]
  },
  {
   "cell_type": "code",
   "execution_count": 75,
   "id": "9b7ae103",
   "metadata": {},
   "outputs": [
    {
     "data": {
      "text/plain": [
       "(0.046197502490972646, 0.035708838674136885)"
      ]
     },
     "execution_count": 75,
     "metadata": {},
     "output_type": "execute_result"
    }
   ],
   "source": [
    "err_first, err_other"
   ]
  },
  {
   "cell_type": "code",
   "execution_count": 76,
   "id": "239d1aba",
   "metadata": {},
   "outputs": [
    {
     "data": {
      "text/plain": [
       "<ErrorbarContainer object of 3 artists>"
      ]
     },
     "execution_count": 76,
     "metadata": {},
     "output_type": "execute_result"
    },
    {
     "data": {
      "image/png": "[encoded data removed]",
      "text/plain": [
       "<Figure size 432x288 with 1 Axes>"
      ]
     },
     "metadata": {
      "needs_background": "light"
     },
     "output_type": "display_data"
    }
   ],
   "source": [
    "plt.errorbar([0,1], [df[first]['prglngth'].mean(), df[other]['prglngth'].mean()], yerr=[err_first, err_other], xerr=None, marker='o', linestyle='')"
   ]
  },
  {
   "cell_type": "code",
   "execution_count": 77,
   "id": "1e7c1375",
   "metadata": {},
   "outputs": [
    {
     "data": {
      "text/plain": [
       "<matplotlib.legend.Legend at 0x7f9c6e499bb0>"
      ]
     },
     "execution_count": 77,
     "metadata": {},
     "output_type": "execute_result"
    },
    {
     "data": {
      "image/png": "[encoded data removed]",
      "text/plain": [
       "<Figure size 576x432 with 1 Axes>"
      ]
     },
     "metadata": {
      "needs_background": "light"
     },
     "output_type": "display_data"
    }
   ],
   "source": [
    "import seaborn as sns\n",
    "\n",
    "plt.figure(figsize=(8,6))\n",
    "\n",
    "sns.kdeplot(data=df[other], x=\"prglngth\", label='other')\n",
    "sns.kdeplot(data=df[first], x=\"prglngth\", label='first')\n",
    "\n",
    "plt.xlabel('preg. length [weeks]')\n",
    "plt.legend()"
   ]
  },
  {
   "cell_type": "code",
   "execution_count": 78,
   "id": "81a40070",
   "metadata": {},
   "outputs": [
    {
     "data": {
      "text/plain": [
       "Ttest_1sampResult(statistic=-40.698248702341985, pvalue=0.0)"
      ]
     },
     "execution_count": 78,
     "metadata": {},
     "output_type": "execute_result"
    }
   ],
   "source": [
    "import scipy\n",
    "scipy.stats.ttest_1samp(df[other]['prglngth'].values, 40)"
   ]
  },
  {
   "cell_type": "code",
   "execution_count": 79,
   "id": "51c7628d",
   "metadata": {},
   "outputs": [
    {
     "data": {
      "text/plain": [
       "Ttest_1sampResult(statistic=-30.644015007014403, pvalue=4.0666236645525976e-182)"
      ]
     },
     "execution_count": 79,
     "metadata": {},
     "output_type": "execute_result"
    }
   ],
   "source": [
    "scipy.stats.ttest_1samp(df[first]['prglngth'].values, 40)"
   ]
  },
  {
   "cell_type": "markdown",
   "id": "87899bab",
   "metadata": {},
   "source": [
    "- $H_0$ first babies have equal pregnance length that of others babies\n",
    "- $H_1$ first babies have different pregnance length that of others babies"
   ]
  },
  {
   "cell_type": "code",
   "execution_count": 80,
   "id": "9db531e9",
   "metadata": {},
   "outputs": [
    {
     "data": {
      "text/plain": [
       "Ttest_indResult(statistic=0.6420049882591117, pvalue=0.5208860344743724)"
      ]
     },
     "execution_count": 80,
     "metadata": {},
     "output_type": "execute_result"
    }
   ],
   "source": [
    "stats.ttest_ind(df[first]['prglngth'].values, df[other]['prglngth'].values)"
   ]
  },
  {
   "cell_type": "markdown",
   "id": "745837a4",
   "metadata": {},
   "source": [
    " - the null hypothesis cannot be rejected."
   ]
  },
  {
   "cell_type": "markdown",
   "id": "1caa2ace",
   "metadata": {},
   "source": [
    "- H_0 first babies does not have higher pregnance lenght that of other babies; \n",
    "- H_1 first babies have higher pregnance length that of other babies; "
   ]
  },
  {
   "cell_type": "markdown",
   "id": "3ad5a432",
   "metadata": {},
   "source": [
    "Please read as ref [this](https://machinelearningmastery.com/statistical-hypothesis-tests-in-python-cheat-sheet/)"
   ]
  },
  {
   "cell_type": "markdown",
   "id": "86225202",
   "metadata": {},
   "source": [
    "## Gaussian distribution\n",
    "\n",
    "\n",
    "If $X$ is Normally distributed with mean $\\mu$ and standard deviation $\\sigma$, we\n",
    "write\n",
    "\n",
    "$$\n",
    "X \\sim N(\\mu, \\sigma^2)\n",
    "$$\n",
    "\n",
    "\n",
    "The Probability Density Function (PDF) of the Normal distribution is given by: \n",
    "$$\n",
    "g(x) = \\frac{1}{\\sqrt{2\\pi}\\sigma}e^{\\frac{(x-\\mu)^2}{2\\sigma^2}}\n",
    "$$\n",
    "\n",
    "$z$ is the chosen values.\n",
    "\n",
    "$$\n",
    "P(Z<z) = \\int_{-\\inf}^{z} g(x) = \\int_{-\\inf}^{z} \\frac{1}{\\sqrt{2\\pi}\\sigma}e^{\\frac{(x-\\mu)^2}{2\\sigma^2}}\n",
    "$$\n",
    "\n",
    "Numerically"
   ]
  },
  {
   "cell_type": "code",
   "execution_count": 82,
   "id": "93e4c641",
   "metadata": {},
   "outputs": [
    {
     "data": {
      "image/png": "[encoded data removed]",
      "text/plain": [
       "<Figure size 432x288 with 1 Axes>"
      ]
     },
     "metadata": {
      "needs_background": "light"
     },
     "output_type": "display_data"
    }
   ],
   "source": [
    "from matplotlib import lines as mlines\n",
    "\n",
    "values = np.random.normal(0, 1, 100000)\n",
    "\n",
    "fig = plt.figure()\n",
    "ax = fig.add_subplot(111)\n",
    "\n",
    "z = 1\n",
    "ax.add_line(mlines.Line2D([z,z], [0, 0.5], color='r'))\n",
    "hist_values, bins, _ = ax.hist(values, range=(-5,5), bins=200, density=True, alpha=0.6)\n",
    "\n"
   ]
  },
  {
   "cell_type": "code",
   "execution_count": 83,
   "id": "40385146",
   "metadata": {},
   "outputs": [
    {
     "data": {
      "text/plain": [
       "0.8404300000000001"
      ]
     },
     "execution_count": 83,
     "metadata": {},
     "output_type": "execute_result"
    }
   ],
   "source": [
    "widths = np.diff(bins[bins<z])\n",
    "widths = list(widths) + [widths[0]]\n",
    "area = sum(np.array(widths)*hist_values[:bins[bins<z].shape[0]])\n",
    "area"
   ]
  },
  {
   "cell_type": "code",
   "execution_count": 84,
   "id": "c4fb0c60",
   "metadata": {},
   "outputs": [
    {
     "data": {
      "text/plain": [
       "<matplotlib.lines.Line2D at 0x7f9c6ef74eb0>"
      ]
     },
     "execution_count": 84,
     "metadata": {},
     "output_type": "execute_result"
    },
    {
     "data": {
      "image/png": "[encoded data removed]",
      "text/plain": [
       "<Figure size 432x288 with 1 Axes>"
      ]
     },
     "metadata": {
      "needs_background": "light"
     },
     "output_type": "display_data"
    }
   ],
   "source": [
    "from matplotlib import lines as mlines\n",
    "\n",
    "values = np.random.normal(70, 10, 100000)\n",
    "\n",
    "fig = plt.figure()\n",
    "ax = fig.add_subplot(111)\n",
    "hist_values, bins, _ = ax.hist(values, range=(0,140), bins=200, density=True, alpha=0.6)\n",
    "ax.add_line(mlines.Line2D([70,70], [0, ax.get_ylim()[1]], color='r'))\n",
    "ax.add_line(mlines.Line2D([70-10,70-10], [0, ax.get_ylim()[1]], color='b'))\n",
    "ax.add_line(mlines.Line2D([70+10,70+10], [0, ax.get_ylim()[1]], color='b'))"
   ]
  },
  {
   "cell_type": "code",
   "execution_count": 85,
   "id": "308bd385",
   "metadata": {},
   "outputs": [
    {
     "data": {
      "text/plain": [
       "(70.03116199404744, 10.011813248386014)"
      ]
     },
     "execution_count": 85,
     "metadata": {},
     "output_type": "execute_result"
    }
   ],
   "source": [
    "values.mean(), values.std()"
   ]
  },
  {
   "cell_type": "code",
   "execution_count": 86,
   "id": "564c0c8d",
   "metadata": {},
   "outputs": [],
   "source": [
    "# normalize the distribution to make it centered in zero and standard deviation = 1\n",
    "values = (values-values.mean())/values.std()"
   ]
  },
  {
   "cell_type": "code",
   "execution_count": 87,
   "id": "86e3aa98",
   "metadata": {},
   "outputs": [
    {
     "data": {
      "text/plain": [
       "array([-0.66914656, -0.72604038,  0.03960353, ..., -0.94262526,\n",
       "       -0.93690527, -1.15212153])"
      ]
     },
     "execution_count": 87,
     "metadata": {},
     "output_type": "execute_result"
    }
   ],
   "source": [
    "values"
   ]
  },
  {
   "cell_type": "code",
   "execution_count": 88,
   "id": "61bb81bc",
   "metadata": {},
   "outputs": [
    {
     "data": {
      "text/plain": [
       "<matplotlib.lines.Line2D at 0x7f9c6f091b80>"
      ]
     },
     "execution_count": 88,
     "metadata": {},
     "output_type": "execute_result"
    },
    {
     "data": {
      "image/png": "[encoded data removed]",
      "text/plain": [
       "<Figure size 432x288 with 1 Axes>"
      ]
     },
     "metadata": {
      "needs_background": "light"
     },
     "output_type": "display_data"
    }
   ],
   "source": [
    "fig = plt.figure()\n",
    "ax = fig.add_subplot(111)\n",
    "hist_values, bins, _ = ax.hist(values, range=(-5,5), bins=200, density=True, alpha=0.6)\n",
    "ax.add_line(mlines.Line2D([0,0], [0, ax.get_ylim()[1]], color='r'))\n",
    "ax.add_line(mlines.Line2D([0-1,0-1], [0, ax.get_ylim()[1]], color='b'))\n",
    "ax.add_line(mlines.Line2D([0+1,0+1], [0, ax.get_ylim()[1]], color='b'))"
   ]
  },
  {
   "cell_type": "markdown",
   "id": "ada33db3",
   "metadata": {},
   "source": [
    "## Refresh:  \n",
    "\n",
    "\n",
    "* standard deviation; \n",
    "* standard error: $\\frac{\\sigma}{\\sqrt{N}}$"
   ]
  },
  {
   "cell_type": "code",
   "execution_count": 90,
   "id": "b2495446",
   "metadata": {},
   "outputs": [],
   "source": [
    "values = np.random.normal(0,1,10000)"
   ]
  },
  {
   "cell_type": "code",
   "execution_count": 99,
   "id": "cde9c2d4",
   "metadata": {},
   "outputs": [
    {
     "data": {
      "text/plain": [
       "array([ 0.87017373,  0.85980462,  0.90011478, ..., -0.78002531,\n",
       "        0.54364676, -0.01752171])"
      ]
     },
     "execution_count": 99,
     "metadata": {},
     "output_type": "execute_result"
    }
   ],
   "source": [
    "values"
   ]
  },
  {
   "cell_type": "code",
   "execution_count": 101,
   "id": "ee9595f2",
   "metadata": {},
   "outputs": [
    {
     "data": {
      "text/plain": [
       "0.010068724719733366"
      ]
     },
     "execution_count": 101,
     "metadata": {},
     "output_type": "execute_result"
    }
   ],
   "source": [
    "values.std()/np.sqrt(len(values))"
   ]
  },
  {
   "cell_type": "code",
   "execution_count": null,
   "id": "897bf2a4",
   "metadata": {},
   "outputs": [],
   "source": []
  },
  {
   "cell_type": "code",
   "execution_count": 92,
   "id": "d3e47dca",
   "metadata": {},
   "outputs": [
    {
     "data": {
      "text/plain": [
       "<matplotlib.lines.Line2D at 0x7f9c70e22e20>"
      ]
     },
     "execution_count": 92,
     "metadata": {},
     "output_type": "execute_result"
    },
    {
     "data": {
      "image/png": "[encoded data removed]",
      "text/plain": [
       "<Figure size 432x288 with 1 Axes>"
      ]
     },
     "metadata": {
      "needs_background": "light"
     },
     "output_type": "display_data"
    }
   ],
   "source": [
    "z = 1.96\n",
    "\n",
    "fig = plt.figure()\n",
    "ax = fig.add_subplot(111)\n",
    "hist_values, bins, _ = ax.hist(values, range=(-5,5), bins=200, density=True, alpha=0.6)\n",
    "ax.add_line(mlines.Line2D([0,0], [0, ax.get_ylim()[1]], color='r'))\n",
    "ax.add_line(mlines.Line2D([0-z,0-z], [0, ax.get_ylim()[1]], color='b'))\n",
    "ax.add_line(mlines.Line2D([0+z,0+z], [0, ax.get_ylim()[1]], color='b'))"
   ]
  },
  {
   "cell_type": "code",
   "execution_count": 94,
   "id": "c876b732",
   "metadata": {},
   "outputs": [
    {
     "data": {
      "text/plain": [
       "<matplotlib.lines.Line2D at 0x7f9c712f72b0>"
      ]
     },
     "execution_count": 94,
     "metadata": {},
     "output_type": "execute_result"
    },
    {
     "data": {
      "image/png": "[encoded data removed]",
      "text/plain": [
       "<Figure size 432x288 with 1 Axes>"
      ]
     },
     "metadata": {
      "needs_background": "light"
     },
     "output_type": "display_data"
    }
   ],
   "source": [
    "z = 1.96\n",
    "mu = 0\n",
    "standard_error = values.std()/np.sqrt(values.shape[0])\n",
    "\n",
    "fig = plt.figure()\n",
    "ax = fig.add_subplot(111)\n",
    "hist_values, bins, _ = ax.hist(values, range=(-5,5), bins=200, density=True, alpha=0.6)\n",
    "ax.add_line(mlines.Line2D([0,0], [0, ax.get_ylim()[1]], color='r'))\n",
    "ax.add_line(mlines.Line2D([mu-z*standard_error,mu-z*standard_error], [0, ax.get_ylim()[1]], color='b'))\n",
    "ax.add_line(mlines.Line2D([mu+z*standard_error,mu+z*standard_error], [0, ax.get_ylim()[1]], color='b'))"
   ]
  },
  {
   "cell_type": "code",
   "execution_count": 109,
   "id": "51e8da13",
   "metadata": {},
   "outputs": [
    {
     "data": {
      "text/plain": [
       "(-0.03693419147703833, 0.002535209424316464)"
      ]
     },
     "execution_count": 109,
     "metadata": {},
     "output_type": "execute_result"
    }
   ],
   "source": [
    "values.mean() - z*standard_error, values.mean() + z*standard_error"
   ]
  },
  {
   "cell_type": "code",
   "execution_count": 117,
   "id": "0c197a79",
   "metadata": {},
   "outputs": [],
   "source": [
    "means = list()\n",
    "\n",
    "for i in range(10000):\n",
    "    values_ = np.random.normal(0, 1, 1000)\n",
    "    means.append(values_.mean())\n",
    "    "
   ]
  },
  {
   "cell_type": "code",
   "execution_count": 119,
   "id": "93076027",
   "metadata": {},
   "outputs": [
    {
     "data": {
      "text/plain": [
       "<matplotlib.lines.Line2D at 0x7f9c71027c70>"
      ]
     },
     "execution_count": 119,
     "metadata": {},
     "output_type": "execute_result"
    },
    {
     "data": {
      "image/png": "[encoded data removed]",
      "text/plain": [
       "<Figure size 432x288 with 1 Axes>"
      ]
     },
     "metadata": {
      "needs_background": "light"
     },
     "output_type": "display_data"
    }
   ],
   "source": [
    "z = 1.96\n",
    "mu = 0\n",
    "\n",
    "standard_error = values.std()/np.sqrt(values.shape[0])\n",
    "\n",
    "fig = plt.figure()\n",
    "ax = fig.add_subplot(111)\n",
    "hist_values, bins, _ = ax.hist(means, range=(-0.5,0.5), bins=200, density=True, alpha=0.6)\n",
    "ax.add_line(mlines.Line2D([0,0], [0, ax.get_ylim()[1]], color='r'))\n",
    "\n",
    "ax.add_line(mlines.Line2D([mu-z*standard_error,mu-z*standard_error], [0, ax.get_ylim()[1]], color='b'))\n",
    "ax.add_line(mlines.Line2D([mu+z*standard_error,mu+z*standard_error], [0, ax.get_ylim()[1]], color='b'))"
   ]
  },
  {
   "cell_type": "code",
   "execution_count": 121,
   "id": "3aca38f5",
   "metadata": {},
   "outputs": [],
   "source": [
    "pressao = np.random.normal(14, 5, 10000)"
   ]
  },
  {
   "cell_type": "code",
   "execution_count": 123,
   "id": "fc3dbb89",
   "metadata": {},
   "outputs": [
    {
     "data": {
      "text/plain": [
       "array([14.24429368, 18.21864938,  3.66844403, 15.98147512, 18.38666122,\n",
       "       11.40355191, 21.88576245, 17.39655929, 10.74158767, 14.40881459])"
      ]
     },
     "execution_count": 123,
     "metadata": {},
     "output_type": "execute_result"
    }
   ],
   "source": [
    "pressao[:10].mean()"
   ]
  },
  {
   "cell_type": "code",
   "execution_count": 129,
   "id": "5401e81d",
   "metadata": {},
   "outputs": [
    {
     "data": {
      "text/plain": [
       "(13.890117278238943, 14.084047604956961)"
      ]
     },
     "execution_count": 129,
     "metadata": {},
     "output_type": "execute_result"
    }
   ],
   "source": [
    "pressao.mean() - 1.96*pressao.std()/np.sqrt(len(pressao)), pressao.mean() + 1.96*pressao.std()/np.sqrt(len(pressao))"
   ]
  },
  {
   "cell_type": "code",
   "execution_count": null,
   "id": "dcfc4a84",
   "metadata": {},
   "outputs": [],
   "source": [
    "import scipy\n",
    "scipy.stats.ttest_1samp(df[other]['prglngth'].values, 40)"
   ]
  },
  {
   "cell_type": "code",
   "execution_count": 134,
   "id": "206f6107",
   "metadata": {},
   "outputs": [],
   "source": [
    "mean = df[other]['prglngth'].mean()\n",
    "standard_error = df[other]['prglngth'].std()/np.sqrt(df[other]['prglngth'].shape[0])"
   ]
  },
  {
   "cell_type": "code",
   "execution_count": 135,
   "id": "b0168746",
   "metadata": {},
   "outputs": [
    {
     "data": {
      "text/plain": [
       "(38.54671280276817, 0.035708838674136885)"
      ]
     },
     "execution_count": 135,
     "metadata": {},
     "output_type": "execute_result"
    }
   ],
   "source": [
    "mean, standard_error"
   ]
  },
  {
   "cell_type": "code",
   "execution_count": 136,
   "id": "bea769b1",
   "metadata": {},
   "outputs": [
    {
     "data": {
      "text/plain": [
       "(38.47672347896686, 38.61670212656948)"
      ]
     },
     "execution_count": 136,
     "metadata": {},
     "output_type": "execute_result"
    }
   ],
   "source": [
    "# 95% confidence interval for the expected value\n",
    "mean - 1.96*standard_error, mean + 1.96*standard_error"
   ]
  },
  {
   "cell_type": "code",
   "execution_count": 138,
   "id": "5c242483",
   "metadata": {},
   "outputs": [
    {
     "data": {
      "text/plain": [
       "Ttest_1sampResult(statistic=1.9600000000000188, pvalue=0.05004377560770349)"
      ]
     },
     "execution_count": 138,
     "metadata": {},
     "output_type": "execute_result"
    }
   ],
   "source": [
    "scipy.stats.ttest_1samp(df[other]['prglngth'].values, 38.47672347896686)"
   ]
  },
  {
   "cell_type": "code",
   "execution_count": 139,
   "id": "fc0f6561",
   "metadata": {},
   "outputs": [
    {
     "data": {
      "text/plain": [
       "Ttest_1sampResult(statistic=-1.9600000000000188, pvalue=0.05004377560770349)"
      ]
     },
     "execution_count": 139,
     "metadata": {},
     "output_type": "execute_result"
    }
   ],
   "source": [
    "scipy.stats.ttest_1samp(df[other]['prglngth'].values, 38.61670212656948)"
   ]
  },
  {
   "cell_type": "code",
   "execution_count": 142,
   "id": "d132c065",
   "metadata": {},
   "outputs": [
    {
     "data": {
      "text/plain": [
       "(7.188016708206732, 7.370200301652984)"
      ]
     },
     "execution_count": 142,
     "metadata": {},
     "output_type": "execute_result"
    }
   ],
   "source": [
    "df[first]['prglngth'].var(), df[other]['prglngth'].var()"
   ]
  },
  {
   "cell_type": "code",
   "execution_count": 143,
   "id": "42546f66",
   "metadata": {},
   "outputs": [
    {
     "data": {
      "text/plain": [
       "Ttest_indResult(statistic=0.6441270415627661, pvalue=0.5195138257595264)"
      ]
     },
     "execution_count": 143,
     "metadata": {},
     "output_type": "execute_result"
    }
   ],
   "source": [
    "stats.ttest_ind(df[first]['prglngth'].values, df[other]['prglngth'].values, equal_var=False)"
   ]
  },
  {
   "cell_type": "code",
   "execution_count": 154,
   "id": "59b37e68",
   "metadata": {},
   "outputs": [
    {
     "data": {
      "text/plain": [
       "(array([1.73010381e-04, 1.73010381e-04, 1.73010381e-04, 1.73010381e-04,\n",
       "        1.73010381e-04, 1.73010381e-04, 1.73010381e-04, 1.73010381e-04,\n",
       "        1.73010381e-04, 1.73010381e-04, 1.73010381e-04, 1.73010381e-04,\n",
       "        1.73010381e-04, 1.73010381e-04, 1.73010381e-04, 1.73010381e-04,\n",
       "        1.73010381e-04, 1.73010381e-04, 1.73010381e-04, 1.73010381e-04,\n",
       "        1.73010381e-04, 1.73010381e-04, 1.73010381e-04, 1.73010381e-04,\n",
       "        1.73010381e-04, 1.73010381e-04, 1.73010381e-04, 1.73010381e-04,\n",
       "        1.73010381e-04, 1.73010381e-04, 1.73010381e-04, 1.73010381e-04,\n",
       "        1.73010381e-04, 1.73010381e-04, 1.73010381e-04, 1.73010381e-04,\n",
       "        1.73010381e-04, 1.73010381e-04, 1.73010381e-04, 1.73010381e-04,\n",
       "        1.73010381e-04, 1.73010381e-04, 1.73010381e-04, 1.73010381e-04,\n",
       "        1.73010381e-04, 1.73010381e-04, 1.73010381e-04, 1.73010381e-04,\n",
       "        1.73010381e-04, 1.73010381e-04, 1.73010381e-04, 1.73010381e-04,\n",
       "        1.73010381e-04, 1.73010381e-04, 1.73010381e-04, 1.73010381e-04,\n",
       "        1.73010381e-04, 1.73010381e-04, 1.73010381e-04, 1.73010381e-04,\n",
       "        1.73010381e-04, 1.73010381e-04, 1.73010381e-04, 1.73010381e-04,\n",
       "        1.73010381e-04, 1.73010381e-04, 1.73010381e-04, 1.73010381e-04,\n",
       "        1.73010381e-04, 1.73010381e-04, 1.73010381e-04, 1.73010381e-04,\n",
       "        1.73010381e-04, 1.73010381e-04, 1.73010381e-04, 1.73010381e-04,\n",
       "        1.73010381e-04, 1.73010381e-04, 1.73010381e-04, 1.73010381e-04,\n",
       "        3.46020761e-04, 3.46020761e-04, 3.46020761e-04, 3.46020761e-04,\n",
       "        3.46020761e-04, 3.46020761e-04, 3.46020761e-04, 3.46020761e-04,\n",
       "        3.46020761e-04, 3.46020761e-04, 3.46020761e-04, 3.46020761e-04,\n",
       "        3.46020761e-04, 3.46020761e-04, 3.46020761e-04, 3.46020761e-04,\n",
       "        3.46020761e-04, 3.46020761e-04, 3.46020761e-04, 3.46020761e-04,\n",
       "        3.46020761e-04, 3.46020761e-04, 3.46020761e-04, 3.46020761e-04,\n",
       "        3.46020761e-04, 3.46020761e-04, 3.46020761e-04, 3.46020761e-04,\n",
       "        3.46020761e-04, 3.46020761e-04, 3.46020761e-04, 3.46020761e-04,\n",
       "        3.46020761e-04, 3.46020761e-04, 3.46020761e-04, 3.46020761e-04,\n",
       "        3.46020761e-04, 3.46020761e-04, 3.46020761e-04, 3.46020761e-04,\n",
       "        3.46020761e-04, 3.46020761e-04, 3.46020761e-04, 3.46020761e-04,\n",
       "        3.46020761e-04, 3.46020761e-04, 3.46020761e-04, 3.46020761e-04,\n",
       "        3.46020761e-04, 3.46020761e-04, 3.46020761e-04, 3.46020761e-04,\n",
       "        3.46020761e-04, 3.46020761e-04, 3.46020761e-04, 3.46020761e-04,\n",
       "        3.46020761e-04, 3.46020761e-04, 3.46020761e-04, 3.46020761e-04,\n",
       "        3.46020761e-04, 3.46020761e-04, 3.46020761e-04, 3.46020761e-04,\n",
       "        3.46020761e-04, 3.46020761e-04, 3.46020761e-04, 3.46020761e-04,\n",
       "        3.46020761e-04, 3.46020761e-04, 3.46020761e-04, 3.46020761e-04,\n",
       "        3.46020761e-04, 3.46020761e-04, 3.46020761e-04, 3.46020761e-04,\n",
       "        3.46020761e-04, 3.46020761e-04, 3.46020761e-04, 3.46020761e-04,\n",
       "        3.46020761e-04, 3.46020761e-04, 3.46020761e-04, 3.46020761e-04,\n",
       "        3.46020761e-04, 3.46020761e-04, 3.46020761e-04, 3.46020761e-04,\n",
       "        3.46020761e-04, 3.46020761e-04, 3.46020761e-04, 3.46020761e-04,\n",
       "        3.46020761e-04, 3.46020761e-04, 3.46020761e-04, 3.46020761e-04,\n",
       "        3.46020761e-04, 3.46020761e-04, 3.46020761e-04, 3.46020761e-04,\n",
       "        5.19031142e-04, 5.19031142e-04, 5.19031142e-04, 5.19031142e-04,\n",
       "        5.19031142e-04, 5.19031142e-04, 5.19031142e-04, 5.19031142e-04,\n",
       "        5.19031142e-04, 5.19031142e-04, 5.19031142e-04, 5.19031142e-04,\n",
       "        5.19031142e-04, 5.19031142e-04, 5.19031142e-04, 5.19031142e-04,\n",
       "        5.19031142e-04, 5.19031142e-04, 5.19031142e-04, 5.19031142e-04,\n",
       "        5.19031142e-04, 5.19031142e-04, 5.19031142e-04, 5.19031142e-04,\n",
       "        5.19031142e-04, 5.19031142e-04, 5.19031142e-04, 5.19031142e-04,\n",
       "        5.19031142e-04, 5.19031142e-04, 5.19031142e-04, 5.19031142e-04,\n",
       "        5.19031142e-04, 5.19031142e-04, 5.19031142e-04, 5.19031142e-04,\n",
       "        5.19031142e-04, 5.19031142e-04, 5.19031142e-04, 5.19031142e-04,\n",
       "        5.19031142e-04, 5.19031142e-04, 5.19031142e-04, 5.19031142e-04,\n",
       "        5.19031142e-04, 5.19031142e-04, 5.19031142e-04, 5.19031142e-04,\n",
       "        5.19031142e-04, 5.19031142e-04, 5.19031142e-04, 5.19031142e-04,\n",
       "        5.19031142e-04, 5.19031142e-04, 5.19031142e-04, 5.19031142e-04,\n",
       "        5.19031142e-04, 5.19031142e-04, 5.19031142e-04, 5.19031142e-04,\n",
       "        5.19031142e-04, 5.19031142e-04, 5.19031142e-04, 5.19031142e-04,\n",
       "        5.19031142e-04, 5.19031142e-04, 5.19031142e-04, 5.19031142e-04,\n",
       "        5.19031142e-04, 5.19031142e-04, 5.19031142e-04, 5.19031142e-04,\n",
       "        5.19031142e-04, 5.19031142e-04, 5.19031142e-04, 5.19031142e-04,\n",
       "        5.19031142e-04, 5.19031142e-04, 5.19031142e-04, 5.19031142e-04,\n",
       "        6.92041522e-04, 6.92041522e-04, 6.92041522e-04, 6.92041522e-04,\n",
       "        6.92041522e-04, 6.92041522e-04, 6.92041522e-04, 6.92041522e-04,\n",
       "        6.92041522e-04, 6.92041522e-04, 6.92041522e-04, 6.92041522e-04,\n",
       "        6.92041522e-04, 6.92041522e-04, 6.92041522e-04, 6.92041522e-04,\n",
       "        6.92041522e-04, 6.92041522e-04, 6.92041522e-04, 6.92041522e-04,\n",
       "        6.92041522e-04, 6.92041522e-04, 6.92041522e-04, 6.92041522e-04,\n",
       "        6.92041522e-04, 6.92041522e-04, 6.92041522e-04, 6.92041522e-04,\n",
       "        6.92041522e-04, 6.92041522e-04, 6.92041522e-04, 6.92041522e-04,\n",
       "        6.92041522e-04, 6.92041522e-04, 6.92041522e-04, 6.92041522e-04,\n",
       "        6.92041522e-04, 6.92041522e-04, 6.92041522e-04, 6.92041522e-04,\n",
       "        6.92041522e-04, 6.92041522e-04, 6.92041522e-04, 6.92041522e-04,\n",
       "        6.92041522e-04, 6.92041522e-04, 6.92041522e-04, 6.92041522e-04,\n",
       "        6.92041522e-04, 6.92041522e-04, 6.92041522e-04, 6.92041522e-04,\n",
       "        6.92041522e-04, 6.92041522e-04, 6.92041522e-04, 6.92041522e-04,\n",
       "        6.92041522e-04, 6.92041522e-04, 6.92041522e-04, 6.92041522e-04,\n",
       "        6.92041522e-04, 6.92041522e-04, 6.92041522e-04, 6.92041522e-04,\n",
       "        6.92041522e-04, 6.92041522e-04, 6.92041522e-04, 6.92041522e-04,\n",
       "        6.92041522e-04, 6.92041522e-04, 6.92041522e-04, 6.92041522e-04,\n",
       "        6.92041522e-04, 6.92041522e-04, 6.92041522e-04, 6.92041522e-04,\n",
       "        6.92041522e-04, 6.92041522e-04, 6.92041522e-04, 6.92041522e-04,\n",
       "        8.65051903e-04, 8.65051903e-04, 8.65051903e-04, 8.65051903e-04,\n",
       "        8.65051903e-04, 8.65051903e-04, 8.65051903e-04, 8.65051903e-04,\n",
       "        8.65051903e-04, 8.65051903e-04, 8.65051903e-04, 8.65051903e-04,\n",
       "        8.65051903e-04, 8.65051903e-04, 8.65051903e-04, 8.65051903e-04,\n",
       "        8.65051903e-04, 8.65051903e-04, 8.65051903e-04, 8.65051903e-04,\n",
       "        1.03806228e-03, 1.03806228e-03, 1.03806228e-03, 1.03806228e-03,\n",
       "        1.03806228e-03, 1.03806228e-03, 1.03806228e-03, 1.03806228e-03,\n",
       "        1.03806228e-03, 1.03806228e-03, 1.03806228e-03, 1.03806228e-03,\n",
       "        1.03806228e-03, 1.03806228e-03, 1.03806228e-03, 1.03806228e-03,\n",
       "        1.03806228e-03, 1.03806228e-03, 1.03806228e-03, 1.03806228e-03,\n",
       "        1.21107266e-03, 1.21107266e-03, 1.21107266e-03, 1.21107266e-03,\n",
       "        1.21107266e-03, 1.21107266e-03, 1.21107266e-03, 1.21107266e-03,\n",
       "        1.21107266e-03, 1.21107266e-03, 1.21107266e-03, 1.21107266e-03,\n",
       "        1.21107266e-03, 1.21107266e-03, 1.21107266e-03, 1.21107266e-03,\n",
       "        1.21107266e-03, 1.21107266e-03, 1.21107266e-03, 1.21107266e-03,\n",
       "        1.38408304e-03, 1.38408304e-03, 1.38408304e-03, 1.38408304e-03,\n",
       "        1.38408304e-03, 1.38408304e-03, 1.38408304e-03, 1.38408304e-03,\n",
       "        1.38408304e-03, 1.38408304e-03, 1.38408304e-03, 1.38408304e-03,\n",
       "        1.38408304e-03, 1.38408304e-03, 1.38408304e-03, 1.38408304e-03,\n",
       "        1.38408304e-03, 1.38408304e-03, 1.38408304e-03, 1.38408304e-03,\n",
       "        1.55709343e-03, 1.55709343e-03, 1.55709343e-03, 1.55709343e-03,\n",
       "        1.55709343e-03, 1.55709343e-03, 1.55709343e-03, 1.55709343e-03,\n",
       "        1.55709343e-03, 1.55709343e-03, 1.55709343e-03, 1.55709343e-03,\n",
       "        1.55709343e-03, 1.55709343e-03, 1.55709343e-03, 1.55709343e-03,\n",
       "        1.55709343e-03, 1.55709343e-03, 1.55709343e-03, 1.55709343e-03,\n",
       "        2.24913495e-03, 2.24913495e-03, 2.24913495e-03, 2.24913495e-03,\n",
       "        2.24913495e-03, 2.24913495e-03, 2.24913495e-03, 2.24913495e-03,\n",
       "        2.24913495e-03, 2.24913495e-03, 2.24913495e-03, 2.24913495e-03,\n",
       "        2.24913495e-03, 2.24913495e-03, 2.24913495e-03, 2.24913495e-03,\n",
       "        2.24913495e-03, 2.24913495e-03, 2.24913495e-03, 2.24913495e-03,\n",
       "        2.24913495e-03, 2.24913495e-03, 2.24913495e-03, 2.24913495e-03,\n",
       "        2.24913495e-03, 2.24913495e-03, 2.24913495e-03, 2.24913495e-03,\n",
       "        2.24913495e-03, 2.24913495e-03, 2.24913495e-03, 2.24913495e-03,\n",
       "        2.24913495e-03, 2.24913495e-03, 2.24913495e-03, 2.24913495e-03,\n",
       "        2.24913495e-03, 2.24913495e-03, 2.24913495e-03, 2.24913495e-03,\n",
       "        3.63321799e-03, 3.63321799e-03, 3.63321799e-03, 3.63321799e-03,\n",
       "        3.63321799e-03, 3.63321799e-03, 3.63321799e-03, 3.63321799e-03,\n",
       "        3.63321799e-03, 3.63321799e-03, 3.63321799e-03, 3.63321799e-03,\n",
       "        3.63321799e-03, 3.63321799e-03, 3.63321799e-03, 3.63321799e-03,\n",
       "        3.63321799e-03, 3.63321799e-03, 3.63321799e-03, 3.63321799e-03,\n",
       "        4.15224913e-03, 4.15224913e-03, 4.15224913e-03, 4.15224913e-03,\n",
       "        4.15224913e-03, 4.15224913e-03, 4.15224913e-03, 4.15224913e-03,\n",
       "        4.15224913e-03, 4.15224913e-03, 4.15224913e-03, 4.15224913e-03,\n",
       "        4.15224913e-03, 4.15224913e-03, 4.15224913e-03, 4.15224913e-03,\n",
       "        4.15224913e-03, 4.15224913e-03, 4.15224913e-03, 4.15224913e-03,\n",
       "        8.30449827e-03, 8.30449827e-03, 8.30449827e-03, 8.30449827e-03,\n",
       "        8.30449827e-03, 8.30449827e-03, 8.30449827e-03, 8.30449827e-03,\n",
       "        8.30449827e-03, 8.30449827e-03, 8.30449827e-03, 8.30449827e-03,\n",
       "        8.30449827e-03, 8.30449827e-03, 8.30449827e-03, 8.30449827e-03,\n",
       "        8.30449827e-03, 8.30449827e-03, 8.30449827e-03, 8.30449827e-03,\n",
       "        8.65051903e-03, 8.65051903e-03, 8.65051903e-03, 8.65051903e-03,\n",
       "        8.65051903e-03, 8.65051903e-03, 8.65051903e-03, 8.65051903e-03,\n",
       "        8.65051903e-03, 8.65051903e-03, 8.65051903e-03, 8.65051903e-03,\n",
       "        8.65051903e-03, 8.65051903e-03, 8.65051903e-03, 8.65051903e-03,\n",
       "        8.65051903e-03, 8.65051903e-03, 8.65051903e-03, 8.65051903e-03,\n",
       "        1.14186851e-02, 1.14186851e-02, 1.14186851e-02, 1.14186851e-02,\n",
       "        1.14186851e-02, 1.14186851e-02, 1.14186851e-02, 1.14186851e-02,\n",
       "        1.14186851e-02, 1.14186851e-02, 1.14186851e-02, 1.14186851e-02,\n",
       "        1.14186851e-02, 1.14186851e-02, 1.14186851e-02, 1.14186851e-02,\n",
       "        1.14186851e-02, 1.14186851e-02, 1.14186851e-02, 1.14186851e-02,\n",
       "        1.40138408e-02, 1.40138408e-02, 1.40138408e-02, 1.40138408e-02,\n",
       "        1.40138408e-02, 1.40138408e-02, 1.40138408e-02, 1.40138408e-02,\n",
       "        1.40138408e-02, 1.40138408e-02, 1.40138408e-02, 1.40138408e-02,\n",
       "        1.40138408e-02, 1.40138408e-02, 1.40138408e-02, 1.40138408e-02,\n",
       "        1.40138408e-02, 1.40138408e-02, 1.40138408e-02, 1.40138408e-02,\n",
       "        2.73356401e-02, 2.73356401e-02, 2.73356401e-02, 2.73356401e-02,\n",
       "        2.73356401e-02, 2.73356401e-02, 2.73356401e-02, 2.73356401e-02,\n",
       "        2.73356401e-02, 2.73356401e-02, 2.73356401e-02, 2.73356401e-02,\n",
       "        2.73356401e-02, 2.73356401e-02, 2.73356401e-02, 2.73356401e-02,\n",
       "        2.73356401e-02, 2.73356401e-02, 2.73356401e-02, 2.73356401e-02,\n",
       "        3.02768166e-02, 3.02768166e-02, 3.02768166e-02, 3.02768166e-02,\n",
       "        3.02768166e-02, 3.02768166e-02, 3.02768166e-02, 3.02768166e-02,\n",
       "        3.02768166e-02, 3.02768166e-02, 3.02768166e-02, 3.02768166e-02,\n",
       "        3.02768166e-02, 3.02768166e-02, 3.02768166e-02, 3.02768166e-02,\n",
       "        3.02768166e-02, 3.02768166e-02, 3.02768166e-02, 3.02768166e-02,\n",
       "        4.32525952e-02, 4.32525952e-02, 4.32525952e-02, 4.32525952e-02,\n",
       "        4.32525952e-02, 4.32525952e-02, 4.32525952e-02, 4.32525952e-02,\n",
       "        4.32525952e-02, 4.32525952e-02, 4.32525952e-02, 4.32525952e-02,\n",
       "        4.32525952e-02, 4.32525952e-02, 4.32525952e-02, 4.32525952e-02,\n",
       "        4.32525952e-02, 4.32525952e-02, 4.32525952e-02, 4.32525952e-02,\n",
       "        4.79238754e-02, 4.79238754e-02, 4.79238754e-02, 4.79238754e-02,\n",
       "        4.79238754e-02, 4.79238754e-02, 4.79238754e-02, 4.79238754e-02,\n",
       "        4.79238754e-02, 4.79238754e-02, 4.79238754e-02, 4.79238754e-02,\n",
       "        4.79238754e-02, 4.79238754e-02, 4.79238754e-02, 4.79238754e-02,\n",
       "        4.79238754e-02, 4.79238754e-02, 4.79238754e-02, 4.79238754e-02,\n",
       "        5.50173010e-02, 5.50173010e-02, 5.50173010e-02, 5.50173010e-02,\n",
       "        5.50173010e-02, 5.50173010e-02, 5.50173010e-02, 5.50173010e-02,\n",
       "        5.50173010e-02, 5.50173010e-02, 5.50173010e-02, 5.50173010e-02,\n",
       "        5.50173010e-02, 5.50173010e-02, 5.50173010e-02, 5.50173010e-02,\n",
       "        5.50173010e-02, 5.50173010e-02, 5.50173010e-02, 5.50173010e-02,\n",
       "        8.78892734e-02, 8.78892734e-02, 8.78892734e-02, 8.78892734e-02,\n",
       "        8.78892734e-02, 8.78892734e-02, 8.78892734e-02, 8.78892734e-02,\n",
       "        8.78892734e-02, 8.78892734e-02, 8.78892734e-02, 8.78892734e-02,\n",
       "        8.78892734e-02, 8.78892734e-02, 8.78892734e-02, 8.78892734e-02,\n",
       "        8.78892734e-02, 8.78892734e-02, 8.78892734e-02, 8.78892734e-02,\n",
       "        1.19723183e-01, 1.19723183e-01, 1.19723183e-01, 1.19723183e-01,\n",
       "        1.19723183e-01, 1.19723183e-01, 1.19723183e-01, 1.19723183e-01,\n",
       "        1.19723183e-01, 1.19723183e-01, 1.19723183e-01, 1.19723183e-01,\n",
       "        1.19723183e-01, 1.19723183e-01, 1.19723183e-01, 1.19723183e-01,\n",
       "        1.19723183e-01, 1.19723183e-01, 1.19723183e-01, 1.19723183e-01,\n",
       "        1.73010381e-01, 1.73010381e-01, 1.73010381e-01, 1.73010381e-01,\n",
       "        1.73010381e-01, 1.73010381e-01, 1.73010381e-01, 1.73010381e-01,\n",
       "        1.73010381e-01, 1.73010381e-01, 1.73010381e-01, 1.73010381e-01,\n",
       "        1.73010381e-01, 1.73010381e-01, 1.73010381e-01, 1.73010381e-01,\n",
       "        1.73010381e-01, 1.73010381e-01, 1.73010381e-01, 1.73010381e-01,\n",
       "        2.39965398e-01, 2.39965398e-01, 2.39965398e-01, 2.39965398e-01,\n",
       "        2.39965398e-01, 2.39965398e-01, 2.39965398e-01, 2.39965398e-01,\n",
       "        2.39965398e-01, 2.39965398e-01, 2.39965398e-01, 2.39965398e-01,\n",
       "        2.39965398e-01, 2.39965398e-01, 2.39965398e-01, 2.39965398e-01,\n",
       "        2.39965398e-01, 2.39965398e-01, 2.39965398e-01, 2.39965398e-01,\n",
       "        7.66262976e-01, 7.66262976e-01, 7.66262976e-01, 7.66262976e-01,\n",
       "        7.66262976e-01, 7.66262976e-01, 7.66262976e-01, 7.66262976e-01,\n",
       "        7.66262976e-01, 7.66262976e-01, 7.66262976e-01, 7.66262976e-01,\n",
       "        7.66262976e-01, 7.66262976e-01, 7.66262976e-01, 7.66262976e-01,\n",
       "        7.66262976e-01, 7.66262976e-01, 7.66262976e-01, 7.66262976e-01,\n",
       "        8.89273356e-01, 8.89273356e-01, 8.89273356e-01, 8.89273356e-01,\n",
       "        8.89273356e-01, 8.89273356e-01, 8.89273356e-01, 8.89273356e-01,\n",
       "        8.89273356e-01, 8.89273356e-01, 8.89273356e-01, 8.89273356e-01,\n",
       "        8.89273356e-01, 8.89273356e-01, 8.89273356e-01, 8.89273356e-01,\n",
       "        8.89273356e-01, 8.89273356e-01, 8.89273356e-01, 8.89273356e-01,\n",
       "        9.43425606e-01, 9.43425606e-01, 9.43425606e-01, 9.43425606e-01,\n",
       "        9.43425606e-01, 9.43425606e-01, 9.43425606e-01, 9.43425606e-01,\n",
       "        9.43425606e-01, 9.43425606e-01, 9.43425606e-01, 9.43425606e-01,\n",
       "        9.43425606e-01, 9.43425606e-01, 9.43425606e-01, 9.43425606e-01,\n",
       "        9.43425606e-01, 9.43425606e-01, 9.43425606e-01, 9.43425606e-01,\n",
       "        9.76297578e-01, 9.76297578e-01, 9.76297578e-01, 9.76297578e-01,\n",
       "        9.76297578e-01, 9.76297578e-01, 9.76297578e-01, 9.76297578e-01,\n",
       "        9.76297578e-01, 9.76297578e-01, 9.76297578e-01, 9.76297578e-01,\n",
       "        9.76297578e-01, 9.76297578e-01, 9.76297578e-01, 9.76297578e-01,\n",
       "        9.76297578e-01, 9.76297578e-01, 9.76297578e-01, 9.76297578e-01,\n",
       "        9.92560554e-01, 9.92560554e-01, 9.92560554e-01, 9.92560554e-01,\n",
       "        9.92560554e-01, 9.92560554e-01, 9.92560554e-01, 9.92560554e-01,\n",
       "        9.92560554e-01, 9.92560554e-01, 9.92560554e-01, 9.92560554e-01,\n",
       "        9.92560554e-01, 9.92560554e-01, 9.92560554e-01, 9.92560554e-01,\n",
       "        9.92560554e-01, 9.92560554e-01, 9.92560554e-01, 9.92560554e-01,\n",
       "        9.97404844e-01, 9.97404844e-01, 9.97404844e-01, 9.97404844e-01,\n",
       "        9.97404844e-01, 9.97404844e-01, 9.97404844e-01, 9.97404844e-01,\n",
       "        9.97404844e-01, 9.97404844e-01, 9.97404844e-01, 9.97404844e-01,\n",
       "        9.97404844e-01, 9.97404844e-01, 9.97404844e-01, 9.97404844e-01,\n",
       "        9.97404844e-01, 9.97404844e-01, 9.97404844e-01, 9.97404844e-01,\n",
       "        9.98788927e-01, 9.98788927e-01, 9.98788927e-01, 9.98788927e-01,\n",
       "        9.98788927e-01, 9.98788927e-01, 9.98788927e-01, 9.98788927e-01,\n",
       "        9.98788927e-01, 9.98788927e-01, 9.98788927e-01, 9.98788927e-01,\n",
       "        9.98788927e-01, 9.98788927e-01, 9.98788927e-01, 9.98788927e-01,\n",
       "        9.98788927e-01, 9.98788927e-01, 9.98788927e-01, 9.98788927e-01,\n",
       "        9.98788927e-01, 9.98788927e-01, 9.98788927e-01, 9.98788927e-01,\n",
       "        9.98788927e-01, 9.98788927e-01, 9.98788927e-01, 9.98788927e-01,\n",
       "        9.98788927e-01, 9.98788927e-01, 9.98788927e-01, 9.98788927e-01,\n",
       "        9.98788927e-01, 9.98788927e-01, 9.98788927e-01, 9.98788927e-01,\n",
       "        9.98788927e-01, 9.98788927e-01, 9.98788927e-01, 9.98788927e-01,\n",
       "        9.98788927e-01, 9.98788927e-01, 9.98788927e-01, 9.98788927e-01,\n",
       "        9.98788927e-01, 9.98788927e-01, 9.98788927e-01, 9.98788927e-01,\n",
       "        9.98788927e-01, 9.98788927e-01, 9.98788927e-01, 9.98788927e-01,\n",
       "        9.98788927e-01, 9.98788927e-01, 9.98788927e-01, 9.98788927e-01,\n",
       "        9.98788927e-01, 9.98788927e-01, 9.98788927e-01, 9.98788927e-01,\n",
       "        9.99653979e-01, 9.99653979e-01, 9.99653979e-01, 9.99653979e-01,\n",
       "        9.99653979e-01, 9.99653979e-01, 9.99653979e-01, 9.99653979e-01,\n",
       "        9.99653979e-01, 9.99653979e-01, 9.99653979e-01, 9.99653979e-01,\n",
       "        9.99653979e-01, 9.99653979e-01, 9.99653979e-01, 9.99653979e-01,\n",
       "        9.99653979e-01, 9.99653979e-01, 9.99653979e-01, 9.99653979e-01,\n",
       "        9.99653979e-01, 9.99653979e-01, 9.99653979e-01, 9.99653979e-01,\n",
       "        9.99653979e-01, 9.99653979e-01, 9.99653979e-01, 9.99653979e-01,\n",
       "        9.99653979e-01, 9.99653979e-01, 9.99653979e-01, 9.99653979e-01,\n",
       "        9.99653979e-01, 9.99653979e-01, 9.99653979e-01, 9.99653979e-01,\n",
       "        9.99653979e-01, 9.99653979e-01, 9.99653979e-01, 1.00000000e+00]),\n",
       " array([ 0.  ,  0.05,  0.1 , ..., 49.9 , 49.95, 50.  ]),\n",
       " [<matplotlib.patches.Polygon at 0x7f9c74bdb6a0>])"
      ]
     },
     "execution_count": 154,
     "metadata": {},
     "output_type": "execute_result"
    },
    {
     "data": {
      "image/png": "[encoded data removed]",
      "text/plain": [
       "<Figure size 432x288 with 1 Axes>"
      ]
     },
     "metadata": {
      "needs_background": "light"
     },
     "output_type": "display_data"
    }
   ],
   "source": [
    "plt.hist(df[first]['prglngth'].values, bins=1000, range=(0, 50), alpha=0.5, label='first', density=True, cumulative=True, histtype='step')\n",
    "plt.hist(df[other]['prglngth'].values, bins=1000, range=(0, 50), alpha=0.5, label='other', density=True, cumulative=True, histtype='step')\n"
   ]
  },
  {
   "cell_type": "code",
   "execution_count": 147,
   "id": "1f16a800",
   "metadata": {},
   "outputs": [
    {
     "data": {
      "text/plain": [
       "KstestResult(statistic=0.03476029226836746, pvalue=0.011341896693183195)"
      ]
     },
     "execution_count": 147,
     "metadata": {},
     "output_type": "execute_result"
    }
   ],
   "source": [
    "stats.ks_2samp(df[first]['prglngth'].values, df[other]['prglngth'].values)"
   ]
  },
  {
   "cell_type": "code",
   "execution_count": 149,
   "id": "18c03fec",
   "metadata": {},
   "outputs": [
    {
     "data": {
      "text/plain": [
       "ShapiroResult(statistic=0.7615361213684082, pvalue=0.0)"
      ]
     },
     "execution_count": 149,
     "metadata": {},
     "output_type": "execute_result"
    }
   ],
   "source": [
    "stats.shapiro(df[first]['prglngth'].values)"
   ]
  },
  {
   "cell_type": "code",
   "execution_count": 150,
   "id": "251f9c04",
   "metadata": {},
   "outputs": [
    {
     "name": "stderr",
     "output_type": "stream",
     "text": [
      "/Users/Valdir.Salustino@ibm.com/Documents/git/mentorship/venv/lib/python3.9/site-packages/scipy/stats/morestats.py:1760: UserWarning: p-value may not be accurate for N > 5000.\n",
      "  warnings.warn(\"p-value may not be accurate for N > 5000.\")\n"
     ]
    },
    {
     "data": {
      "text/plain": [
       "ShapiroResult(statistic=0.6953877210617065, pvalue=0.0)"
      ]
     },
     "execution_count": 150,
     "metadata": {},
     "output_type": "execute_result"
    }
   ],
   "source": [
    "stats.shapiro(df[other]['prglngth'].values)"
   ]
  },
  {
   "cell_type": "code",
   "execution_count": null,
   "id": "2e74580f",
   "metadata": {},
   "outputs": [],
   "source": []
  }
 ],
 "metadata": {
  "kernelspec": {
   "display_name": "Python 3 (ipykernel)",
   "language": "python",
   "name": "python3"
  },
  "language_info": {
   "codemirror_mode": {
    "name": "ipython",
    "version": 3
   },
   "file_extension": ".py",
   "mimetype": "text/x-python",
   "name": "python",
   "nbconvert_exporter": "python",
   "pygments_lexer": "ipython3",
   "version": "3.9.4"
  }
 },
 "nbformat": 4,
 "nbformat_minor": 5
}
