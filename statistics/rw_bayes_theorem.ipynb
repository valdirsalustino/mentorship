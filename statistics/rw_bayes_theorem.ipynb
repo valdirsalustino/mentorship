{
 "cells": [
  {
   "cell_type": "markdown",
   "id": "5fd35103",
   "metadata": {},
   "source": [
    "# Bayes Theorem\n",
    "\n",
    "\n",
    "taken from the book [think bayes](https://www.amazon.com.br/Think-Bayes-Allen-B-Downey/dp/1449370780/ref=asc_df_1449370780/?tag=googleshopp00-20&linkCode=df0&hvadid=379787788238&hvpos=&hvnetw=g&hvrand=12762391381986177857&hvpone=&hvptwo=&hvqmt=&hvdev=c&hvdvcmdl=&hvlocint=&hvlocphy=1001652&hvtargid=pla-525198131441&psc=1)"
   ]
  },
  {
   "cell_type": "code",
   "execution_count": 1,
   "id": "b8aa1914",
   "metadata": {},
   "outputs": [],
   "source": [
    "import pandas as pd"
   ]
  },
  {
   "cell_type": "code",
   "execution_count": 2,
   "id": "bb7f90eb",
   "metadata": {},
   "outputs": [],
   "source": [
    "df = pd.read_csv('data/gss_bayes.csv')"
   ]
  },
  {
   "cell_type": "code",
   "execution_count": 109,
   "id": "a3fb7aae",
   "metadata": {},
   "outputs": [
    {
     "data": {
      "text/html": [
       "<div>\n",
       "<style scoped>\n",
       "    .dataframe tbody tr th:only-of-type {\n",
       "        vertical-align: middle;\n",
       "    }\n",
       "\n",
       "    .dataframe tbody tr th {\n",
       "        vertical-align: top;\n",
       "    }\n",
       "\n",
       "    .dataframe thead th {\n",
       "        text-align: right;\n",
       "    }\n",
       "</style>\n",
       "<table border=\"1\" class=\"dataframe\">\n",
       "  <thead>\n",
       "    <tr style=\"text-align: right;\">\n",
       "      <th></th>\n",
       "      <th>caseid</th>\n",
       "      <th>year</th>\n",
       "      <th>age</th>\n",
       "      <th>sex</th>\n",
       "      <th>polviews</th>\n",
       "      <th>partyid</th>\n",
       "      <th>indus10</th>\n",
       "    </tr>\n",
       "  </thead>\n",
       "  <tbody>\n",
       "    <tr>\n",
       "      <th>0</th>\n",
       "      <td>1</td>\n",
       "      <td>1974</td>\n",
       "      <td>21.0</td>\n",
       "      <td>1</td>\n",
       "      <td>4.0</td>\n",
       "      <td>2.0</td>\n",
       "      <td>4970.0</td>\n",
       "    </tr>\n",
       "    <tr>\n",
       "      <th>1</th>\n",
       "      <td>2</td>\n",
       "      <td>1974</td>\n",
       "      <td>41.0</td>\n",
       "      <td>1</td>\n",
       "      <td>5.0</td>\n",
       "      <td>0.0</td>\n",
       "      <td>9160.0</td>\n",
       "    </tr>\n",
       "    <tr>\n",
       "      <th>2</th>\n",
       "      <td>5</td>\n",
       "      <td>1974</td>\n",
       "      <td>58.0</td>\n",
       "      <td>2</td>\n",
       "      <td>6.0</td>\n",
       "      <td>1.0</td>\n",
       "      <td>2670.0</td>\n",
       "    </tr>\n",
       "  </tbody>\n",
       "</table>\n",
       "</div>"
      ],
      "text/plain": [
       "   caseid  year   age  sex  polviews  partyid  indus10\n",
       "0       1  1974  21.0    1       4.0      2.0   4970.0\n",
       "1       2  1974  41.0    1       5.0      0.0   9160.0\n",
       "2       5  1974  58.0    2       6.0      1.0   2670.0"
      ]
     },
     "execution_count": 109,
     "metadata": {},
     "output_type": "execute_result"
    }
   ],
   "source": [
    "df[:3]"
   ]
  },
  {
   "cell_type": "code",
   "execution_count": 112,
   "id": "93cfe62d",
   "metadata": {},
   "outputs": [],
   "source": [
    "# df['indus10'].value_counts()"
   ]
  },
  {
   "cell_type": "code",
   "execution_count": 108,
   "id": "daaa5211",
   "metadata": {},
   "outputs": [],
   "source": [
    "# df"
   ]
  },
  {
   "cell_type": "code",
   "execution_count": 113,
   "id": "970a8134",
   "metadata": {
    "scrolled": true
   },
   "outputs": [
    {
     "data": {
      "text/html": [
       "<div>\n",
       "<style scoped>\n",
       "    .dataframe tbody tr th:only-of-type {\n",
       "        vertical-align: middle;\n",
       "    }\n",
       "\n",
       "    .dataframe tbody tr th {\n",
       "        vertical-align: top;\n",
       "    }\n",
       "\n",
       "    .dataframe thead th {\n",
       "        text-align: right;\n",
       "    }\n",
       "</style>\n",
       "<table border=\"1\" class=\"dataframe\">\n",
       "  <thead>\n",
       "    <tr style=\"text-align: right;\">\n",
       "      <th></th>\n",
       "      <th>caseid</th>\n",
       "      <th>year</th>\n",
       "      <th>age</th>\n",
       "      <th>sex</th>\n",
       "      <th>polviews</th>\n",
       "      <th>partyid</th>\n",
       "      <th>indus10</th>\n",
       "    </tr>\n",
       "  </thead>\n",
       "  <tbody>\n",
       "    <tr>\n",
       "      <th>3</th>\n",
       "      <td>6</td>\n",
       "      <td>1974</td>\n",
       "      <td>30.0</td>\n",
       "      <td>1</td>\n",
       "      <td>5.0</td>\n",
       "      <td>4.0</td>\n",
       "      <td>6870.0</td>\n",
       "    </tr>\n",
       "    <tr>\n",
       "      <th>33</th>\n",
       "      <td>44</td>\n",
       "      <td>1974</td>\n",
       "      <td>54.0</td>\n",
       "      <td>2</td>\n",
       "      <td>4.0</td>\n",
       "      <td>1.0</td>\n",
       "      <td>6870.0</td>\n",
       "    </tr>\n",
       "    <tr>\n",
       "      <th>45</th>\n",
       "      <td>56</td>\n",
       "      <td>1974</td>\n",
       "      <td>59.0</td>\n",
       "      <td>1</td>\n",
       "      <td>5.0</td>\n",
       "      <td>0.0</td>\n",
       "      <td>6870.0</td>\n",
       "    </tr>\n",
       "    <tr>\n",
       "      <th>91</th>\n",
       "      <td>118</td>\n",
       "      <td>1974</td>\n",
       "      <td>28.0</td>\n",
       "      <td>2</td>\n",
       "      <td>4.0</td>\n",
       "      <td>1.0</td>\n",
       "      <td>6870.0</td>\n",
       "    </tr>\n",
       "    <tr>\n",
       "      <th>106</th>\n",
       "      <td>135</td>\n",
       "      <td>1974</td>\n",
       "      <td>30.0</td>\n",
       "      <td>2</td>\n",
       "      <td>4.0</td>\n",
       "      <td>2.0</td>\n",
       "      <td>6870.0</td>\n",
       "    </tr>\n",
       "    <tr>\n",
       "      <th>...</th>\n",
       "      <td>...</td>\n",
       "      <td>...</td>\n",
       "      <td>...</td>\n",
       "      <td>...</td>\n",
       "      <td>...</td>\n",
       "      <td>...</td>\n",
       "      <td>...</td>\n",
       "    </tr>\n",
       "    <tr>\n",
       "      <th>48922</th>\n",
       "      <td>2472</td>\n",
       "      <td>2016</td>\n",
       "      <td>26.0</td>\n",
       "      <td>1</td>\n",
       "      <td>5.0</td>\n",
       "      <td>7.0</td>\n",
       "      <td>6870.0</td>\n",
       "    </tr>\n",
       "    <tr>\n",
       "      <th>49077</th>\n",
       "      <td>2641</td>\n",
       "      <td>2016</td>\n",
       "      <td>71.0</td>\n",
       "      <td>2</td>\n",
       "      <td>6.0</td>\n",
       "      <td>4.0</td>\n",
       "      <td>6870.0</td>\n",
       "    </tr>\n",
       "    <tr>\n",
       "      <th>49192</th>\n",
       "      <td>2765</td>\n",
       "      <td>2016</td>\n",
       "      <td>24.0</td>\n",
       "      <td>2</td>\n",
       "      <td>4.0</td>\n",
       "      <td>5.0</td>\n",
       "      <td>6870.0</td>\n",
       "    </tr>\n",
       "    <tr>\n",
       "      <th>49252</th>\n",
       "      <td>2830</td>\n",
       "      <td>2016</td>\n",
       "      <td>62.0</td>\n",
       "      <td>1</td>\n",
       "      <td>5.0</td>\n",
       "      <td>1.0</td>\n",
       "      <td>6870.0</td>\n",
       "    </tr>\n",
       "    <tr>\n",
       "      <th>49275</th>\n",
       "      <td>2853</td>\n",
       "      <td>2016</td>\n",
       "      <td>63.0</td>\n",
       "      <td>2</td>\n",
       "      <td>4.0</td>\n",
       "      <td>6.0</td>\n",
       "      <td>6870.0</td>\n",
       "    </tr>\n",
       "  </tbody>\n",
       "</table>\n",
       "<p>728 rows × 7 columns</p>\n",
       "</div>"
      ],
      "text/plain": [
       "       caseid  year   age  sex  polviews  partyid  indus10\n",
       "3           6  1974  30.0    1       5.0      4.0   6870.0\n",
       "33         44  1974  54.0    2       4.0      1.0   6870.0\n",
       "45         56  1974  59.0    1       5.0      0.0   6870.0\n",
       "91        118  1974  28.0    2       4.0      1.0   6870.0\n",
       "106       135  1974  30.0    2       4.0      2.0   6870.0\n",
       "...       ...   ...   ...  ...       ...      ...      ...\n",
       "48922    2472  2016  26.0    1       5.0      7.0   6870.0\n",
       "49077    2641  2016  71.0    2       6.0      4.0   6870.0\n",
       "49192    2765  2016  24.0    2       4.0      5.0   6870.0\n",
       "49252    2830  2016  62.0    1       5.0      1.0   6870.0\n",
       "49275    2853  2016  63.0    2       4.0      6.0   6870.0\n",
       "\n",
       "[728 rows x 7 columns]"
      ]
     },
     "execution_count": 113,
     "metadata": {},
     "output_type": "execute_result"
    }
   ],
   "source": [
    "# banker\n",
    "banker = df['indus10'] == 6870\n",
    "df[banker]"
   ]
  },
  {
   "cell_type": "code",
   "execution_count": 4,
   "id": "6b283ade",
   "metadata": {},
   "outputs": [
    {
     "name": "stdout",
     "output_type": "stream",
     "text": [
      "Prob of be a banker: 1.48 %\n"
     ]
    }
   ],
   "source": [
    "prob_bankers = df[banker].shape[0]/df.shape[0]*100\n",
    "\n",
    "print(f\"Prob of be a banker: {round(prob_bankers,2)} %\")"
   ]
  },
  {
   "cell_type": "code",
   "execution_count": 5,
   "id": "1788e1a6",
   "metadata": {},
   "outputs": [
    {
     "data": {
      "text/plain": [
       "2    0.537858\n",
       "1    0.462142\n",
       "Name: sex, dtype: float64"
      ]
     },
     "execution_count": 5,
     "metadata": {},
     "output_type": "execute_result"
    }
   ],
   "source": [
    "df['sex'].value_counts(1)"
   ]
  },
  {
   "cell_type": "raw",
   "id": "72de1c62",
   "metadata": {},
   "source": [
    "The values of polviews are on a seven-point scale:\n",
    "\n",
    "\n",
    "1 - Extremely liberal\n",
    "2 - Liberal\n",
    "3 - Slightly liberal\n",
    "4 - Moderate\n",
    "5 - Slightly conservative\n",
    "6 - Conservative\n",
    "7 - Extremely conservative"
   ]
  },
  {
   "cell_type": "code",
   "execution_count": 121,
   "id": "53d34db1",
   "metadata": {},
   "outputs": [
    {
     "data": {
      "text/plain": [
       "4.0    0.384317\n",
       "5.0    0.161087\n",
       "6.0    0.148489\n",
       "3.0    0.126659\n",
       "2.0    0.117833\n",
       "7.0    0.032360\n",
       "1.0    0.029255\n",
       "Name: polviews, dtype: float64"
      ]
     },
     "execution_count": 121,
     "metadata": {},
     "output_type": "execute_result"
    }
   ],
   "source": [
    "df['polviews'].value_counts(1)"
   ]
  },
  {
   "cell_type": "code",
   "execution_count": 116,
   "id": "0192dfc0",
   "metadata": {},
   "outputs": [
    {
     "data": {
      "text/plain": [
       "27.0"
      ]
     },
     "execution_count": 116,
     "metadata": {},
     "output_type": "execute_result"
    }
   ],
   "source": [
    "# chance of being a liberal person assuming liberals <= 3\n",
    "\n",
    "liberal = df['polviews'] <= 3\n",
    "round(df[liberal].shape[0]/df.shape[0],2 )*100"
   ]
  },
  {
   "cell_type": "raw",
   "id": "84252471",
   "metadata": {},
   "source": [
    "The values of partyid are encoded like this:\n",
    "\n",
    "0 - Strong democrat\n",
    "1 - Not strong democrat\n",
    "2 - Independent, near democrat\n",
    "3 - Independent\n",
    "4 - Independent, near republican\n",
    "5 - Not strong republican\n",
    "6 - Strong republican\n",
    "7 - Other party"
   ]
  },
  {
   "cell_type": "code",
   "execution_count": 8,
   "id": "62b27022",
   "metadata": {},
   "outputs": [
    {
     "data": {
      "text/plain": [
       "0        2.0\n",
       "1        0.0\n",
       "2        1.0\n",
       "3        4.0\n",
       "4        4.0\n",
       "        ... \n",
       "49285    0.0\n",
       "49286    7.0\n",
       "49287    5.0\n",
       "49288    5.0\n",
       "49289    3.0\n",
       "Name: partyid, Length: 49290, dtype: float64"
      ]
     },
     "execution_count": 8,
     "metadata": {},
     "output_type": "execute_result"
    }
   ],
   "source": [
    "df['partyid']"
   ]
  },
  {
   "cell_type": "code",
   "execution_count": 9,
   "id": "0ffca43d",
   "metadata": {},
   "outputs": [
    {
     "data": {
      "text/plain": [
       "0.3662609048488537"
      ]
     },
     "execution_count": 9,
     "metadata": {},
     "output_type": "execute_result"
    }
   ],
   "source": [
    "# democrat <= 1\n",
    "\n",
    "df[df['partyid'] <= 1].shape[0]/df.shape[0]"
   ]
  },
  {
   "cell_type": "markdown",
   "id": "9d0765ba",
   "metadata": {},
   "source": [
    "### Conjunction\n",
    "\n",
    "\"Conjunction\" is another name for the logical `and` operation. If you have two propositions, `A` and `B`, the conjunction `A` and `B` is True if both `A and B` are True, and False otherwise.\n"
   ]
  },
  {
   "cell_type": "code",
   "execution_count": 10,
   "id": "aaab77a0",
   "metadata": {},
   "outputs": [],
   "source": [
    "# prob of be a banker person and demograt"
   ]
  },
  {
   "cell_type": "code",
   "execution_count": 10,
   "id": "1ef86d33",
   "metadata": {},
   "outputs": [
    {
     "data": {
      "text/plain": [
       "0.004686548995739501"
      ]
     },
     "execution_count": 10,
     "metadata": {},
     "output_type": "execute_result"
    }
   ],
   "source": [
    "democrat = df['partyid'] <= 1\n",
    "df[(banker) & (democrat)].shape[0]/df.shape[0]"
   ]
  },
  {
   "cell_type": "markdown",
   "id": "228b85c9",
   "metadata": {},
   "source": [
    "conjunction is commutative: prob (A & B) = prob (B & A)"
   ]
  },
  {
   "cell_type": "code",
   "execution_count": 11,
   "id": "4d1fb8f8",
   "metadata": {},
   "outputs": [
    {
     "data": {
      "text/plain": [
       "0.004686548995739501"
      ]
     },
     "execution_count": 11,
     "metadata": {},
     "output_type": "execute_result"
    }
   ],
   "source": [
    "df[(democrat) & (banker)].shape[0]/df.shape[0]"
   ]
  },
  {
   "cell_type": "code",
   "execution_count": 126,
   "id": "dad8a079",
   "metadata": {},
   "outputs": [],
   "source": [
    "banker = df['indus10'] == 6870\n",
    "df_banker = df[banker]"
   ]
  },
  {
   "cell_type": "code",
   "execution_count": 128,
   "id": "baaf6e45",
   "metadata": {},
   "outputs": [
    {
     "data": {
      "text/plain": [
       "728"
      ]
     },
     "execution_count": 128,
     "metadata": {},
     "output_type": "execute_result"
    }
   ],
   "source": [
    "df_banker.shape[0]"
   ]
  },
  {
   "cell_type": "code",
   "execution_count": 129,
   "id": "3da590eb",
   "metadata": {},
   "outputs": [],
   "source": [
    "df_banker_dem = df_banker[df_banker['partyid'] <= 1]"
   ]
  },
  {
   "cell_type": "code",
   "execution_count": 132,
   "id": "85c2b019",
   "metadata": {},
   "outputs": [
    {
     "data": {
      "text/plain": [
       "0.004686548995739501"
      ]
     },
     "execution_count": 132,
     "metadata": {},
     "output_type": "execute_result"
    }
   ],
   "source": [
    "df_banker_dem.shape[0]/df.shape[0]"
   ]
  },
  {
   "cell_type": "code",
   "execution_count": 152,
   "id": "a1943e48",
   "metadata": {},
   "outputs": [
    {
     "name": "stdout",
     "output_type": "stream",
     "text": [
      "CPU times: user 676 µs, sys: 17 µs, total: 693 µs\n",
      "Wall time: 698 µs\n"
     ]
    },
    {
     "data": {
      "text/plain": [
       "0.004686548995739501"
      ]
     },
     "execution_count": 152,
     "metadata": {},
     "output_type": "execute_result"
    }
   ],
   "source": [
    "%time df[(democrat) & (banker)].shape[0]/df.shape[0]"
   ]
  },
  {
   "cell_type": "markdown",
   "id": "b56a96c4",
   "metadata": {},
   "source": [
    "### Conditional Probability"
   ]
  },
  {
   "cell_type": "markdown",
   "id": "ccad153e",
   "metadata": {},
   "source": [
    "Conditional probability is a probability that depends on a condition, but that might not be the most helpful definition. \n",
    "\n",
    "Here are some examples:\n",
    "\n",
    "* What is the probability that a respondent is a Democrat, given that they are liberal?\n",
    "\n",
    "* What is the probability that a respondent is female, given that they are a banker?\n",
    "\n",
    "* What is the probability that a respondent is liberal, given that they are female?\n",
    "\n",
    "Let's start with the first one, which we can interpret like this: \"Of all the respondents who are liberal, what fraction are Democrats?\"\n",
    "\n",
    "We can compute this probability in two steps:\n",
    "\n",
    "1. Select all respondents who are liberal.\n",
    "\n",
    "2. Compute the fraction of the selected respondents who are Democrats.\n",
    "\n",
    "To select liberal respondents, we can use the bracket operator, `[]`, like this:\n",
    "\n"
   ]
  },
  {
   "cell_type": "code",
   "execution_count": 163,
   "id": "2b596f20",
   "metadata": {},
   "outputs": [],
   "source": [
    "democrat = df['partyid'] <= 1\n",
    "liberal = df['polviews'] <= 3"
   ]
  },
  {
   "cell_type": "code",
   "execution_count": 164,
   "id": "96b21c58",
   "metadata": {},
   "outputs": [],
   "source": [
    "df_lib = df[liberal]"
   ]
  },
  {
   "cell_type": "code",
   "execution_count": 57,
   "id": "53989688",
   "metadata": {},
   "outputs": [
    {
     "data": {
      "text/plain": [
       "0.5206403320240125"
      ]
     },
     "execution_count": 57,
     "metadata": {},
     "output_type": "execute_result"
    }
   ],
   "source": [
    "df_lib[df_lib['partyid'] <= 1].shape[0]/df_lib.shape[0]"
   ]
  },
  {
   "cell_type": "markdown",
   "id": "78ca3ff9",
   "metadata": {},
   "source": [
    "A little more than half of liberals are Democrats. If that result is lower than you expected, keep in mind:\n",
    "\n",
    "1. We used a somewhat strict definition of “Democrat”, excluding independents who “lean” Democratic.\n",
    "\n",
    "2. The dataset includes respondents as far back as 1974; in the early part of this interval, there was less alignment between political views and party affiliation, compared to the present.\n",
    "\n",
    "\n",
    "Let's try the second example, \"What is the probability that a respondent is female, given that they are a banker?\". \n",
    "\n",
    "We can interpret that to mean, \"Of all respondents who are bankers, what fraction are female?\""
   ]
  },
  {
   "cell_type": "code",
   "execution_count": 63,
   "id": "1878cb34",
   "metadata": {},
   "outputs": [],
   "source": [
    "banker = df['indus10'] == 6870\n",
    "df_banker = df[banker]"
   ]
  },
  {
   "cell_type": "code",
   "execution_count": 64,
   "id": "f0af8a34",
   "metadata": {},
   "outputs": [
    {
     "data": {
      "text/plain": [
       "0.7706043956043956"
      ]
     },
     "execution_count": 64,
     "metadata": {},
     "output_type": "execute_result"
    }
   ],
   "source": [
    "df_banker[df_banker['sex'] == 2].shape[0]/df_banker.shape[0]"
   ]
  },
  {
   "cell_type": "code",
   "execution_count": 166,
   "id": "c759da03",
   "metadata": {},
   "outputs": [
    {
     "data": {
      "text/plain": [
       "0.22939560439560439"
      ]
     },
     "execution_count": 166,
     "metadata": {},
     "output_type": "execute_result"
    }
   ],
   "source": [
    "df_banker[df_banker['sex'] == 1].shape[0]/df_banker.shape[0]"
   ]
  },
  {
   "cell_type": "code",
   "execution_count": 178,
   "id": "9436177f",
   "metadata": {},
   "outputs": [],
   "source": [
    "# wrap the conditional in function such as: \n",
    "\n",
    "def prob(A):\n",
    "    \"\"\"Computes the probability of a proposition, A.\"\"\"\n",
    "    return A.mean()\n",
    "\n",
    "\n",
    "def conditional(proposition, given):\n",
    "    return prob(proposition[given])\n"
   ]
  },
  {
   "cell_type": "code",
   "execution_count": 179,
   "id": "f3f975c6",
   "metadata": {},
   "outputs": [
    {
     "data": {
      "text/plain": [
       "0.27581004111500884"
      ]
     },
     "execution_count": 179,
     "metadata": {},
     "output_type": "execute_result"
    }
   ],
   "source": [
    "female = (df['sex'] == 2)\n",
    "liberal = (df['polviews'] <= 3)\n",
    "conditional(liberal, given=female)"
   ]
  },
  {
   "cell_type": "code",
   "execution_count": 74,
   "id": "58bfa51b",
   "metadata": {},
   "outputs": [
    {
     "data": {
      "text/plain": [
       "0.5419106203216483"
      ]
     },
     "execution_count": 74,
     "metadata": {},
     "output_type": "execute_result"
    }
   ],
   "source": [
    "conditional(female, given=liberal)"
   ]
  },
  {
   "cell_type": "markdown",
   "id": "707ce98e",
   "metadata": {},
   "source": [
    "### Conditional Probability Is Not Commutative"
   ]
  },
  {
   "cell_type": "markdown",
   "id": "e37150b7",
   "metadata": {},
   "source": [
    "We have seen that conjunction is commutative; that is, `prob(A & B)` is always equal to `prob(B & A)`.\n",
    "\n",
    "But conditional probability is not commutative; that is, `conditional(A, B)` is not the same as `conditional(B, A)`.\n"
   ]
  },
  {
   "cell_type": "code",
   "execution_count": 75,
   "id": "0c28a65e",
   "metadata": {},
   "outputs": [
    {
     "data": {
      "text/plain": [
       "0.7706043956043956"
      ]
     },
     "execution_count": 75,
     "metadata": {},
     "output_type": "execute_result"
    }
   ],
   "source": [
    "conditional(female, given=banker)"
   ]
  },
  {
   "cell_type": "code",
   "execution_count": 76,
   "id": "0a395d3b",
   "metadata": {},
   "outputs": [
    {
     "data": {
      "text/plain": [
       "0.02116102749801969"
      ]
     },
     "execution_count": 76,
     "metadata": {},
     "output_type": "execute_result"
    }
   ],
   "source": [
    "conditional(banker, given=female)"
   ]
  },
  {
   "cell_type": "code",
   "execution_count": 180,
   "id": "c46827bc",
   "metadata": {},
   "outputs": [
    {
     "data": {
      "text/plain": [
       "0.007331313929496466"
      ]
     },
     "execution_count": 180,
     "metadata": {},
     "output_type": "execute_result"
    }
   ],
   "source": [
    "male = (df['sex'] == 1)\n",
    "conditional(banker, given=male)"
   ]
  },
  {
   "cell_type": "code",
   "execution_count": null,
   "id": "bdffb98c",
   "metadata": {},
   "outputs": [],
   "source": [
    "# 1 % homens sao operadores de caixa\n",
    "# 2 % das mulheres sao operadoras de caixa"
   ]
  },
  {
   "cell_type": "code",
   "execution_count": 181,
   "id": "2b600b56",
   "metadata": {},
   "outputs": [
    {
     "data": {
      "text/plain": [
       "0.7706043956043956"
      ]
     },
     "execution_count": 181,
     "metadata": {},
     "output_type": "execute_result"
    }
   ],
   "source": [
    "conditional(female, given=banker)"
   ]
  },
  {
   "cell_type": "code",
   "execution_count": 182,
   "id": "79d1faa6",
   "metadata": {},
   "outputs": [
    {
     "data": {
      "text/plain": [
       "0.22939560439560439"
      ]
     },
     "execution_count": 182,
     "metadata": {},
     "output_type": "execute_result"
    }
   ],
   "source": [
    "conditional(male, given=banker)"
   ]
  },
  {
   "cell_type": "markdown",
   "id": "bfd30189",
   "metadata": {},
   "source": [
    "### Condition and Conjunction\n",
    "\n",
    "\n",
    "We can combine conditional probability and conjunction. \n",
    "\n",
    "For example, here’s the probability a respondent is female, given that they are a liberal Democrat:"
   ]
  },
  {
   "cell_type": "raw",
   "id": "11362a14",
   "metadata": {},
   "source": [
    "The values of partyid are encoded like this:\n",
    "\n",
    "0 - Strong democrat\n",
    "1 - Not strong democrat\n",
    "2 - Independent, near democrat\n",
    "3 - Independent\n",
    "4 - Independent, near republican\n",
    "5 - Not strong republican\n",
    "6 - Strong republican\n",
    "7 - Other party"
   ]
  },
  {
   "cell_type": "code",
   "execution_count": 187,
   "id": "01a55340",
   "metadata": {},
   "outputs": [
    {
     "data": {
      "text/plain": [
       "0.576085409252669"
      ]
     },
     "execution_count": 187,
     "metadata": {},
     "output_type": "execute_result"
    }
   ],
   "source": [
    "liberal = (df['polviews'] <= 3)\n",
    "democrat = (df['partyid'] <= 1)\n",
    "\n",
    "conditional(female, given=liberal & democrat)"
   ]
  },
  {
   "cell_type": "markdown",
   "id": "248e1f44",
   "metadata": {},
   "source": [
    "About 57% of liberal Democrats are female."
   ]
  },
  {
   "cell_type": "code",
   "execution_count": 188,
   "id": "ec4eeedc",
   "metadata": {},
   "outputs": [
    {
     "data": {
      "text/plain": [
       "0.17307692307692307"
      ]
     },
     "execution_count": 188,
     "metadata": {},
     "output_type": "execute_result"
    }
   ],
   "source": [
    "conditional(liberal & female, given=banker)"
   ]
  },
  {
   "cell_type": "code",
   "execution_count": 189,
   "id": "bdd2d503",
   "metadata": {},
   "outputs": [
    {
     "data": {
      "text/plain": [
       "0.22459893048128343"
      ]
     },
     "execution_count": 189,
     "metadata": {},
     "output_type": "execute_result"
    }
   ],
   "source": [
    "conditional(liberal, given=banker & female)"
   ]
  },
  {
   "cell_type": "markdown",
   "id": "11f105c8",
   "metadata": {},
   "source": [
    "About 17% of bankers are liberal women."
   ]
  },
  {
   "cell_type": "markdown",
   "id": "cc5a3780",
   "metadata": {},
   "source": [
    "## Laws of Probability\n",
    "\n",
    "\n",
    "Lets derive three relationships between conjunction and conditional probability:\n",
    "\n",
    "\n",
    "* Theorem 1: Using a conjunction to compute a conditional probability.\n",
    "* Theorem 2: Using a conditional probability to compute a conjunction.\n",
    "* Theorem 3: Using `conditional(A, B)` to compute `conditional(B, A)`.\n",
    "\n",
    "\n",
    "Theorem 3 is also known as Bayes’s theorem.\n",
    "\n",
    "Lets write these theorems using mathematical notation for probability:\n",
    "\n",
    "* $P(A)$ is the probability of proposition $A$;\n",
    "* $P(A \\ \\textrm{and} \\ B)$ is the probability of the conjunction of $A$ and $B$, that is, the probability that both are true.\n",
    "* $P(A|B)$ is the conditional probability of $A$ given that $B$ is true. The vertical line between $A$ and $B$ is pronounced \"given\".\n",
    "\n",
    "\n",
    "With that, we are ready for Theorem 1.\n",
    "\n",
    "### Theorem 1\n",
    "\n",
    "What fraction of bankers are female? We have already seen one way to compute the answer:\n",
    "\n",
    "1. Use the bracket operator to select the bankers, then\n",
    "2. Use `mean` to compute the fraction of bankers who are female.\n",
    "\n",
    "We can write these steps like this:"
   ]
  },
  {
   "cell_type": "code",
   "execution_count": 80,
   "id": "79af0b79",
   "metadata": {},
   "outputs": [
    {
     "data": {
      "text/plain": [
       "0.7706043956043956"
      ]
     },
     "execution_count": 80,
     "metadata": {},
     "output_type": "execute_result"
    }
   ],
   "source": [
    "female[banker].mean()"
   ]
  },
  {
   "cell_type": "markdown",
   "id": "e7c9deec",
   "metadata": {},
   "source": [
    "Or we can use the `conditional` function, which does the same thing:"
   ]
  },
  {
   "cell_type": "code",
   "execution_count": 81,
   "id": "fdd30308",
   "metadata": {},
   "outputs": [
    {
     "data": {
      "text/plain": [
       "0.7706043956043956"
      ]
     },
     "execution_count": 81,
     "metadata": {},
     "output_type": "execute_result"
    }
   ],
   "source": [
    "conditional(female, given=banker)"
   ]
  },
  {
   "cell_type": "markdown",
   "id": "a7e1a98e",
   "metadata": {},
   "source": [
    "But there is another way to compute this conditional probability, by computing the ratio of two probabilities:\n",
    "\n",
    "1. The fraction of respondents who are female bankers, and\n",
    "2. The fraction of respondents who are bankers.\n",
    "\n",
    "In other words: of all the bankers, what fraction are female bankers? Here’s how we compute this ratio:"
   ]
  },
  {
   "cell_type": "code",
   "execution_count": 191,
   "id": "1dcf825d",
   "metadata": {},
   "outputs": [
    {
     "data": {
      "text/plain": [
       "0.011381618989653074"
      ]
     },
     "execution_count": 191,
     "metadata": {},
     "output_type": "execute_result"
    }
   ],
   "source": [
    "prob(female & banker)"
   ]
  },
  {
   "cell_type": "code",
   "execution_count": 192,
   "id": "dee144e9",
   "metadata": {},
   "outputs": [
    {
     "data": {
      "text/plain": [
       "0.014769730168391155"
      ]
     },
     "execution_count": 192,
     "metadata": {},
     "output_type": "execute_result"
    }
   ],
   "source": [
    "prob(banker)"
   ]
  },
  {
   "cell_type": "code",
   "execution_count": 82,
   "id": "8738d246",
   "metadata": {},
   "outputs": [
    {
     "data": {
      "text/plain": [
       "0.7706043956043956"
      ]
     },
     "execution_count": 82,
     "metadata": {},
     "output_type": "execute_result"
    }
   ],
   "source": [
    "prob(female & banker) / prob(banker)"
   ]
  },
  {
   "cell_type": "markdown",
   "id": "bb9f5789",
   "metadata": {},
   "source": [
    "The result is the same. This example demonstrates a general rule that relates conditional probability and conjunction. Here's what it looks like in math notation:\n",
    "\n",
    "$$\n",
    "P(A|B) = \\frac{P(A \\ \\textrm{and} \\ B)}{P(B)}\n",
    "$$\n",
    "\n",
    "And that's Theorem 1."
   ]
  },
  {
   "cell_type": "markdown",
   "id": "cff551d9",
   "metadata": {},
   "source": [
    "### Theorem 2\n",
    "\n",
    "If we start with Theorem 1 and multiply both sides by $P(B)$ we get Theorem 2: \n",
    "\n",
    "$$\n",
    "P(A \\ \\textrm{and} \\ B) = P(B)P(A|B)\n",
    "$$\n",
    "\n",
    "\n",
    "This formula suggests a second way to compute a conjunction: instead of using the `&` operator, we can compute the product of two probabilities.\n",
    "\n",
    "Let's see if it works for `liberal` and `democrat`. Here's the result using `&`:\n"
   ]
  },
  {
   "cell_type": "code",
   "execution_count": 83,
   "id": "51c5082c",
   "metadata": {},
   "outputs": [
    {
     "data": {
      "text/plain": [
       "0.1425238385067965"
      ]
     },
     "execution_count": 83,
     "metadata": {},
     "output_type": "execute_result"
    }
   ],
   "source": [
    "prob(liberal & democrat)"
   ]
  },
  {
   "cell_type": "markdown",
   "id": "652aa500",
   "metadata": {},
   "source": [
    "And here's the result using Theorem 2:"
   ]
  },
  {
   "cell_type": "code",
   "execution_count": 84,
   "id": "a1ae10df",
   "metadata": {},
   "outputs": [
    {
     "data": {
      "text/plain": [
       "0.1425238385067965"
      ]
     },
     "execution_count": 84,
     "metadata": {},
     "output_type": "execute_result"
    }
   ],
   "source": [
    "prob(democrat) * conditional(liberal, democrat)"
   ]
  },
  {
   "cell_type": "markdown",
   "id": "977471c1",
   "metadata": {},
   "source": [
    "### Theorem 3\n",
    "\n",
    "We have established that conjunction is commutative. In math notation, that means:\n",
    "\n",
    "$$\n",
    "P(A \\ \\textrm{and} \\ B) = P(B \\ \\textrm{and} \\ A)\n",
    "$$\n",
    "\n",
    "If we apply Theorem 2 to both sides, we have:\n",
    "\n",
    "$$\n",
    "P(B)P(A|B) = P(A)P(B|A)\n",
    "$$\n",
    "\n",
    "Here's one way to interpret that: if you want to check $A$ and $B$, you can do it in either order:\n",
    "\n",
    "1. You can check $B$ first, then $A$ conditioned on $B$, or\n",
    "2. You can check $A$ first, then $B$ conditioned on $A$.\n",
    "\n",
    "If we divide through by $P(B)$, we get Theorem 3:\n",
    "\n",
    "$$\n",
    "P(A|B) = \\frac{P(A)P(B|A)}{P(B)}\n",
    "$$\n",
    "\n",
    "\n",
    "<p style=\"color:red;\">And that, my friends, is Bayes's theorem.</p>\n",
    "\n",
    "To see how it works, let's compute the fraction of bankers who are liberal, first using `conditional`:"
   ]
  },
  {
   "cell_type": "code",
   "execution_count": 85,
   "id": "4f7762e1",
   "metadata": {},
   "outputs": [
    {
     "data": {
      "text/plain": [
       "0.2239010989010989"
      ]
     },
     "execution_count": 85,
     "metadata": {},
     "output_type": "execute_result"
    }
   ],
   "source": [
    "liberal = df['polviews'] <= 3\n",
    "banker = df['indus10'] == 6870\n",
    "conditional(liberal, given=banker)"
   ]
  },
  {
   "cell_type": "markdown",
   "id": "192895c5",
   "metadata": {},
   "source": [
    "Now using Bayes's theorem:"
   ]
  },
  {
   "cell_type": "code",
   "execution_count": 87,
   "id": "5f3106a1",
   "metadata": {},
   "outputs": [
    {
     "data": {
      "text/plain": [
       "0.2239010989010989"
      ]
     },
     "execution_count": 87,
     "metadata": {},
     "output_type": "execute_result"
    }
   ],
   "source": [
    "prob(liberal) * conditional(banker, liberal) / prob(banker)"
   ]
  },
  {
   "cell_type": "code",
   "execution_count": 193,
   "id": "253d30cb",
   "metadata": {},
   "outputs": [
    {
     "data": {
      "text/plain": [
       "0.2239010989010989"
      ]
     },
     "execution_count": 193,
     "metadata": {},
     "output_type": "execute_result"
    }
   ],
   "source": [
    "conditional(liberal, given=banker)"
   ]
  },
  {
   "cell_type": "code",
   "execution_count": 195,
   "id": "2ec239a3",
   "metadata": {},
   "outputs": [
    {
     "data": {
      "text/html": [
       "<div>\n",
       "<style scoped>\n",
       "    .dataframe tbody tr th:only-of-type {\n",
       "        vertical-align: middle;\n",
       "    }\n",
       "\n",
       "    .dataframe tbody tr th {\n",
       "        vertical-align: top;\n",
       "    }\n",
       "\n",
       "    .dataframe thead th {\n",
       "        text-align: right;\n",
       "    }\n",
       "</style>\n",
       "<table border=\"1\" class=\"dataframe\">\n",
       "  <thead>\n",
       "    <tr style=\"text-align: right;\">\n",
       "      <th></th>\n",
       "      <th>caseid</th>\n",
       "      <th>year</th>\n",
       "      <th>age</th>\n",
       "      <th>polviews</th>\n",
       "      <th>partyid</th>\n",
       "      <th>indus10</th>\n",
       "    </tr>\n",
       "  </thead>\n",
       "  <tbody>\n",
       "    <tr>\n",
       "      <th>0</th>\n",
       "      <td>1</td>\n",
       "      <td>1974</td>\n",
       "      <td>21.0</td>\n",
       "      <td>4.0</td>\n",
       "      <td>2.0</td>\n",
       "      <td>4970.0</td>\n",
       "    </tr>\n",
       "    <tr>\n",
       "      <th>1</th>\n",
       "      <td>2</td>\n",
       "      <td>1974</td>\n",
       "      <td>41.0</td>\n",
       "      <td>5.0</td>\n",
       "      <td>0.0</td>\n",
       "      <td>9160.0</td>\n",
       "    </tr>\n",
       "    <tr>\n",
       "      <th>2</th>\n",
       "      <td>5</td>\n",
       "      <td>1974</td>\n",
       "      <td>58.0</td>\n",
       "      <td>6.0</td>\n",
       "      <td>1.0</td>\n",
       "      <td>2670.0</td>\n",
       "    </tr>\n",
       "    <tr>\n",
       "      <th>3</th>\n",
       "      <td>6</td>\n",
       "      <td>1974</td>\n",
       "      <td>30.0</td>\n",
       "      <td>5.0</td>\n",
       "      <td>4.0</td>\n",
       "      <td>6870.0</td>\n",
       "    </tr>\n",
       "    <tr>\n",
       "      <th>4</th>\n",
       "      <td>7</td>\n",
       "      <td>1974</td>\n",
       "      <td>48.0</td>\n",
       "      <td>5.0</td>\n",
       "      <td>4.0</td>\n",
       "      <td>7860.0</td>\n",
       "    </tr>\n",
       "    <tr>\n",
       "      <th>...</th>\n",
       "      <td>...</td>\n",
       "      <td>...</td>\n",
       "      <td>...</td>\n",
       "      <td>...</td>\n",
       "      <td>...</td>\n",
       "      <td>...</td>\n",
       "    </tr>\n",
       "    <tr>\n",
       "      <th>49285</th>\n",
       "      <td>2863</td>\n",
       "      <td>2016</td>\n",
       "      <td>57.0</td>\n",
       "      <td>1.0</td>\n",
       "      <td>0.0</td>\n",
       "      <td>7490.0</td>\n",
       "    </tr>\n",
       "    <tr>\n",
       "      <th>49286</th>\n",
       "      <td>2864</td>\n",
       "      <td>2016</td>\n",
       "      <td>77.0</td>\n",
       "      <td>6.0</td>\n",
       "      <td>7.0</td>\n",
       "      <td>3590.0</td>\n",
       "    </tr>\n",
       "    <tr>\n",
       "      <th>49287</th>\n",
       "      <td>2865</td>\n",
       "      <td>2016</td>\n",
       "      <td>87.0</td>\n",
       "      <td>4.0</td>\n",
       "      <td>5.0</td>\n",
       "      <td>770.0</td>\n",
       "    </tr>\n",
       "    <tr>\n",
       "      <th>49288</th>\n",
       "      <td>2866</td>\n",
       "      <td>2016</td>\n",
       "      <td>55.0</td>\n",
       "      <td>5.0</td>\n",
       "      <td>5.0</td>\n",
       "      <td>8680.0</td>\n",
       "    </tr>\n",
       "    <tr>\n",
       "      <th>49289</th>\n",
       "      <td>2867</td>\n",
       "      <td>2016</td>\n",
       "      <td>72.0</td>\n",
       "      <td>5.0</td>\n",
       "      <td>3.0</td>\n",
       "      <td>5170.0</td>\n",
       "    </tr>\n",
       "  </tbody>\n",
       "</table>\n",
       "<p>49290 rows × 6 columns</p>\n",
       "</div>"
      ],
      "text/plain": [
       "       caseid  year   age  polviews  partyid  indus10\n",
       "0           1  1974  21.0       4.0      2.0   4970.0\n",
       "1           2  1974  41.0       5.0      0.0   9160.0\n",
       "2           5  1974  58.0       6.0      1.0   2670.0\n",
       "3           6  1974  30.0       5.0      4.0   6870.0\n",
       "4           7  1974  48.0       5.0      4.0   7860.0\n",
       "...       ...   ...   ...       ...      ...      ...\n",
       "49285    2863  2016  57.0       1.0      0.0   7490.0\n",
       "49286    2864  2016  77.0       6.0      7.0   3590.0\n",
       "49287    2865  2016  87.0       4.0      5.0    770.0\n",
       "49288    2866  2016  55.0       5.0      5.0   8680.0\n",
       "49289    2867  2016  72.0       5.0      3.0   5170.0\n",
       "\n",
       "[49290 rows x 6 columns]"
      ]
     },
     "execution_count": 195,
     "metadata": {},
     "output_type": "execute_result"
    }
   ],
   "source": [
    "df.drop(['sex'], axis=1)"
   ]
  },
  {
   "cell_type": "code",
   "execution_count": 196,
   "id": "99d6cc0c",
   "metadata": {},
   "outputs": [
    {
     "data": {
      "text/plain": [
       "0.5419106203216483"
      ]
     },
     "execution_count": 196,
     "metadata": {},
     "output_type": "execute_result"
    }
   ],
   "source": [
    "conditional(female, given=liberal)"
   ]
  },
  {
   "cell_type": "markdown",
   "id": "a6b94c9b",
   "metadata": {},
   "source": [
    "## The Law of Total Probability\n",
    "\n",
    "\n",
    "In addition to these three theorems, there’s one more thing we’ll need to do Bayesian statistics: the law of total probability. Here’s one form of the law, expressed in mathematical notation:\n",
    "\n",
    "$$\n",
    "P(A) = P(B_1 \\ \\textrm{and} \\ A) + P(B_2 \\ \\textrm{and} \\ A)\n",
    "$$\n",
    "\n",
    "In words, the total probability of $A$ is the sum of two possibilities: either $B_1$ and $A$ are true or $B_2$ and $A$ are true. \n",
    "\n",
    "But this law applies only if $B_1$ and $B_2$ are:\n",
    "\n",
    "* Mutually exclusive, which means that only one of them can be true, and\n",
    "* Collectively exhaustive, which means that one of them must be true.\n",
    "\n",
    "\n",
    "As an example, let's use this law to compute the probability that a respondent is a banker. \n",
    "We can compute it directly like this:"
   ]
  },
  {
   "cell_type": "code",
   "execution_count": 88,
   "id": "c77d6868",
   "metadata": {},
   "outputs": [
    {
     "data": {
      "text/plain": [
       "0.014769730168391155"
      ]
     },
     "execution_count": 88,
     "metadata": {},
     "output_type": "execute_result"
    }
   ],
   "source": [
    "prob(banker)"
   ]
  },
  {
   "cell_type": "markdown",
   "id": "97cde5ab",
   "metadata": {},
   "source": [
    "So let's confirm that we get the same thing if we compute male and female bankers separately.\n",
    "\n",
    "We already have a Boolean `Series` that is `True` for female respondents. Here's the complementary `Series` for male respondents:\n",
    "\n"
   ]
  },
  {
   "cell_type": "code",
   "execution_count": 89,
   "id": "54d01922",
   "metadata": {},
   "outputs": [],
   "source": [
    "male = df['sex'] == 1"
   ]
  },
  {
   "cell_type": "markdown",
   "id": "5c9078c4",
   "metadata": {},
   "source": [
    "Now we can compute the total probability of `banker` like this:"
   ]
  },
  {
   "cell_type": "code",
   "execution_count": 91,
   "id": "7d0a7ee4",
   "metadata": {},
   "outputs": [
    {
     "data": {
      "text/plain": [
       "0.014769730168391155"
      ]
     },
     "execution_count": 91,
     "metadata": {},
     "output_type": "execute_result"
    }
   ],
   "source": [
    "prob(male & banker) + prob(female & banker)"
   ]
  },
  {
   "cell_type": "markdown",
   "id": "84aa07fa",
   "metadata": {},
   "source": [
    "Because `male` and `female` are mutually exclusive and collectively exhaustive (MECE), we get the same result we got by computing the probability of `banker` directly.\n",
    "\n",
    "Applying Theorem 2, we can also write the law of total probability like this:\n",
    "\n",
    "\n",
    "$$\n",
    "P(A) = P(B_1)P(A|B_1) + P(B_2)P(A|B_2)\n",
    "$$\n",
    "\n",
    "\n"
   ]
  },
  {
   "cell_type": "code",
   "execution_count": 95,
   "id": "d0bdee10",
   "metadata": {},
   "outputs": [
    {
     "data": {
      "text/plain": [
       "0.014769730168391153"
      ]
     },
     "execution_count": 95,
     "metadata": {},
     "output_type": "execute_result"
    }
   ],
   "source": [
    "prob(male) * conditional(banker, given=male) + prob(female) * conditional(banker, given=female)"
   ]
  },
  {
   "cell_type": "markdown",
   "id": "b76c2587",
   "metadata": {},
   "source": [
    "When there are more than two conditions, it is more concise to write the law of total probability as a summation:\n",
    "\n",
    "$$\n",
    "P(A) = \\sum_i P(B_i)P(A|B_i)\n",
    "$$\n",
    "\n",
    "Again, this holds as long as the conditions $B_i$ are mutually exclusive and collectively exhaustive. As an example, let's consider `polviews`, which has seven different values:"
   ]
  },
  {
   "cell_type": "code",
   "execution_count": 202,
   "id": "ad32ba1c",
   "metadata": {},
   "outputs": [
    {
     "data": {
      "text/plain": [
       "1.0    0.029255\n",
       "2.0    0.117833\n",
       "3.0    0.126659\n",
       "4.0    0.384317\n",
       "5.0    0.161087\n",
       "6.0    0.148489\n",
       "7.0    0.032360\n",
       "Name: polviews, dtype: float64"
      ]
     },
     "execution_count": 202,
     "metadata": {},
     "output_type": "execute_result"
    }
   ],
   "source": [
    "B = df['polviews']\n",
    "B.value_counts(1).sort_index()"
   ]
  },
  {
   "cell_type": "markdown",
   "id": "126bd994",
   "metadata": {},
   "source": [
    "On this scale, 4.0 represents \"Moderate\". So we can compute the probability of a moderate banker like this:"
   ]
  },
  {
   "cell_type": "code",
   "execution_count": 203,
   "id": "5bfe4a7c",
   "metadata": {},
   "outputs": [
    {
     "data": {
      "text/plain": [
       "0.005822682085615744"
      ]
     },
     "execution_count": 203,
     "metadata": {},
     "output_type": "execute_result"
    }
   ],
   "source": [
    "i = 4\n",
    "prob(B==i) * conditional(banker, B==i)"
   ]
  },
  {
   "cell_type": "code",
   "execution_count": 204,
   "id": "ad7a5435",
   "metadata": {},
   "outputs": [
    {
     "data": {
      "text/plain": [
       "0.014769730168391157"
      ]
     },
     "execution_count": 204,
     "metadata": {},
     "output_type": "execute_result"
    }
   ],
   "source": [
    "sum(prob(B==i) * conditional(banker, B==i) for i in range(1, 8))"
   ]
  },
  {
   "cell_type": "code",
   "execution_count": 205,
   "id": "91d1ca49",
   "metadata": {},
   "outputs": [
    {
     "data": {
      "text/plain": [
       "0.014769730168391157"
      ]
     },
     "execution_count": 205,
     "metadata": {},
     "output_type": "execute_result"
    }
   ],
   "source": [
    " sum(prob(B==i) * conditional(banker, B==i) for i in range(1, 8))"
   ]
  },
  {
   "cell_type": "markdown",
   "id": "4ba5d86a",
   "metadata": {},
   "source": [
    "In this example, using the law of total probability is a lot more work than computing the probability directly, but it will turn out to be useful.\n",
    "\n",
    "\n",
    "# Summary \n",
    "\n",
    "\n",
    "Here’s what we have so far:\n",
    "\n",
    "**Theorem 1** gives us a way to compute a conditional probability using a conjunction:\n",
    "\n",
    "\n",
    "$$\n",
    "P(A|B) = \\frac{P(A \\ \\textrm{and} \\ B)}{P(B)}\n",
    "$$\n",
    "\n",
    "\n",
    "\n",
    "**Theorem 2** gives us a way to compute a conjunction using a conditional probability:\n",
    "\n",
    "$$\n",
    "P(A \\ \\textrm{and} \\ B) = P(B)P(A|B)\n",
    "$$\n",
    "\n",
    "**Theorem 3**, also known as Bayes's theorem, gives us a way to get from $P(A|B)$  to $P(B|A)$, or the other way around:\n",
    "\n",
    "$$\n",
    "P(A|B) = \\frac{P(A)P(B|A)}{P(B)}\n",
    "$$\n",
    "\n",
    "\n",
    "**The Law of Total Probability** provides a way to compute probabilities by adding up the pieces:\n",
    "\n",
    "\n",
    "$$\n",
    "P(A) = \\sum_i P(B_i)P(A|B_i)\n",
    "$$\n",
    "\n",
    "\n",
    "\n",
    "At this point you might ask, “So what?” If we have all of the data, we can compute any probability we want, any conjunction, or any conditional probability, just by counting. We don’t have to use these formulas.\n",
    "\n",
    "And you are right, if we have all of the data. But often we don’t, and in that case, these formulas can be pretty useful—especially Bayes’s theorem. In the next chapter, we’ll see how."
   ]
  }
 ],
 "metadata": {
  "kernelspec": {
   "display_name": "Python 3 (ipykernel)",
   "language": "python",
   "name": "python3"
  },
  "language_info": {
   "codemirror_mode": {
    "name": "ipython",
    "version": 3
   },
   "file_extension": ".py",
   "mimetype": "text/x-python",
   "name": "python",
   "nbconvert_exporter": "python",
   "pygments_lexer": "ipython3",
   "version": "3.9.4"
  }
 },
 "nbformat": 4,
 "nbformat_minor": 5
}
