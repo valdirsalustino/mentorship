{
 "cells": [
  {
   "cell_type": "markdown",
   "id": "b14df8ce",
   "metadata": {},
   "source": [
    "# Review of regressions\n",
    "\n",
    "\n",
    "* based on Hands On ML with python from this amazing [book](https://www.amazon.com.br/Hands-Machine-Learning-Scikit-Learn-TensorFlow/dp/1492032646/ref=asc_df_1492032646/?tag=googleshopp00-20&linkCode=df0&hvadid=379733272930&hvpos=&hvnetw=g&hvrand=16822952529302315757&hvpone=&hvptwo=&hvqmt=&hvdev=c&hvdvcmdl=&hvlocint=&hvlocphy=1001652&hvtargid=pla-523968811896&psc=1)\n",
    "\n",
    "\n",
    "------- lets look at some metrics ------\n",
    "\n",
    "* Mean squared error: MSE;\n",
    "\n",
    "$$\n",
    "mse = \\frac{1}{N}\\sum_i (y_{p_i} - y_{t_i})^2\n",
    "$$\n",
    "\n",
    "$$ \n",
    "RMSE = \\sqrt{mse}\n",
    "$$\n"
   ]
  },
  {
   "cell_type": "code",
   "execution_count": 1,
   "id": "d09c42db",
   "metadata": {},
   "outputs": [],
   "source": [
    "from sklearn.metrics import (mean_squared_error, \n",
    "                             mean_absolute_error)"
   ]
  },
  {
   "cell_type": "code",
   "execution_count": 2,
   "id": "57fbb363",
   "metadata": {},
   "outputs": [],
   "source": [
    "from matplotlib import pyplot as plt\n",
    "x = [0, 1, 2, 3, 4, ] # time in years\n",
    "y_t = [3.3, 5, 8, 10, 15] # weight in kg.\n",
    "\n",
    "y_p = [3, 5.5, 7.5, 10.5, 14]"
   ]
  },
  {
   "cell_type": "code",
   "execution_count": 3,
   "id": "b0676259",
   "metadata": {},
   "outputs": [
    {
     "data": {
      "text/plain": [
       "<matplotlib.legend.Legend at 0x7fe636055f40>"
      ]
     },
     "execution_count": 3,
     "metadata": {},
     "output_type": "execute_result"
    },
    {
     "data": {
      "image/png": "[encoded data removed]",
      "text/plain": [
       "<Figure size 432x288 with 1 Axes>"
      ]
     },
     "metadata": {
      "needs_background": "light"
     },
     "output_type": "display_data"
    }
   ],
   "source": [
    "plt.plot(x,y_t, '--o', label='true value', color='k')\n",
    "plt.plot(x,y_p, '--o', label='predict', color='r')\n",
    "plt.xlabel('time [years]')\n",
    "plt.ylabel('weight [kg]')\n",
    "plt.legend()"
   ]
  },
  {
   "cell_type": "code",
   "execution_count": 4,
   "id": "39f8b03c",
   "metadata": {},
   "outputs": [
    {
     "data": {
      "text/plain": [
       "0.368"
      ]
     },
     "execution_count": 4,
     "metadata": {},
     "output_type": "execute_result"
    }
   ],
   "source": [
    "(1/5)*((3-3.3)**2 + (5 - 5.5)**2 + (8-7.5)**2 + (10 - 10.5)**2 + (15 - 14)**2)"
   ]
  },
  {
   "cell_type": "code",
   "execution_count": 5,
   "id": "3f66d53e",
   "metadata": {},
   "outputs": [
    {
     "data": {
      "text/plain": [
       "0.368"
      ]
     },
     "execution_count": 5,
     "metadata": {},
     "output_type": "execute_result"
    }
   ],
   "source": [
    "mse = mean_squared_error(y_t, y_p)\n",
    "mse"
   ]
  },
  {
   "cell_type": "code",
   "execution_count": 6,
   "id": "834070ec",
   "metadata": {},
   "outputs": [
    {
     "data": {
      "text/plain": [
       "0.6066300355241241"
      ]
     },
     "execution_count": 6,
     "metadata": {},
     "output_type": "execute_result"
    }
   ],
   "source": [
    "import numpy as np\n",
    "\n",
    "np.sqrt(0.368)"
   ]
  },
  {
   "cell_type": "code",
   "execution_count": 7,
   "id": "e1c2da95",
   "metadata": {},
   "outputs": [
    {
     "data": {
      "text/plain": [
       "0.6066300355241241"
      ]
     },
     "execution_count": 7,
     "metadata": {},
     "output_type": "execute_result"
    }
   ],
   "source": [
    "rmse = mean_squared_error(y_t, y_p, squared=False)\n",
    "rmse"
   ]
  },
  {
   "cell_type": "markdown",
   "id": "85fe1111",
   "metadata": {},
   "source": [
    "$$\n",
    "MAE = \\frac{1}{N}\\sum_i |y_p - y_t|\n",
    "$$"
   ]
  },
  {
   "cell_type": "code",
   "execution_count": 8,
   "id": "90343276",
   "metadata": {},
   "outputs": [
    {
     "data": {
      "text/plain": [
       "0.6066300355241241"
      ]
     },
     "execution_count": 8,
     "metadata": {},
     "output_type": "execute_result"
    }
   ],
   "source": [
    "import numpy as np \n",
    "np.sqrt(0.368)"
   ]
  },
  {
   "cell_type": "markdown",
   "id": "122bcb87",
   "metadata": {},
   "source": [
    "# Simulating\n",
    "\n",
    "$$\n",
    "y_p = ax + b\n",
    "$$"
   ]
  },
  {
   "cell_type": "code",
   "execution_count": 9,
   "id": "b0003038",
   "metadata": {},
   "outputs": [
    {
     "data": {
      "text/plain": [
       "<matplotlib.legend.Legend at 0x7fe6361adee0>"
      ]
     },
     "execution_count": 9,
     "metadata": {},
     "output_type": "execute_result"
    },
    {
     "data": {
      "image/png": "[encoded data removed]",
      "text/plain": [
       "<Figure size 432x288 with 1 Axes>"
      ]
     },
     "metadata": {
      "needs_background": "light"
     },
     "output_type": "display_data"
    }
   ],
   "source": [
    "x = np.linspace(0, 10, 100)\n",
    "\n",
    "a = 3\n",
    "b = 5\n",
    "\n",
    "y_p = a*x + b\n",
    "\n",
    "y_t = y_p + np.random.normal(0, 5, 100)\n",
    "\n",
    "plt.plot(x,y_p, '-', color='r', label='model')\n",
    "plt.plot(x,y_t, 'o',color='k', label='simulation')\n",
    "plt.legend()"
   ]
  },
  {
   "cell_type": "code",
   "execution_count": 10,
   "id": "7e90f8a1",
   "metadata": {},
   "outputs": [
    {
     "data": {
      "text/plain": [
       "25.75078228807296"
      ]
     },
     "execution_count": 10,
     "metadata": {},
     "output_type": "execute_result"
    }
   ],
   "source": [
    "mse = mean_squared_error(y_p, y_t)\n",
    "mse"
   ]
  },
  {
   "cell_type": "code",
   "execution_count": 11,
   "id": "1896704a",
   "metadata": {},
   "outputs": [
    {
     "data": {
      "text/plain": [
       "5.074522863094909"
      ]
     },
     "execution_count": 11,
     "metadata": {},
     "output_type": "execute_result"
    }
   ],
   "source": [
    "rmse = mean_squared_error(y_p, y_t, squared=False)\n",
    "rmse"
   ]
  },
  {
   "cell_type": "code",
   "execution_count": 12,
   "id": "a65ed264",
   "metadata": {},
   "outputs": [
    {
     "data": {
      "text/plain": [
       "4.134345757279805"
      ]
     },
     "execution_count": 12,
     "metadata": {},
     "output_type": "execute_result"
    }
   ],
   "source": [
    "mae = mean_absolute_error(y_p, y_t)\n",
    "mae"
   ]
  },
  {
   "cell_type": "code",
   "execution_count": 13,
   "id": "e3268a30",
   "metadata": {},
   "outputs": [],
   "source": [
    "residues = y_p - y_t"
   ]
  },
  {
   "cell_type": "code",
   "execution_count": 14,
   "id": "e9084fdd",
   "metadata": {},
   "outputs": [
    {
     "data": {
      "image/png": "[encoded data removed]",
      "text/plain": [
       "<Figure size 432x288 with 1 Axes>"
      ]
     },
     "metadata": {
      "needs_background": "light"
     },
     "output_type": "display_data"
    }
   ],
   "source": [
    "_ = plt.hist(residues, bins=30)"
   ]
  },
  {
   "cell_type": "code",
   "execution_count": 15,
   "id": "54525154",
   "metadata": {},
   "outputs": [
    {
     "data": {
      "text/plain": [
       "(0.06672429691383347, 5.0740841692146095)"
      ]
     },
     "execution_count": 15,
     "metadata": {},
     "output_type": "execute_result"
    }
   ],
   "source": [
    "np.mean(residues), np.std(residues)"
   ]
  },
  {
   "cell_type": "markdown",
   "id": "7675aa31",
   "metadata": {},
   "source": [
    "# Linear Regression"
   ]
  },
  {
   "cell_type": "code",
   "execution_count": 16,
   "id": "53b651d0",
   "metadata": {},
   "outputs": [
    {
     "data": {
      "text/plain": [
       "<matplotlib.legend.Legend at 0x7fe6363a8610>"
      ]
     },
     "execution_count": 16,
     "metadata": {},
     "output_type": "execute_result"
    },
    {
     "data": {
      "image/png": "[encoded data removed]",
      "text/plain": [
       "<Figure size 432x288 with 1 Axes>"
      ]
     },
     "metadata": {
      "needs_background": "light"
     },
     "output_type": "display_data"
    }
   ],
   "source": [
    "# given y_t and x is known but we have no knowledge of y_p \n",
    "plt.plot(x,y_t, 'o',color='k', label='data')\n",
    "\n",
    "plt.xlabel('time [year]')\n",
    "plt.ylabel('weight [kg]')\n",
    "plt.legend()\n",
    "\n",
    "# I want a model to infer the weight within 5 years ahead\n",
    "# weight in x = 15"
   ]
  },
  {
   "cell_type": "code",
   "execution_count": 17,
   "id": "c32e0cee",
   "metadata": {},
   "outputs": [],
   "source": [
    "from sklearn.linear_model import LinearRegression\n",
    "model = LinearRegression()"
   ]
  },
  {
   "cell_type": "code",
   "execution_count": 18,
   "id": "aa2f205a",
   "metadata": {},
   "outputs": [
    {
     "data": {
      "text/plain": [
       "LinearRegression()"
      ]
     },
     "execution_count": 18,
     "metadata": {},
     "output_type": "execute_result"
    }
   ],
   "source": [
    "model.fit(x.reshape(-1,1), y_t.reshape(-1,1))"
   ]
  },
  {
   "cell_type": "code",
   "execution_count": 19,
   "id": "9eef373e",
   "metadata": {},
   "outputs": [
    {
     "data": {
      "text/plain": [
       "array([[46.54671736]])"
      ]
     },
     "execution_count": 19,
     "metadata": {},
     "output_type": "execute_result"
    }
   ],
   "source": [
    "y_pred = model.predict([[15]])\n",
    "y_pred"
   ]
  },
  {
   "cell_type": "code",
   "execution_count": 20,
   "id": "d654a5a7",
   "metadata": {},
   "outputs": [],
   "source": [
    "y_preds = model.predict(x.reshape(-1,1))"
   ]
  },
  {
   "cell_type": "code",
   "execution_count": 21,
   "id": "9872d9cd",
   "metadata": {},
   "outputs": [
    {
     "data": {
      "text/plain": [
       "<matplotlib.legend.Legend at 0x7fe63668a400>"
      ]
     },
     "execution_count": 21,
     "metadata": {},
     "output_type": "execute_result"
    },
    {
     "data": {
      "image/png": "[encoded data removed]",
      "text/plain": [
       "<Figure size 432x288 with 1 Axes>"
      ]
     },
     "metadata": {
      "needs_background": "light"
     },
     "output_type": "display_data"
    }
   ],
   "source": [
    "plt.plot(x,y_t, 'o',color='k', label='simulation')\n",
    "plt.plot(x,y_preds, '--',color='r', label='fit to simulated datapoints')\n",
    "\n",
    "plt.xlabel('time [year]')\n",
    "plt.ylabel('weight [kg]')\n",
    "plt.legend()"
   ]
  },
  {
   "cell_type": "code",
   "execution_count": 22,
   "id": "5de13f4f",
   "metadata": {},
   "outputs": [
    {
     "data": {
      "text/plain": [
       "4.977076551325612"
      ]
     },
     "execution_count": 22,
     "metadata": {},
     "output_type": "execute_result"
    }
   ],
   "source": [
    "mean_squared_error(y_pred=y_preds, y_true=y_t, squared=False)"
   ]
  },
  {
   "cell_type": "code",
   "execution_count": 22,
   "id": "b434d8c0",
   "metadata": {},
   "outputs": [],
   "source": [
    "# I want a model to infer the weight within 5 years ahead\n",
    "# weight in x = 15\n",
    "\n",
    "# weight = 50.47616673 +/- 5.023588267429338 CL 68%"
   ]
  },
  {
   "cell_type": "code",
   "execution_count": 23,
   "id": "da94318b",
   "metadata": {},
   "outputs": [
    {
     "data": {
      "text/plain": [
       "array([[2.91724649]])"
      ]
     },
     "execution_count": 23,
     "metadata": {},
     "output_type": "execute_result"
    }
   ],
   "source": [
    "model.coef_ # this is parameter a"
   ]
  },
  {
   "cell_type": "code",
   "execution_count": 24,
   "id": "959067a9",
   "metadata": {},
   "outputs": [
    {
     "data": {
      "text/plain": [
       "array([5.8165541])"
      ]
     },
     "execution_count": 24,
     "metadata": {},
     "output_type": "execute_result"
    }
   ],
   "source": [
    "model.intercept_ # this is the parameter b"
   ]
  },
  {
   "cell_type": "code",
   "execution_count": 25,
   "id": "ff18a5bc",
   "metadata": {},
   "outputs": [],
   "source": [
    "# parameter estimation of an linear model \n",
    "# a = 3.08 (real is 3)\n",
    "# b = 4.16 (real is 5)"
   ]
  },
  {
   "cell_type": "markdown",
   "id": "ac87fb9b",
   "metadata": {},
   "source": [
    "### Parameter estimation with statsmodel (statistics like api)"
   ]
  },
  {
   "cell_type": "code",
   "execution_count": 26,
   "id": "282f101a",
   "metadata": {},
   "outputs": [],
   "source": [
    "import statsmodels.api as sm"
   ]
  },
  {
   "cell_type": "code",
   "execution_count": 27,
   "id": "e37bcfc7",
   "metadata": {},
   "outputs": [],
   "source": [
    "X = sm.add_constant(x)\n",
    "sm_model = sm.OLS(y_t, X)"
   ]
  },
  {
   "cell_type": "code",
   "execution_count": 28,
   "id": "951230d0",
   "metadata": {},
   "outputs": [],
   "source": [
    "result = sm_model.fit()"
   ]
  },
  {
   "cell_type": "code",
   "execution_count": 29,
   "id": "3d56ae46",
   "metadata": {},
   "outputs": [
    {
     "data": {
      "text/html": [
       "<table class=\"simpletable\">\n",
       "<caption>OLS Regression Results</caption>\n",
       "<tr>\n",
       "  <th>Dep. Variable:</th>            <td>y</td>        <th>  R-squared:         </th> <td>   0.705</td>\n",
       "</tr>\n",
       "<tr>\n",
       "  <th>Model:</th>                   <td>OLS</td>       <th>  Adj. R-squared:    </th> <td>   0.702</td>\n",
       "</tr>\n",
       "<tr>\n",
       "  <th>Method:</th>             <td>Least Squares</td>  <th>  F-statistic:       </th> <td>   234.7</td>\n",
       "</tr>\n",
       "<tr>\n",
       "  <th>Date:</th>             <td>Fri, 21 Jan 2022</td> <th>  Prob (F-statistic):</th> <td>9.26e-28</td>\n",
       "</tr>\n",
       "<tr>\n",
       "  <th>Time:</th>                 <td>10:27:06</td>     <th>  Log-Likelihood:    </th> <td> -312.30</td>\n",
       "</tr>\n",
       "<tr>\n",
       "  <th>No. Observations:</th>      <td>   100</td>      <th>  AIC:               </th> <td>   628.6</td>\n",
       "</tr>\n",
       "<tr>\n",
       "  <th>Df Residuals:</th>          <td>    98</td>      <th>  BIC:               </th> <td>   633.8</td>\n",
       "</tr>\n",
       "<tr>\n",
       "  <th>Df Model:</th>              <td>     1</td>      <th>                     </th>     <td> </td>   \n",
       "</tr>\n",
       "<tr>\n",
       "  <th>Covariance Type:</th>      <td>nonrobust</td>    <th>                     </th>     <td> </td>   \n",
       "</tr>\n",
       "</table>\n",
       "<table class=\"simpletable\">\n",
       "<tr>\n",
       "    <td></td>       <th>coef</th>     <th>std err</th>      <th>t</th>      <th>P>|t|</th>  <th>[0.025</th>    <th>0.975]</th>  \n",
       "</tr>\n",
       "<tr>\n",
       "  <th>const</th> <td>    5.8166</td> <td>    1.102</td> <td>    5.278</td> <td> 0.000</td> <td>    3.629</td> <td>    8.004</td>\n",
       "</tr>\n",
       "<tr>\n",
       "  <th>x1</th>    <td>    2.9172</td> <td>    0.190</td> <td>   15.321</td> <td> 0.000</td> <td>    2.539</td> <td>    3.295</td>\n",
       "</tr>\n",
       "</table>\n",
       "<table class=\"simpletable\">\n",
       "<tr>\n",
       "  <th>Omnibus:</th>       <td> 0.375</td> <th>  Durbin-Watson:     </th> <td>   2.285</td>\n",
       "</tr>\n",
       "<tr>\n",
       "  <th>Prob(Omnibus):</th> <td> 0.829</td> <th>  Jarque-Bera (JB):  </th> <td>   0.522</td>\n",
       "</tr>\n",
       "<tr>\n",
       "  <th>Skew:</th>          <td>-0.120</td> <th>  Prob(JB):          </th> <td>   0.770</td>\n",
       "</tr>\n",
       "<tr>\n",
       "  <th>Kurtosis:</th>      <td> 2.740</td> <th>  Cond. No.          </th> <td>    11.7</td>\n",
       "</tr>\n",
       "</table><br/><br/>Notes:<br/>[1] Standard Errors assume that the covariance matrix of the errors is correctly specified."
      ],
      "text/plain": [
       "<class 'statsmodels.iolib.summary.Summary'>\n",
       "\"\"\"\n",
       "                            OLS Regression Results                            \n",
       "==============================================================================\n",
       "Dep. Variable:                      y   R-squared:                       0.705\n",
       "Model:                            OLS   Adj. R-squared:                  0.702\n",
       "Method:                 Least Squares   F-statistic:                     234.7\n",
       "Date:                Fri, 21 Jan 2022   Prob (F-statistic):           9.26e-28\n",
       "Time:                        10:27:06   Log-Likelihood:                -312.30\n",
       "No. Observations:                 100   AIC:                             628.6\n",
       "Df Residuals:                      98   BIC:                             633.8\n",
       "Df Model:                           1                                         \n",
       "Covariance Type:            nonrobust                                         \n",
       "==============================================================================\n",
       "                 coef    std err          t      P>|t|      [0.025      0.975]\n",
       "------------------------------------------------------------------------------\n",
       "const          5.8166      1.102      5.278      0.000       3.629       8.004\n",
       "x1             2.9172      0.190     15.321      0.000       2.539       3.295\n",
       "==============================================================================\n",
       "Omnibus:                        0.375   Durbin-Watson:                   2.285\n",
       "Prob(Omnibus):                  0.829   Jarque-Bera (JB):                0.522\n",
       "Skew:                          -0.120   Prob(JB):                        0.770\n",
       "Kurtosis:                       2.740   Cond. No.                         11.7\n",
       "==============================================================================\n",
       "\n",
       "Notes:\n",
       "[1] Standard Errors assume that the covariance matrix of the errors is correctly specified.\n",
       "\"\"\""
      ]
     },
     "execution_count": 29,
     "metadata": {},
     "output_type": "execute_result"
    }
   ],
   "source": [
    "result.summary()"
   ]
  },
  {
   "cell_type": "code",
   "execution_count": 30,
   "id": "9da3f5a6",
   "metadata": {},
   "outputs": [],
   "source": [
    "# measured values of parameters a and b\n",
    "# b = 4.1649 +/- 1.007\n",
    "# a = 3.0874 +/- 0.174 kg per years (rate of change of your target value)"
   ]
  },
  {
   "cell_type": "code",
   "execution_count": 31,
   "id": "9d0815eb",
   "metadata": {},
   "outputs": [
    {
     "data": {
      "text/plain": [
       "50.4759"
      ]
     },
     "execution_count": 31,
     "metadata": {},
     "output_type": "execute_result"
    }
   ],
   "source": [
    "a = 3.0874\n",
    "b = 4.1649\n",
    "\n",
    "y_es = a*15 + b\n",
    "y_es\n",
    "\n",
    "# error propagation to estimate the value given the errors of parameters a and b"
   ]
  },
  {
   "cell_type": "code",
   "execution_count": 32,
   "id": "bfc6ef01",
   "metadata": {},
   "outputs": [],
   "source": [
    "# scikit learn inference 50.47616673 +/- 5"
   ]
  },
  {
   "cell_type": "markdown",
   "id": "9cb47837",
   "metadata": {},
   "source": [
    "### Notes: \n",
    "\n",
    "* Supervised data is data where you know the target (outcome of the descriptive features)"
   ]
  },
  {
   "cell_type": "code",
   "execution_count": 25,
   "id": "9cc252e8",
   "metadata": {},
   "outputs": [
    {
     "data": {
      "text/html": [
       "<div>\n",
       "<style scoped>\n",
       "    .dataframe tbody tr th:only-of-type {\n",
       "        vertical-align: middle;\n",
       "    }\n",
       "\n",
       "    .dataframe tbody tr th {\n",
       "        vertical-align: top;\n",
       "    }\n",
       "\n",
       "    .dataframe thead th {\n",
       "        text-align: right;\n",
       "    }\n",
       "</style>\n",
       "<table border=\"1\" class=\"dataframe\">\n",
       "  <thead>\n",
       "    <tr style=\"text-align: right;\">\n",
       "      <th></th>\n",
       "      <th>wheel_diameter</th>\n",
       "      <th>weight</th>\n",
       "    </tr>\n",
       "  </thead>\n",
       "  <tbody>\n",
       "    <tr>\n",
       "      <th>0</th>\n",
       "      <td>3</td>\n",
       "      <td>2</td>\n",
       "    </tr>\n",
       "    <tr>\n",
       "      <th>1</th>\n",
       "      <td>80</td>\n",
       "      <td>15</td>\n",
       "    </tr>\n",
       "  </tbody>\n",
       "</table>\n",
       "</div>"
      ],
      "text/plain": [
       "   wheel_diameter  weight\n",
       "0               3       2\n",
       "1              80      15"
      ]
     },
     "execution_count": 25,
     "metadata": {},
     "output_type": "execute_result"
    }
   ],
   "source": [
    "import pandas as pd\n",
    "pd.DataFrame([{\n",
    "    \"wheel_diameter\": 3, \n",
    "    \"weight\": 2,\n",
    "    # \"name\": \"skate\"\n",
    "}, \n",
    "{\n",
    "    \"wheel_diameter\": 80, \n",
    "    \"weight\": 15,\n",
    "    #\"name\": \"bike\"\n",
    "},\n",
    "])"
   ]
  },
  {
   "cell_type": "code",
   "execution_count": null,
   "id": "bdd12cfc",
   "metadata": {},
   "outputs": [],
   "source": []
  }
 ],
 "metadata": {
  "kernelspec": {
   "display_name": "Python 3 (ipykernel)",
   "language": "python",
   "name": "python3"
  },
  "language_info": {
   "codemirror_mode": {
    "name": "ipython",
    "version": 3
   },
   "file_extension": ".py",
   "mimetype": "text/x-python",
   "name": "python",
   "nbconvert_exporter": "python",
   "pygments_lexer": "ipython3",
   "version": "3.9.4"
  }
 },
 "nbformat": 4,
 "nbformat_minor": 5
}
