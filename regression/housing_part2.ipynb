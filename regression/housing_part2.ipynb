{
 "cells": [
  {
   "cell_type": "markdown",
   "id": "7108f76f",
   "metadata": {},
   "source": [
    "# House price prediction\n",
    "\n",
    "Extracted from this ref. [book](https://www.amazon.com.br/Hands-Machine-Learning-Scikit-Learn-TensorFlow/dp/1492032646/ref=asc_df_1492032646/?tag=googleshopp00-20&linkCode=df0&hvadid=379733272930&hvpos=&hvnetw=g&hvrand=5358833530171969532&hvpone=&hvptwo=&hvqmt=&hvdev=c&hvdvcmdl=&hvlocint=&hvlocphy=1001652&hvtargid=pla-523968811896&psc=1)\n",
    "\n",
    "\n",
    "Chapter 2 of Hands on Machine Learning With Scikit-Learn and Keras; "
   ]
  },
  {
   "cell_type": "markdown",
   "id": "11b3e515",
   "metadata": {},
   "source": [
    "### Download data"
   ]
  },
  {
   "cell_type": "code",
   "execution_count": 3,
   "id": "7cb779ae",
   "metadata": {},
   "outputs": [],
   "source": [
    "import os\n",
    "import tarfile\n",
    "import urllib\n",
    "from matplotlib import pyplot as plt\n",
    "\n",
    "import ssl\n",
    "ssl._create_default_https_context = ssl._create_unverified_context\n",
    "\n",
    "DOWNLOAD_ROOT = \"https://raw.githubusercontent.com/ageron/handson-ml2/master/\"\n",
    "HOUSING_PATH = os.path.join(\"datasets\", \"housing\")\n",
    "HOUSING_URL = DOWNLOAD_ROOT + \"datasets/housing/housing.tgz\"\n",
    "\n",
    "# def fetch_housing_data(housing_url=HOUSING_URL, housing_path=HOUSING_PATH):\n",
    "#     os.makedirs(housing_path, exist_ok=True)\n",
    "#     tgz_path = os.path.join(housing_path, \"housing.tgz\")\n",
    "#     urllib.request.urlretrieve(housing_url, tgz_path)\n",
    "#     housing_tgz = tarfile.open(tgz_path)\n",
    "#     housing_tgz.extractall(path=housing_path)\n",
    "#     housing_tgz.close()\n",
    "    \n",
    "# fetch_housing_data()    "
   ]
  },
  {
   "cell_type": "code",
   "execution_count": 4,
   "id": "550b3123",
   "metadata": {},
   "outputs": [],
   "source": [
    "import pandas as pd\n",
    "\n",
    "def load_housing_data(housing_path=HOUSING_PATH):\n",
    "    csv_path = os.path.join(housing_path, \"housing.csv\")\n",
    "    return pd.read_csv(csv_path)\n",
    "\n",
    "df = load_housing_data()"
   ]
  },
  {
   "cell_type": "markdown",
   "id": "33c04bd7",
   "metadata": {},
   "source": [
    " - Define goal. \n",
    " \n",
    "     * create a model that predict median house value"
   ]
  },
  {
   "cell_type": "code",
   "execution_count": 5,
   "id": "2c7c4468",
   "metadata": {},
   "outputs": [
    {
     "data": {
      "text/html": [
       "<div>\n",
       "<style scoped>\n",
       "    .dataframe tbody tr th:only-of-type {\n",
       "        vertical-align: middle;\n",
       "    }\n",
       "\n",
       "    .dataframe tbody tr th {\n",
       "        vertical-align: top;\n",
       "    }\n",
       "\n",
       "    .dataframe thead th {\n",
       "        text-align: right;\n",
       "    }\n",
       "</style>\n",
       "<table border=\"1\" class=\"dataframe\">\n",
       "  <thead>\n",
       "    <tr style=\"text-align: right;\">\n",
       "      <th></th>\n",
       "      <th>longitude</th>\n",
       "      <th>latitude</th>\n",
       "      <th>housing_median_age</th>\n",
       "      <th>total_rooms</th>\n",
       "      <th>total_bedrooms</th>\n",
       "      <th>population</th>\n",
       "      <th>households</th>\n",
       "      <th>median_income</th>\n",
       "      <th>median_house_value</th>\n",
       "      <th>ocean_proximity</th>\n",
       "    </tr>\n",
       "  </thead>\n",
       "  <tbody>\n",
       "    <tr>\n",
       "      <th>0</th>\n",
       "      <td>-122.23</td>\n",
       "      <td>37.88</td>\n",
       "      <td>41.0</td>\n",
       "      <td>880.0</td>\n",
       "      <td>129.0</td>\n",
       "      <td>322.0</td>\n",
       "      <td>126.0</td>\n",
       "      <td>8.3252</td>\n",
       "      <td>452600.0</td>\n",
       "      <td>NEAR BAY</td>\n",
       "    </tr>\n",
       "    <tr>\n",
       "      <th>1</th>\n",
       "      <td>-122.22</td>\n",
       "      <td>37.86</td>\n",
       "      <td>21.0</td>\n",
       "      <td>7099.0</td>\n",
       "      <td>1106.0</td>\n",
       "      <td>2401.0</td>\n",
       "      <td>1138.0</td>\n",
       "      <td>8.3014</td>\n",
       "      <td>358500.0</td>\n",
       "      <td>NEAR BAY</td>\n",
       "    </tr>\n",
       "    <tr>\n",
       "      <th>2</th>\n",
       "      <td>-122.24</td>\n",
       "      <td>37.85</td>\n",
       "      <td>52.0</td>\n",
       "      <td>1467.0</td>\n",
       "      <td>190.0</td>\n",
       "      <td>496.0</td>\n",
       "      <td>177.0</td>\n",
       "      <td>7.2574</td>\n",
       "      <td>352100.0</td>\n",
       "      <td>NEAR BAY</td>\n",
       "    </tr>\n",
       "  </tbody>\n",
       "</table>\n",
       "</div>"
      ],
      "text/plain": [
       "   longitude  latitude  housing_median_age  total_rooms  total_bedrooms  \\\n",
       "0    -122.23     37.88                41.0        880.0           129.0   \n",
       "1    -122.22     37.86                21.0       7099.0          1106.0   \n",
       "2    -122.24     37.85                52.0       1467.0           190.0   \n",
       "\n",
       "   population  households  median_income  median_house_value ocean_proximity  \n",
       "0       322.0       126.0         8.3252            452600.0        NEAR BAY  \n",
       "1      2401.0      1138.0         8.3014            358500.0        NEAR BAY  \n",
       "2       496.0       177.0         7.2574            352100.0        NEAR BAY  "
      ]
     },
     "execution_count": 5,
     "metadata": {},
     "output_type": "execute_result"
    }
   ],
   "source": [
    "df[:3]"
   ]
  },
  {
   "cell_type": "markdown",
   "id": "41b9d81a",
   "metadata": {},
   "source": [
    "### EDA ( exploratory data analysis) "
   ]
  },
  {
   "cell_type": "code",
   "execution_count": 6,
   "id": "93458ade",
   "metadata": {},
   "outputs": [
    {
     "data": {
      "text/plain": [
       "(20640, 10)"
      ]
     },
     "execution_count": 6,
     "metadata": {},
     "output_type": "execute_result"
    }
   ],
   "source": [
    "df.shape"
   ]
  },
  {
   "cell_type": "code",
   "execution_count": 7,
   "id": "f877b05c",
   "metadata": {},
   "outputs": [
    {
     "name": "stdout",
     "output_type": "stream",
     "text": [
      "<class 'pandas.core.frame.DataFrame'>\n",
      "RangeIndex: 20640 entries, 0 to 20639\n",
      "Data columns (total 10 columns):\n",
      " #   Column              Non-Null Count  Dtype  \n",
      "---  ------              --------------  -----  \n",
      " 0   longitude           20640 non-null  float64\n",
      " 1   latitude            20640 non-null  float64\n",
      " 2   housing_median_age  20640 non-null  float64\n",
      " 3   total_rooms         20640 non-null  float64\n",
      " 4   total_bedrooms      20433 non-null  float64\n",
      " 5   population          20640 non-null  float64\n",
      " 6   households          20640 non-null  float64\n",
      " 7   median_income       20640 non-null  float64\n",
      " 8   median_house_value  20640 non-null  float64\n",
      " 9   ocean_proximity     20640 non-null  object \n",
      "dtypes: float64(9), object(1)\n",
      "memory usage: 1.6+ MB\n"
     ]
    }
   ],
   "source": [
    "df.info()"
   ]
  },
  {
   "cell_type": "code",
   "execution_count": 8,
   "id": "6cca7be6",
   "metadata": {},
   "outputs": [
    {
     "data": {
      "text/plain": [
       "longitude               0\n",
       "latitude                0\n",
       "housing_median_age      0\n",
       "total_rooms             0\n",
       "total_bedrooms        207\n",
       "population              0\n",
       "households              0\n",
       "median_income           0\n",
       "median_house_value      0\n",
       "ocean_proximity         0\n",
       "dtype: int64"
      ]
     },
     "execution_count": 8,
     "metadata": {},
     "output_type": "execute_result"
    }
   ],
   "source": [
    "df.isnull().sum()"
   ]
  },
  {
   "cell_type": "code",
   "execution_count": 10,
   "id": "91dc7e98",
   "metadata": {},
   "outputs": [
    {
     "data": {
      "text/plain": [
       "<1H OCEAN     9136\n",
       "INLAND        6551\n",
       "NEAR OCEAN    2658\n",
       "NEAR BAY      2290\n",
       "ISLAND           5\n",
       "Name: ocean_proximity, dtype: int64"
      ]
     },
     "execution_count": 10,
     "metadata": {},
     "output_type": "execute_result"
    }
   ],
   "source": [
    "df['ocean_proximity'].value_counts()"
   ]
  },
  {
   "cell_type": "markdown",
   "id": "a9c133e7",
   "metadata": {},
   "source": [
    "Lets look at other fields, `describe()` method give a summary for numerical attributes. "
   ]
  },
  {
   "cell_type": "code",
   "execution_count": 11,
   "id": "2745934c",
   "metadata": {},
   "outputs": [
    {
     "data": {
      "text/html": [
       "<div>\n",
       "<style scoped>\n",
       "    .dataframe tbody tr th:only-of-type {\n",
       "        vertical-align: middle;\n",
       "    }\n",
       "\n",
       "    .dataframe tbody tr th {\n",
       "        vertical-align: top;\n",
       "    }\n",
       "\n",
       "    .dataframe thead th {\n",
       "        text-align: right;\n",
       "    }\n",
       "</style>\n",
       "<table border=\"1\" class=\"dataframe\">\n",
       "  <thead>\n",
       "    <tr style=\"text-align: right;\">\n",
       "      <th></th>\n",
       "      <th>longitude</th>\n",
       "      <th>latitude</th>\n",
       "      <th>housing_median_age</th>\n",
       "      <th>total_rooms</th>\n",
       "      <th>total_bedrooms</th>\n",
       "      <th>population</th>\n",
       "      <th>households</th>\n",
       "      <th>median_income</th>\n",
       "      <th>median_house_value</th>\n",
       "    </tr>\n",
       "  </thead>\n",
       "  <tbody>\n",
       "    <tr>\n",
       "      <th>count</th>\n",
       "      <td>20640.000000</td>\n",
       "      <td>20640.000000</td>\n",
       "      <td>20640.000000</td>\n",
       "      <td>20640.000000</td>\n",
       "      <td>20433.000000</td>\n",
       "      <td>20640.000000</td>\n",
       "      <td>20640.000000</td>\n",
       "      <td>20640.000000</td>\n",
       "      <td>20640.000000</td>\n",
       "    </tr>\n",
       "    <tr>\n",
       "      <th>mean</th>\n",
       "      <td>-119.569704</td>\n",
       "      <td>35.631861</td>\n",
       "      <td>28.639486</td>\n",
       "      <td>2635.763081</td>\n",
       "      <td>537.870553</td>\n",
       "      <td>1425.476744</td>\n",
       "      <td>499.539680</td>\n",
       "      <td>3.870671</td>\n",
       "      <td>206855.816909</td>\n",
       "    </tr>\n",
       "    <tr>\n",
       "      <th>std</th>\n",
       "      <td>2.003532</td>\n",
       "      <td>2.135952</td>\n",
       "      <td>12.585558</td>\n",
       "      <td>2181.615252</td>\n",
       "      <td>421.385070</td>\n",
       "      <td>1132.462122</td>\n",
       "      <td>382.329753</td>\n",
       "      <td>1.899822</td>\n",
       "      <td>115395.615874</td>\n",
       "    </tr>\n",
       "    <tr>\n",
       "      <th>min</th>\n",
       "      <td>-124.350000</td>\n",
       "      <td>32.540000</td>\n",
       "      <td>1.000000</td>\n",
       "      <td>2.000000</td>\n",
       "      <td>1.000000</td>\n",
       "      <td>3.000000</td>\n",
       "      <td>1.000000</td>\n",
       "      <td>0.499900</td>\n",
       "      <td>14999.000000</td>\n",
       "    </tr>\n",
       "    <tr>\n",
       "      <th>25%</th>\n",
       "      <td>-121.800000</td>\n",
       "      <td>33.930000</td>\n",
       "      <td>18.000000</td>\n",
       "      <td>1447.750000</td>\n",
       "      <td>296.000000</td>\n",
       "      <td>787.000000</td>\n",
       "      <td>280.000000</td>\n",
       "      <td>2.563400</td>\n",
       "      <td>119600.000000</td>\n",
       "    </tr>\n",
       "    <tr>\n",
       "      <th>50%</th>\n",
       "      <td>-118.490000</td>\n",
       "      <td>34.260000</td>\n",
       "      <td>29.000000</td>\n",
       "      <td>2127.000000</td>\n",
       "      <td>435.000000</td>\n",
       "      <td>1166.000000</td>\n",
       "      <td>409.000000</td>\n",
       "      <td>3.534800</td>\n",
       "      <td>179700.000000</td>\n",
       "    </tr>\n",
       "    <tr>\n",
       "      <th>75%</th>\n",
       "      <td>-118.010000</td>\n",
       "      <td>37.710000</td>\n",
       "      <td>37.000000</td>\n",
       "      <td>3148.000000</td>\n",
       "      <td>647.000000</td>\n",
       "      <td>1725.000000</td>\n",
       "      <td>605.000000</td>\n",
       "      <td>4.743250</td>\n",
       "      <td>264725.000000</td>\n",
       "    </tr>\n",
       "    <tr>\n",
       "      <th>max</th>\n",
       "      <td>-114.310000</td>\n",
       "      <td>41.950000</td>\n",
       "      <td>52.000000</td>\n",
       "      <td>39320.000000</td>\n",
       "      <td>6445.000000</td>\n",
       "      <td>35682.000000</td>\n",
       "      <td>6082.000000</td>\n",
       "      <td>15.000100</td>\n",
       "      <td>500001.000000</td>\n",
       "    </tr>\n",
       "  </tbody>\n",
       "</table>\n",
       "</div>"
      ],
      "text/plain": [
       "          longitude      latitude  housing_median_age   total_rooms  \\\n",
       "count  20640.000000  20640.000000        20640.000000  20640.000000   \n",
       "mean    -119.569704     35.631861           28.639486   2635.763081   \n",
       "std        2.003532      2.135952           12.585558   2181.615252   \n",
       "min     -124.350000     32.540000            1.000000      2.000000   \n",
       "25%     -121.800000     33.930000           18.000000   1447.750000   \n",
       "50%     -118.490000     34.260000           29.000000   2127.000000   \n",
       "75%     -118.010000     37.710000           37.000000   3148.000000   \n",
       "max     -114.310000     41.950000           52.000000  39320.000000   \n",
       "\n",
       "       total_bedrooms    population    households  median_income  \\\n",
       "count    20433.000000  20640.000000  20640.000000   20640.000000   \n",
       "mean       537.870553   1425.476744    499.539680       3.870671   \n",
       "std        421.385070   1132.462122    382.329753       1.899822   \n",
       "min          1.000000      3.000000      1.000000       0.499900   \n",
       "25%        296.000000    787.000000    280.000000       2.563400   \n",
       "50%        435.000000   1166.000000    409.000000       3.534800   \n",
       "75%        647.000000   1725.000000    605.000000       4.743250   \n",
       "max       6445.000000  35682.000000   6082.000000      15.000100   \n",
       "\n",
       "       median_house_value  \n",
       "count        20640.000000  \n",
       "mean        206855.816909  \n",
       "std         115395.615874  \n",
       "min          14999.000000  \n",
       "25%         119600.000000  \n",
       "50%         179700.000000  \n",
       "75%         264725.000000  \n",
       "max         500001.000000  "
      ]
     },
     "execution_count": 11,
     "metadata": {},
     "output_type": "execute_result"
    }
   ],
   "source": [
    "df.describe()"
   ]
  },
  {
   "cell_type": "code",
   "execution_count": 12,
   "id": "bbe61538",
   "metadata": {},
   "outputs": [
    {
     "data": {
      "text/plain": [
       "array([[<AxesSubplot:title={'center':'longitude'}>,\n",
       "        <AxesSubplot:title={'center':'latitude'}>,\n",
       "        <AxesSubplot:title={'center':'housing_median_age'}>],\n",
       "       [<AxesSubplot:title={'center':'total_rooms'}>,\n",
       "        <AxesSubplot:title={'center':'total_bedrooms'}>,\n",
       "        <AxesSubplot:title={'center':'population'}>],\n",
       "       [<AxesSubplot:title={'center':'households'}>,\n",
       "        <AxesSubplot:title={'center':'median_income'}>,\n",
       "        <AxesSubplot:title={'center':'median_house_value'}>]],\n",
       "      dtype=object)"
      ]
     },
     "execution_count": 12,
     "metadata": {},
     "output_type": "execute_result"
    },
    {
     "data": {
      "image/png": "[encoded data removed]",
      "text/plain": [
       "<Figure size 1008x576 with 9 Axes>"
      ]
     },
     "metadata": {
      "needs_background": "light"
     },
     "output_type": "display_data"
    }
   ],
   "source": [
    "df.hist(figsize=(14,8), bins=100)"
   ]
  },
  {
   "cell_type": "code",
   "execution_count": 13,
   "id": "9b93aa85",
   "metadata": {},
   "outputs": [
    {
     "data": {
      "text/plain": [
       "array([[<AxesSubplot:title={'center':'longitude'}>,\n",
       "        <AxesSubplot:title={'center':'latitude'}>,\n",
       "        <AxesSubplot:title={'center':'housing_median_age'}>],\n",
       "       [<AxesSubplot:title={'center':'total_rooms'}>,\n",
       "        <AxesSubplot:title={'center':'total_bedrooms'}>,\n",
       "        <AxesSubplot:title={'center':'population'}>],\n",
       "       [<AxesSubplot:title={'center':'households'}>,\n",
       "        <AxesSubplot:title={'center':'median_income'}>,\n",
       "        <AxesSubplot:title={'center':'median_house_value'}>]],\n",
       "      dtype=object)"
      ]
     },
     "execution_count": 13,
     "metadata": {},
     "output_type": "execute_result"
    },
    {
     "data": {
      "image/png": "[encoded data removed]",
      "text/plain": [
       "<Figure size 1008x576 with 9 Axes>"
      ]
     },
     "metadata": {
      "needs_background": "light"
     },
     "output_type": "display_data"
    }
   ],
   "source": [
    "df.hist(figsize=(14,8), bins=100, log=True)"
   ]
  },
  {
   "cell_type": "markdown",
   "id": "0cc54dbd",
   "metadata": {},
   "source": [
    "first thing ever in a dataset project is to split in train and test chunks. "
   ]
  },
  {
   "cell_type": "code",
   "execution_count": 96,
   "id": "978e7ec0",
   "metadata": {},
   "outputs": [],
   "source": [
    "from sklearn.model_selection import train_test_split\n",
    "\n",
    "train_set, test_set = train_test_split(df, test_size=0.3, random_state=10)"
   ]
  },
  {
   "cell_type": "code",
   "execution_count": 97,
   "id": "55bd0fe5",
   "metadata": {},
   "outputs": [
    {
     "data": {
      "text/html": [
       "<div>\n",
       "<style scoped>\n",
       "    .dataframe tbody tr th:only-of-type {\n",
       "        vertical-align: middle;\n",
       "    }\n",
       "\n",
       "    .dataframe tbody tr th {\n",
       "        vertical-align: top;\n",
       "    }\n",
       "\n",
       "    .dataframe thead th {\n",
       "        text-align: right;\n",
       "    }\n",
       "</style>\n",
       "<table border=\"1\" class=\"dataframe\">\n",
       "  <thead>\n",
       "    <tr style=\"text-align: right;\">\n",
       "      <th></th>\n",
       "      <th>longitude</th>\n",
       "      <th>latitude</th>\n",
       "      <th>housing_median_age</th>\n",
       "      <th>total_rooms</th>\n",
       "      <th>total_bedrooms</th>\n",
       "      <th>population</th>\n",
       "      <th>households</th>\n",
       "      <th>median_income</th>\n",
       "      <th>median_house_value</th>\n",
       "      <th>ocean_proximity</th>\n",
       "    </tr>\n",
       "  </thead>\n",
       "  <tbody>\n",
       "    <tr>\n",
       "      <th>17853</th>\n",
       "      <td>-121.88</td>\n",
       "      <td>37.44</td>\n",
       "      <td>23.0</td>\n",
       "      <td>1310.0</td>\n",
       "      <td>267.0</td>\n",
       "      <td>910.0</td>\n",
       "      <td>261.0</td>\n",
       "      <td>5.3994</td>\n",
       "      <td>237900.0</td>\n",
       "      <td>&lt;1H OCEAN</td>\n",
       "    </tr>\n",
       "    <tr>\n",
       "      <th>15963</th>\n",
       "      <td>-122.44</td>\n",
       "      <td>37.71</td>\n",
       "      <td>52.0</td>\n",
       "      <td>2711.0</td>\n",
       "      <td>591.0</td>\n",
       "      <td>1848.0</td>\n",
       "      <td>524.0</td>\n",
       "      <td>3.9567</td>\n",
       "      <td>251500.0</td>\n",
       "      <td>NEAR BAY</td>\n",
       "    </tr>\n",
       "  </tbody>\n",
       "</table>\n",
       "</div>"
      ],
      "text/plain": [
       "       longitude  latitude  housing_median_age  total_rooms  total_bedrooms  \\\n",
       "17853    -121.88     37.44                23.0       1310.0           267.0   \n",
       "15963    -122.44     37.71                52.0       2711.0           591.0   \n",
       "\n",
       "       population  households  median_income  median_house_value  \\\n",
       "17853       910.0       261.0         5.3994            237900.0   \n",
       "15963      1848.0       524.0         3.9567            251500.0   \n",
       "\n",
       "      ocean_proximity  \n",
       "17853       <1H OCEAN  \n",
       "15963        NEAR BAY  "
      ]
     },
     "execution_count": 97,
     "metadata": {},
     "output_type": "execute_result"
    }
   ],
   "source": [
    "train_set[:2]"
   ]
  },
  {
   "cell_type": "code",
   "execution_count": 114,
   "id": "5c1a530b",
   "metadata": {},
   "outputs": [],
   "source": [
    "# train dataset\n",
    "train_set_attr = train_set.drop('median_house_value', axis=1)\n",
    "y_train = train_set['median_house_value']\n",
    "\n",
    "# test dataset\n",
    "test_set_attr = test_set.drop('median_house_value', axis=1)\n",
    "y_test = test_set['median_house_value']\n",
    "\n",
    "\n",
    "assert y_train.isnull().sum() == 0\n",
    "assert y_test.isnull().sum() == 0"
   ]
  },
  {
   "cell_type": "code",
   "execution_count": 106,
   "id": "de698425",
   "metadata": {},
   "outputs": [],
   "source": [
    "from sklearn.pipeline import Pipeline\n",
    "from sklearn.preprocessing import StandardScaler\n",
    "from sklearn.compose import ColumnTransformer\n",
    "from sklearn.preprocessing import OneHotEncoder\n",
    "from sklearn.base import BaseEstimator, TransformerMixin\n",
    "from sklearn.impute import SimpleImputer\n",
    "\n",
    "rooms_ix, bedrooms_ix, population_ix, households_ix = 3, 4, 5, 6\n",
    "\n",
    "\n",
    "class CombinedAttributesAdder(BaseEstimator, TransformerMixin):\n",
    "    \n",
    "    def __init__(self, add_bedrooms_per_room=True): # no *args or **kargs\n",
    "        self.add_bedrooms_per_room = add_bedrooms_per_room\n",
    "        \n",
    "    def fit(self, X, y=None):\n",
    "        return self  # nothing else to do\n",
    "    \n",
    "    def transform(self, X):\n",
    "        \n",
    "        rooms_per_household = X[:, rooms_ix] / X[:, households_ix]\n",
    "        population_per_household = X[:, population_ix] / X[:, households_ix]\n",
    "        \n",
    "        if self.add_bedrooms_per_room:\n",
    "            bedrooms_per_room = X[:, bedrooms_ix] / X[:, rooms_ix]\n",
    "            return np.c_[X, rooms_per_household, population_per_household,\n",
    "                         bedrooms_per_room]\n",
    "\n",
    "        else:\n",
    "            return np.c_[X, rooms_per_household, population_per_household]\n",
    "\n",
    "num_attribs = list(train_set_attr.drop('ocean_proximity', axis=1))\n",
    "cat_attribs = [\"ocean_proximity\"]\n",
    "\n",
    "num_pipeline = Pipeline([\n",
    "        ('imputer', SimpleImputer(strategy=\"median\")),\n",
    "        ('attribs_adder', CombinedAttributesAdder()),\n",
    "        ('std_scaler', StandardScaler()),\n",
    "    ])\n",
    "\n",
    "full_pipeline = ColumnTransformer([\n",
    "        (\"num\", num_pipeline, num_attribs),\n",
    "        (\"cat\", OneHotEncoder(), cat_attribs),\n",
    "    ])\n",
    "\n",
    "X_train = full_pipeline.fit_transform(train_set_attr)"
   ]
  },
  {
   "cell_type": "code",
   "execution_count": 108,
   "id": "84fe1696",
   "metadata": {},
   "outputs": [],
   "source": [
    "from sklearn.tree import DecisionTreeRegressor\n",
    "from sklearn.ensemble import RandomForestRegressor\n",
    "\n",
    "tree = DecisionTreeRegressor()\n",
    "rfr = RandomForestRegressor()"
   ]
  },
  {
   "cell_type": "code",
   "execution_count": 109,
   "id": "daf2d0ad",
   "metadata": {},
   "outputs": [
    {
     "data": {
      "text/plain": [
       "RandomForestRegressor()"
      ]
     },
     "execution_count": 109,
     "metadata": {},
     "output_type": "execute_result"
    }
   ],
   "source": [
    "tree.fit(X_train, y_train)\n",
    "rfr.fit(X_train, y_train)"
   ]
  },
  {
   "cell_type": "code",
   "execution_count": 112,
   "id": "d131389b",
   "metadata": {},
   "outputs": [],
   "source": [
    "X_test = full_pipeline.transform(test_set_attr)"
   ]
  },
  {
   "cell_type": "code",
   "execution_count": 115,
   "id": "b0980b9e",
   "metadata": {},
   "outputs": [
    {
     "data": {
      "text/plain": [
       "(68353.99475433373, 50240.61207561364)"
      ]
     },
     "execution_count": 115,
     "metadata": {},
     "output_type": "execute_result"
    }
   ],
   "source": [
    "from sklearn.metrics import mean_squared_error \n",
    "\n",
    "y_pred_tree = tree.predict(X_test)\n",
    "y_pred_rfr = rfr.predict(X_test)\n",
    "\n",
    "rms_tree = mean_squared_error(y_true=y_test,y_pred=y_pred_tree, squared=False)\n",
    "rms_rfr = mean_squared_error(y_true=y_test,y_pred=y_pred_rfr, squared=False)\n",
    "rms_tree, rms_rfr"
   ]
  },
  {
   "cell_type": "code",
   "execution_count": 128,
   "id": "08a04816",
   "metadata": {},
   "outputs": [
    {
     "data": {
      "text/plain": [
       "(0.0, 18569.155908720368)"
      ]
     },
     "execution_count": 128,
     "metadata": {},
     "output_type": "execute_result"
    }
   ],
   "source": [
    "y_tree_pred_train = tree.predict(X_train)\n",
    "y_rfr_pred_train = rfr.predict(X_train)\n",
    "\n",
    "mean_squared_error(y_true=y_train,y_pred=y_tree_pred_train, squared=False),  mean_squared_error(y_true=y_train,y_pred=y_rfr_pred_train, squared=False) \n"
   ]
  },
  {
   "cell_type": "code",
   "execution_count": 145,
   "id": "c7e240ab",
   "metadata": {},
   "outputs": [
    {
     "data": {
      "text/plain": [
       "<matplotlib.legend.Legend at 0x7f820a37dd90>"
      ]
     },
     "execution_count": 145,
     "metadata": {},
     "output_type": "execute_result"
    },
    {
     "data": {
      "image/png": "[encoded data removed]",
      "text/plain": [
       "<Figure size 1080x864 with 4 Axes>"
      ]
     },
     "metadata": {
      "needs_background": "light"
     },
     "output_type": "display_data"
    }
   ],
   "source": [
    "from scipy import stats\n",
    "\n",
    "fig, axes = plt.subplots(2,2, figsize=(15,12))\n",
    "\n",
    "# perform KS test for goodness of fit\n",
    "ks_tree, pvalue_tree= stats.ks_2samp(y_test, y_pred_tree)[0], stats.ks_2samp(y_test, y_pred_tree)[1]\n",
    "ks_rfr, pvalue_rfr= stats.ks_2samp(y_test, y_pred_rfr)[0], stats.ks_2samp(y_test, y_pred_rfr)[1]\n",
    "\n",
    "\n",
    "# defining min and max range of the histogram to align the bining scheme,\n",
    "min_tree, max_tree = min([y_test.min(), y_pred_tree.min()]), max([y_test.max(), y_pred_tree.max()])\n",
    "min_rfr, max_rfr = min([y_test.min(), y_pred_rfr.min()]), max([y_test.max(), y_pred_rfr.max()])\n",
    "\n",
    "axes[0][0].hist(y_pred_tree, bins=100, range=(min_tree, max_tree), label='tree prediction', alpha=0.4)\n",
    "axes[0][0].hist(y_test, bins=100, range=(min_tree, max_tree), label='true value', alpha=0.4)\n",
    "\n",
    "axes[0][1].hist(y_pred_rfr, bins=100, range=(min_rfr, max_rfr), label='rfr prediction', alpha=0.4)\n",
    "axes[0][1].hist(y_test, bins=100, range=(min_rfr, max_rfr), label='true value', alpha=0.4)\n",
    "\n",
    "axes[0][1].legend()\n",
    "\n",
    "axes[0][0].text(1e5, 250, f\"RMS tree: {round(rms_tree,2)}\" )\n",
    "axes[0][0].text(1e5, 225, f\"KS (stats): {round(ks_tree,2)}, p-value: {round(pvalue_tree,2)}\" )\n",
    "axes[0][1].text(1e5, 250, f\"RMS rfr: {round(rms_rfr,2)}\" )\n",
    "axes[0][1].text(1e5, 225, f\"KS (stats): {round(ks_rfr,2)}, p-value: {round(pvalue_rfr,2)}\" )\n",
    "axes[0][1].legend()\n",
    "\n",
    "axes[1][0].hist(y_pred_tree, bins=1000, range=(min_tree, max_tree), label='tree prediction', alpha=1, density=True, cumulative=True, histtype='step')\n",
    "axes[1][0].hist(y_test, bins=1000, range=(min_tree, max_tree), label='true value', alpha=1, density=True, cumulative=True, histtype='step')\n",
    "\n",
    "axes[1][1].hist(y_pred_rfr, bins=1000, range=(min_rfr, max_rfr), label='rfr prediction', alpha=1, density=True, cumulative=True, histtype='step')\n",
    "axes[1][1].hist(y_test, bins=1000, range=(min_rfr, max_rfr), label='true value', alpha=1, density=True, cumulative=True,  histtype='step')\n",
    "\n",
    "axes[1][1].legend()\n",
    "\n",
    "# axes[1][0].text(1e5, 250, f\"RMS tree: {round(rms_tree,2)}\" )\n",
    "# axes[1][0].text(1e5, 225, f\"KS (stats): {round(ks_tree,2)}, p-value: {round(pvalue_tree,2)}\" )\n",
    "# axes[1][1].text(1e5, 250, f\"RMS rfr: {round(rms_rfr,2)}\" )\n",
    "# axes[1][1].text(1e5, 225, f\"KS (stats): {round(ks_rfr,2)}, p-value: {round(pvalue_rfr,2)}\" )\n",
    "axes[1][1].legend()"
   ]
  }
 ],
 "metadata": {
  "kernelspec": {
   "display_name": "Python 3 (ipykernel)",
   "language": "python",
   "name": "python3"
  },
  "language_info": {
   "codemirror_mode": {
    "name": "ipython",
    "version": 3
   },
   "file_extension": ".py",
   "mimetype": "text/x-python",
   "name": "python",
   "nbconvert_exporter": "python",
   "pygments_lexer": "ipython3",
   "version": "3.9.4"
  }
 },
 "nbformat": 4,
 "nbformat_minor": 5
}
