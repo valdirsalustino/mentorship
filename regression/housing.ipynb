{
 "cells": [
  {
   "cell_type": "markdown",
   "id": "7108f76f",
   "metadata": {},
   "source": [
    "# House price prediction\n",
    "\n",
    "Extracted from this ref. [book](https://www.amazon.com.br/Hands-Machine-Learning-Scikit-Learn-TensorFlow/dp/1492032646/ref=asc_df_1492032646/?tag=googleshopp00-20&linkCode=df0&hvadid=379733272930&hvpos=&hvnetw=g&hvrand=5358833530171969532&hvpone=&hvptwo=&hvqmt=&hvdev=c&hvdvcmdl=&hvlocint=&hvlocphy=1001652&hvtargid=pla-523968811896&psc=1)\n",
    "\n",
    "\n",
    "Chapter 2 of Hands on Machine Learning With Scikit-Learn and Keras; "
   ]
  },
  {
   "cell_type": "markdown",
   "id": "11b3e515",
   "metadata": {},
   "source": [
    "### Download data"
   ]
  },
  {
   "cell_type": "code",
   "execution_count": 1,
   "id": "7cb779ae",
   "metadata": {},
   "outputs": [],
   "source": [
    "import os\n",
    "import tarfile\n",
    "import urllib\n",
    "from matplotlib import pyplot as plt\n",
    "\n",
    "import ssl\n",
    "ssl._create_default_https_context = ssl._create_unverified_context\n",
    "\n",
    "DOWNLOAD_ROOT = \"https://raw.githubusercontent.com/ageron/handson-ml2/master/\"\n",
    "HOUSING_PATH = os.path.join(\"datasets\", \"housing\")\n",
    "HOUSING_URL = DOWNLOAD_ROOT + \"datasets/housing/housing.tgz\"\n",
    "\n",
    "def fetch_housing_data(housing_url=HOUSING_URL, housing_path=HOUSING_PATH):\n",
    "    os.makedirs(housing_path, exist_ok=True)\n",
    "    tgz_path = os.path.join(housing_path, \"housing.tgz\")\n",
    "    urllib.request.urlretrieve(housing_url, tgz_path)\n",
    "    housing_tgz = tarfile.open(tgz_path)\n",
    "    housing_tgz.extractall(path=housing_path)\n",
    "    housing_tgz.close()\n",
    "    \n",
    "fetch_housing_data()    "
   ]
  },
  {
   "cell_type": "code",
   "execution_count": 2,
   "id": "550b3123",
   "metadata": {},
   "outputs": [],
   "source": [
    "import pandas as pd\n",
    "\n",
    "def load_housing_data(housing_path=HOUSING_PATH):\n",
    "    csv_path = os.path.join(housing_path, \"housing.csv\")\n",
    "    return pd.read_csv(csv_path)\n",
    "\n",
    "df = load_housing_data()"
   ]
  },
  {
   "cell_type": "markdown",
   "id": "33c04bd7",
   "metadata": {},
   "source": [
    " - Define goal. \n",
    " \n",
    "     * create a model that predict median house value"
   ]
  },
  {
   "cell_type": "code",
   "execution_count": 3,
   "id": "2c7c4468",
   "metadata": {},
   "outputs": [
    {
     "data": {
      "text/html": [
       "<div>\n",
       "<style scoped>\n",
       "    .dataframe tbody tr th:only-of-type {\n",
       "        vertical-align: middle;\n",
       "    }\n",
       "\n",
       "    .dataframe tbody tr th {\n",
       "        vertical-align: top;\n",
       "    }\n",
       "\n",
       "    .dataframe thead th {\n",
       "        text-align: right;\n",
       "    }\n",
       "</style>\n",
       "<table border=\"1\" class=\"dataframe\">\n",
       "  <thead>\n",
       "    <tr style=\"text-align: right;\">\n",
       "      <th></th>\n",
       "      <th>longitude</th>\n",
       "      <th>latitude</th>\n",
       "      <th>housing_median_age</th>\n",
       "      <th>total_rooms</th>\n",
       "      <th>total_bedrooms</th>\n",
       "      <th>population</th>\n",
       "      <th>households</th>\n",
       "      <th>median_income</th>\n",
       "      <th>median_house_value</th>\n",
       "      <th>ocean_proximity</th>\n",
       "    </tr>\n",
       "  </thead>\n",
       "  <tbody>\n",
       "    <tr>\n",
       "      <th>0</th>\n",
       "      <td>-122.23</td>\n",
       "      <td>37.88</td>\n",
       "      <td>41.0</td>\n",
       "      <td>880.0</td>\n",
       "      <td>129.0</td>\n",
       "      <td>322.0</td>\n",
       "      <td>126.0</td>\n",
       "      <td>8.3252</td>\n",
       "      <td>452600.0</td>\n",
       "      <td>NEAR BAY</td>\n",
       "    </tr>\n",
       "    <tr>\n",
       "      <th>1</th>\n",
       "      <td>-122.22</td>\n",
       "      <td>37.86</td>\n",
       "      <td>21.0</td>\n",
       "      <td>7099.0</td>\n",
       "      <td>1106.0</td>\n",
       "      <td>2401.0</td>\n",
       "      <td>1138.0</td>\n",
       "      <td>8.3014</td>\n",
       "      <td>358500.0</td>\n",
       "      <td>NEAR BAY</td>\n",
       "    </tr>\n",
       "    <tr>\n",
       "      <th>2</th>\n",
       "      <td>-122.24</td>\n",
       "      <td>37.85</td>\n",
       "      <td>52.0</td>\n",
       "      <td>1467.0</td>\n",
       "      <td>190.0</td>\n",
       "      <td>496.0</td>\n",
       "      <td>177.0</td>\n",
       "      <td>7.2574</td>\n",
       "      <td>352100.0</td>\n",
       "      <td>NEAR BAY</td>\n",
       "    </tr>\n",
       "  </tbody>\n",
       "</table>\n",
       "</div>"
      ],
      "text/plain": [
       "   longitude  latitude  housing_median_age  total_rooms  total_bedrooms  \\\n",
       "0    -122.23     37.88                41.0        880.0           129.0   \n",
       "1    -122.22     37.86                21.0       7099.0          1106.0   \n",
       "2    -122.24     37.85                52.0       1467.0           190.0   \n",
       "\n",
       "   population  households  median_income  median_house_value ocean_proximity  \n",
       "0       322.0       126.0         8.3252            452600.0        NEAR BAY  \n",
       "1      2401.0      1138.0         8.3014            358500.0        NEAR BAY  \n",
       "2       496.0       177.0         7.2574            352100.0        NEAR BAY  "
      ]
     },
     "execution_count": 3,
     "metadata": {},
     "output_type": "execute_result"
    }
   ],
   "source": [
    "df[:3]"
   ]
  },
  {
   "cell_type": "markdown",
   "id": "41b9d81a",
   "metadata": {},
   "source": [
    "### EDA ( exploratory data analysis) "
   ]
  },
  {
   "cell_type": "code",
   "execution_count": 4,
   "id": "93458ade",
   "metadata": {},
   "outputs": [
    {
     "data": {
      "text/plain": [
       "(20640, 10)"
      ]
     },
     "execution_count": 4,
     "metadata": {},
     "output_type": "execute_result"
    }
   ],
   "source": [
    "df.shape"
   ]
  },
  {
   "cell_type": "code",
   "execution_count": 5,
   "id": "f877b05c",
   "metadata": {},
   "outputs": [
    {
     "name": "stdout",
     "output_type": "stream",
     "text": [
      "<class 'pandas.core.frame.DataFrame'>\n",
      "RangeIndex: 20640 entries, 0 to 20639\n",
      "Data columns (total 10 columns):\n",
      " #   Column              Non-Null Count  Dtype  \n",
      "---  ------              --------------  -----  \n",
      " 0   longitude           20640 non-null  float64\n",
      " 1   latitude            20640 non-null  float64\n",
      " 2   housing_median_age  20640 non-null  float64\n",
      " 3   total_rooms         20640 non-null  float64\n",
      " 4   total_bedrooms      20433 non-null  float64\n",
      " 5   population          20640 non-null  float64\n",
      " 6   households          20640 non-null  float64\n",
      " 7   median_income       20640 non-null  float64\n",
      " 8   median_house_value  20640 non-null  float64\n",
      " 9   ocean_proximity     20640 non-null  object \n",
      "dtypes: float64(9), object(1)\n",
      "memory usage: 1.6+ MB\n"
     ]
    }
   ],
   "source": [
    "df.info()"
   ]
  },
  {
   "cell_type": "code",
   "execution_count": 6,
   "id": "6cca7be6",
   "metadata": {},
   "outputs": [
    {
     "data": {
      "text/plain": [
       "longitude               0\n",
       "latitude                0\n",
       "housing_median_age      0\n",
       "total_rooms             0\n",
       "total_bedrooms        207\n",
       "population              0\n",
       "households              0\n",
       "median_income           0\n",
       "median_house_value      0\n",
       "ocean_proximity         0\n",
       "dtype: int64"
      ]
     },
     "execution_count": 6,
     "metadata": {},
     "output_type": "execute_result"
    }
   ],
   "source": [
    "df.isnull().sum()"
   ]
  },
  {
   "cell_type": "code",
   "execution_count": 7,
   "id": "91dc7e98",
   "metadata": {},
   "outputs": [
    {
     "data": {
      "text/plain": [
       "<1H OCEAN     9136\n",
       "INLAND        6551\n",
       "NEAR OCEAN    2658\n",
       "NEAR BAY      2290\n",
       "ISLAND           5\n",
       "Name: ocean_proximity, dtype: int64"
      ]
     },
     "execution_count": 7,
     "metadata": {},
     "output_type": "execute_result"
    }
   ],
   "source": [
    "df['ocean_proximity'].value_counts()"
   ]
  },
  {
   "cell_type": "markdown",
   "id": "a9c133e7",
   "metadata": {},
   "source": [
    "Lets look at other fields, `describe()` method give a summary for numerical attributes. "
   ]
  },
  {
   "cell_type": "code",
   "execution_count": 8,
   "id": "2745934c",
   "metadata": {},
   "outputs": [
    {
     "data": {
      "text/html": [
       "<div>\n",
       "<style scoped>\n",
       "    .dataframe tbody tr th:only-of-type {\n",
       "        vertical-align: middle;\n",
       "    }\n",
       "\n",
       "    .dataframe tbody tr th {\n",
       "        vertical-align: top;\n",
       "    }\n",
       "\n",
       "    .dataframe thead th {\n",
       "        text-align: right;\n",
       "    }\n",
       "</style>\n",
       "<table border=\"1\" class=\"dataframe\">\n",
       "  <thead>\n",
       "    <tr style=\"text-align: right;\">\n",
       "      <th></th>\n",
       "      <th>longitude</th>\n",
       "      <th>latitude</th>\n",
       "      <th>housing_median_age</th>\n",
       "      <th>total_rooms</th>\n",
       "      <th>total_bedrooms</th>\n",
       "      <th>population</th>\n",
       "      <th>households</th>\n",
       "      <th>median_income</th>\n",
       "      <th>median_house_value</th>\n",
       "    </tr>\n",
       "  </thead>\n",
       "  <tbody>\n",
       "    <tr>\n",
       "      <th>count</th>\n",
       "      <td>20640.000000</td>\n",
       "      <td>20640.000000</td>\n",
       "      <td>20640.000000</td>\n",
       "      <td>20640.000000</td>\n",
       "      <td>20433.000000</td>\n",
       "      <td>20640.000000</td>\n",
       "      <td>20640.000000</td>\n",
       "      <td>20640.000000</td>\n",
       "      <td>20640.000000</td>\n",
       "    </tr>\n",
       "    <tr>\n",
       "      <th>mean</th>\n",
       "      <td>-119.569704</td>\n",
       "      <td>35.631861</td>\n",
       "      <td>28.639486</td>\n",
       "      <td>2635.763081</td>\n",
       "      <td>537.870553</td>\n",
       "      <td>1425.476744</td>\n",
       "      <td>499.539680</td>\n",
       "      <td>3.870671</td>\n",
       "      <td>206855.816909</td>\n",
       "    </tr>\n",
       "    <tr>\n",
       "      <th>std</th>\n",
       "      <td>2.003532</td>\n",
       "      <td>2.135952</td>\n",
       "      <td>12.585558</td>\n",
       "      <td>2181.615252</td>\n",
       "      <td>421.385070</td>\n",
       "      <td>1132.462122</td>\n",
       "      <td>382.329753</td>\n",
       "      <td>1.899822</td>\n",
       "      <td>115395.615874</td>\n",
       "    </tr>\n",
       "    <tr>\n",
       "      <th>min</th>\n",
       "      <td>-124.350000</td>\n",
       "      <td>32.540000</td>\n",
       "      <td>1.000000</td>\n",
       "      <td>2.000000</td>\n",
       "      <td>1.000000</td>\n",
       "      <td>3.000000</td>\n",
       "      <td>1.000000</td>\n",
       "      <td>0.499900</td>\n",
       "      <td>14999.000000</td>\n",
       "    </tr>\n",
       "    <tr>\n",
       "      <th>25%</th>\n",
       "      <td>-121.800000</td>\n",
       "      <td>33.930000</td>\n",
       "      <td>18.000000</td>\n",
       "      <td>1447.750000</td>\n",
       "      <td>296.000000</td>\n",
       "      <td>787.000000</td>\n",
       "      <td>280.000000</td>\n",
       "      <td>2.563400</td>\n",
       "      <td>119600.000000</td>\n",
       "    </tr>\n",
       "    <tr>\n",
       "      <th>50%</th>\n",
       "      <td>-118.490000</td>\n",
       "      <td>34.260000</td>\n",
       "      <td>29.000000</td>\n",
       "      <td>2127.000000</td>\n",
       "      <td>435.000000</td>\n",
       "      <td>1166.000000</td>\n",
       "      <td>409.000000</td>\n",
       "      <td>3.534800</td>\n",
       "      <td>179700.000000</td>\n",
       "    </tr>\n",
       "    <tr>\n",
       "      <th>75%</th>\n",
       "      <td>-118.010000</td>\n",
       "      <td>37.710000</td>\n",
       "      <td>37.000000</td>\n",
       "      <td>3148.000000</td>\n",
       "      <td>647.000000</td>\n",
       "      <td>1725.000000</td>\n",
       "      <td>605.000000</td>\n",
       "      <td>4.743250</td>\n",
       "      <td>264725.000000</td>\n",
       "    </tr>\n",
       "    <tr>\n",
       "      <th>max</th>\n",
       "      <td>-114.310000</td>\n",
       "      <td>41.950000</td>\n",
       "      <td>52.000000</td>\n",
       "      <td>39320.000000</td>\n",
       "      <td>6445.000000</td>\n",
       "      <td>35682.000000</td>\n",
       "      <td>6082.000000</td>\n",
       "      <td>15.000100</td>\n",
       "      <td>500001.000000</td>\n",
       "    </tr>\n",
       "  </tbody>\n",
       "</table>\n",
       "</div>"
      ],
      "text/plain": [
       "          longitude      latitude  housing_median_age   total_rooms  \\\n",
       "count  20640.000000  20640.000000        20640.000000  20640.000000   \n",
       "mean    -119.569704     35.631861           28.639486   2635.763081   \n",
       "std        2.003532      2.135952           12.585558   2181.615252   \n",
       "min     -124.350000     32.540000            1.000000      2.000000   \n",
       "25%     -121.800000     33.930000           18.000000   1447.750000   \n",
       "50%     -118.490000     34.260000           29.000000   2127.000000   \n",
       "75%     -118.010000     37.710000           37.000000   3148.000000   \n",
       "max     -114.310000     41.950000           52.000000  39320.000000   \n",
       "\n",
       "       total_bedrooms    population    households  median_income  \\\n",
       "count    20433.000000  20640.000000  20640.000000   20640.000000   \n",
       "mean       537.870553   1425.476744    499.539680       3.870671   \n",
       "std        421.385070   1132.462122    382.329753       1.899822   \n",
       "min          1.000000      3.000000      1.000000       0.499900   \n",
       "25%        296.000000    787.000000    280.000000       2.563400   \n",
       "50%        435.000000   1166.000000    409.000000       3.534800   \n",
       "75%        647.000000   1725.000000    605.000000       4.743250   \n",
       "max       6445.000000  35682.000000   6082.000000      15.000100   \n",
       "\n",
       "       median_house_value  \n",
       "count        20640.000000  \n",
       "mean        206855.816909  \n",
       "std         115395.615874  \n",
       "min          14999.000000  \n",
       "25%         119600.000000  \n",
       "50%         179700.000000  \n",
       "75%         264725.000000  \n",
       "max         500001.000000  "
      ]
     },
     "execution_count": 8,
     "metadata": {},
     "output_type": "execute_result"
    }
   ],
   "source": [
    "df.describe()"
   ]
  },
  {
   "cell_type": "code",
   "execution_count": 9,
   "id": "bbe61538",
   "metadata": {},
   "outputs": [
    {
     "data": {
      "text/plain": [
       "array([[<AxesSubplot:title={'center':'longitude'}>,\n",
       "        <AxesSubplot:title={'center':'latitude'}>,\n",
       "        <AxesSubplot:title={'center':'housing_median_age'}>],\n",
       "       [<AxesSubplot:title={'center':'total_rooms'}>,\n",
       "        <AxesSubplot:title={'center':'total_bedrooms'}>,\n",
       "        <AxesSubplot:title={'center':'population'}>],\n",
       "       [<AxesSubplot:title={'center':'households'}>,\n",
       "        <AxesSubplot:title={'center':'median_income'}>,\n",
       "        <AxesSubplot:title={'center':'median_house_value'}>]],\n",
       "      dtype=object)"
      ]
     },
     "execution_count": 9,
     "metadata": {},
     "output_type": "execute_result"
    },
    {
     "data": {
      "image/png": "[encoded data removed]",
      "text/plain": [
       "<Figure size 1008x576 with 9 Axes>"
      ]
     },
     "metadata": {
      "needs_background": "light"
     },
     "output_type": "display_data"
    }
   ],
   "source": [
    "df.hist(figsize=(14,8), bins=100)"
   ]
  },
  {
   "cell_type": "code",
   "execution_count": 10,
   "id": "9b93aa85",
   "metadata": {},
   "outputs": [
    {
     "data": {
      "text/plain": [
       "array([[<AxesSubplot:title={'center':'longitude'}>,\n",
       "        <AxesSubplot:title={'center':'latitude'}>,\n",
       "        <AxesSubplot:title={'center':'housing_median_age'}>],\n",
       "       [<AxesSubplot:title={'center':'total_rooms'}>,\n",
       "        <AxesSubplot:title={'center':'total_bedrooms'}>,\n",
       "        <AxesSubplot:title={'center':'population'}>],\n",
       "       [<AxesSubplot:title={'center':'households'}>,\n",
       "        <AxesSubplot:title={'center':'median_income'}>,\n",
       "        <AxesSubplot:title={'center':'median_house_value'}>]],\n",
       "      dtype=object)"
      ]
     },
     "execution_count": 10,
     "metadata": {},
     "output_type": "execute_result"
    },
    {
     "data": {
      "image/png": "[encoded data removed]",
      "text/plain": [
       "<Figure size 1008x576 with 9 Axes>"
      ]
     },
     "metadata": {
      "needs_background": "light"
     },
     "output_type": "display_data"
    }
   ],
   "source": [
    "df.hist(figsize=(14,8), bins=100, log=True)"
   ]
  },
  {
   "cell_type": "markdown",
   "id": "0cc54dbd",
   "metadata": {},
   "source": [
    "first thing ever in a dataset project is to split in train and test chunks. "
   ]
  },
  {
   "cell_type": "code",
   "execution_count": 11,
   "id": "978e7ec0",
   "metadata": {},
   "outputs": [],
   "source": [
    "from sklearn.model_selection import train_test_split\n",
    "\n",
    "train_set, test_set = train_test_split(df, test_size=0.3, random_state=10)"
   ]
  },
  {
   "cell_type": "code",
   "execution_count": 12,
   "id": "5c1a530b",
   "metadata": {},
   "outputs": [
    {
     "data": {
      "text/plain": [
       "(14448, 10)"
      ]
     },
     "execution_count": 12,
     "metadata": {},
     "output_type": "execute_result"
    }
   ],
   "source": [
    "train_set.shape"
   ]
  },
  {
   "cell_type": "code",
   "execution_count": 13,
   "id": "783654c5",
   "metadata": {},
   "outputs": [
    {
     "data": {
      "text/plain": [
       "longitude               0\n",
       "latitude                0\n",
       "housing_median_age      0\n",
       "total_rooms             0\n",
       "total_bedrooms        150\n",
       "population              0\n",
       "households              0\n",
       "median_income           0\n",
       "median_house_value      0\n",
       "ocean_proximity         0\n",
       "dtype: int64"
      ]
     },
     "execution_count": 13,
     "metadata": {},
     "output_type": "execute_result"
    }
   ],
   "source": [
    "train_set.isnull().sum()"
   ]
  },
  {
   "cell_type": "code",
   "execution_count": 14,
   "id": "f19f4b2a",
   "metadata": {},
   "outputs": [
    {
     "data": {
      "text/html": [
       "<div>\n",
       "<style scoped>\n",
       "    .dataframe tbody tr th:only-of-type {\n",
       "        vertical-align: middle;\n",
       "    }\n",
       "\n",
       "    .dataframe tbody tr th {\n",
       "        vertical-align: top;\n",
       "    }\n",
       "\n",
       "    .dataframe thead th {\n",
       "        text-align: right;\n",
       "    }\n",
       "</style>\n",
       "<table border=\"1\" class=\"dataframe\">\n",
       "  <thead>\n",
       "    <tr style=\"text-align: right;\">\n",
       "      <th></th>\n",
       "      <th>longitude</th>\n",
       "      <th>latitude</th>\n",
       "      <th>housing_median_age</th>\n",
       "      <th>total_rooms</th>\n",
       "      <th>total_bedrooms</th>\n",
       "      <th>population</th>\n",
       "      <th>households</th>\n",
       "      <th>median_income</th>\n",
       "      <th>median_house_value</th>\n",
       "      <th>ocean_proximity</th>\n",
       "    </tr>\n",
       "  </thead>\n",
       "  <tbody>\n",
       "    <tr>\n",
       "      <th>19485</th>\n",
       "      <td>-120.98</td>\n",
       "      <td>37.66</td>\n",
       "      <td>10.0</td>\n",
       "      <td>934.0</td>\n",
       "      <td>NaN</td>\n",
       "      <td>401.0</td>\n",
       "      <td>255.0</td>\n",
       "      <td>0.9336</td>\n",
       "      <td>127100.0</td>\n",
       "      <td>INLAND</td>\n",
       "    </tr>\n",
       "    <tr>\n",
       "      <th>2608</th>\n",
       "      <td>-124.00</td>\n",
       "      <td>40.92</td>\n",
       "      <td>29.0</td>\n",
       "      <td>1429.0</td>\n",
       "      <td>NaN</td>\n",
       "      <td>672.0</td>\n",
       "      <td>266.0</td>\n",
       "      <td>2.9485</td>\n",
       "      <td>98800.0</td>\n",
       "      <td>&lt;1H OCEAN</td>\n",
       "    </tr>\n",
       "    <tr>\n",
       "      <th>8337</th>\n",
       "      <td>-118.31</td>\n",
       "      <td>33.94</td>\n",
       "      <td>40.0</td>\n",
       "      <td>1550.0</td>\n",
       "      <td>NaN</td>\n",
       "      <td>798.0</td>\n",
       "      <td>270.0</td>\n",
       "      <td>3.7750</td>\n",
       "      <td>153800.0</td>\n",
       "      <td>&lt;1H OCEAN</td>\n",
       "    </tr>\n",
       "  </tbody>\n",
       "</table>\n",
       "</div>"
      ],
      "text/plain": [
       "       longitude  latitude  housing_median_age  total_rooms  total_bedrooms  \\\n",
       "19485    -120.98     37.66                10.0        934.0             NaN   \n",
       "2608     -124.00     40.92                29.0       1429.0             NaN   \n",
       "8337     -118.31     33.94                40.0       1550.0             NaN   \n",
       "\n",
       "       population  households  median_income  median_house_value  \\\n",
       "19485       401.0       255.0         0.9336            127100.0   \n",
       "2608        672.0       266.0         2.9485             98800.0   \n",
       "8337        798.0       270.0         3.7750            153800.0   \n",
       "\n",
       "      ocean_proximity  \n",
       "19485          INLAND  \n",
       "2608        <1H OCEAN  \n",
       "8337        <1H OCEAN  "
      ]
     },
     "execution_count": 14,
     "metadata": {},
     "output_type": "execute_result"
    }
   ],
   "source": [
    "train_set[train_set['total_bedrooms'].isnull()][:3]"
   ]
  },
  {
   "cell_type": "code",
   "execution_count": 15,
   "id": "58d68e9d",
   "metadata": {},
   "outputs": [
    {
     "data": {
      "text/plain": [
       "<AxesSubplot:ylabel='Frequency'>"
      ]
     },
     "execution_count": 15,
     "metadata": {},
     "output_type": "execute_result"
    },
    {
     "data": {
      "image/png": "[encoded data removed]",
      "text/plain": [
       "<Figure size 432x288 with 1 Axes>"
      ]
     },
     "metadata": {
      "needs_background": "light"
     },
     "output_type": "display_data"
    }
   ],
   "source": [
    "train_set['total_bedrooms'].plot.hist(bins=100)"
   ]
  },
  {
   "cell_type": "code",
   "execution_count": 16,
   "id": "90aa38f6",
   "metadata": {},
   "outputs": [
    {
     "data": {
      "text/plain": [
       "434.0"
      ]
     },
     "execution_count": 16,
     "metadata": {},
     "output_type": "execute_result"
    }
   ],
   "source": [
    "train_set['total_bedrooms'].median()"
   ]
  },
  {
   "cell_type": "code",
   "execution_count": 17,
   "id": "c82be3b3",
   "metadata": {
    "scrolled": true
   },
   "outputs": [],
   "source": [
    "# fill null entry for total_badroom using the median values\n",
    "# train_set['total_bedrooms'].fillna(train_set['total_bedrooms'].median())\n",
    "import numpy as np\n",
    "\n",
    "from sklearn.impute import SimpleImputer\n",
    "preprocessor = SimpleImputer(missing_values=np.nan, strategy='median')\n",
    "preprocessor.fit(train_set['total_bedrooms'].values.reshape(-1,1))\n",
    "\n",
    "train_set['total_bedrooms_prep'] = preprocessor.transform(train_set['total_bedrooms'].values.reshape(-1,1))"
   ]
  },
  {
   "cell_type": "markdown",
   "id": "3ab17579",
   "metadata": {},
   "source": [
    "---- preprocessing, data normalization etc...\n",
    "* fit\n",
    "* transform \n",
    "* fit_transform\n",
    "\n",
    "---- models\n",
    "\n",
    "* fit\n",
    "* predict \n",
    "* fit_predict"
   ]
  },
  {
   "cell_type": "code",
   "execution_count": 18,
   "id": "6691f75a",
   "metadata": {},
   "outputs": [],
   "source": [
    "# train_set[train_set['total_bedrooms'].isnull()]"
   ]
  },
  {
   "cell_type": "code",
   "execution_count": 19,
   "id": "9c3f0d23",
   "metadata": {},
   "outputs": [],
   "source": [
    "# feature engineering to compute per houserolds and total_rooms\n",
    "\n",
    "train_set[\"rooms_per_household\"] = train_set[\"total_rooms\"]/train_set[\"households\"]\n",
    "train_set[\"bedrooms_per_room\"] = train_set[\"total_bedrooms_prep\"]/train_set[\"total_rooms\"]\n",
    "train_set[\"population_per_household\"]=train_set[\"population\"]/train_set[\"households\"]\n",
    "\n",
    "# test data\n",
    "# TODO, pack to pipeline using CombinedAttributesAdder\n",
    "# test_set[\"rooms_per_household\"] = test_set[\"total_rooms\"]/test_set[\"households\"]\n",
    "# test_set[\"bedrooms_per_room\"] = test_set[\"total_bedrooms_prep\"]/test_set[\"total_rooms\"]\n",
    "# test_set[\"population_per_household\"]=test_set[\"population\"]/test_set[\"households\"]"
   ]
  },
  {
   "cell_type": "code",
   "execution_count": 20,
   "id": "e17ac3de",
   "metadata": {},
   "outputs": [
    {
     "data": {
      "text/plain": [
       "<1H OCEAN     6431\n",
       "INLAND        4576\n",
       "NEAR OCEAN    1851\n",
       "NEAR BAY      1587\n",
       "ISLAND           3\n",
       "Name: ocean_proximity, dtype: int64"
      ]
     },
     "execution_count": 20,
     "metadata": {},
     "output_type": "execute_result"
    }
   ],
   "source": [
    "train_set['ocean_proximity'].value_counts()"
   ]
  },
  {
   "cell_type": "code",
   "execution_count": 21,
   "id": "d4bdebc5",
   "metadata": {},
   "outputs": [
    {
     "data": {
      "text/plain": [
       "LabelEncoder()"
      ]
     },
     "execution_count": 21,
     "metadata": {},
     "output_type": "execute_result"
    }
   ],
   "source": [
    "# label encoder for mutually excludent categorical feature. \n",
    "\n",
    "from sklearn import preprocessing\n",
    "le = preprocessing.LabelEncoder()\n",
    "le.fit(train_set['ocean_proximity'])\n"
   ]
  },
  {
   "cell_type": "code",
   "execution_count": 22,
   "id": "368098e7",
   "metadata": {},
   "outputs": [],
   "source": [
    "train_set_num = train_set.drop(['total_bedrooms', 'ocean_proximity'], axis=1)"
   ]
  },
  {
   "cell_type": "code",
   "execution_count": 23,
   "id": "11c2047a",
   "metadata": {},
   "outputs": [
    {
     "data": {
      "text/html": [
       "<div>\n",
       "<style scoped>\n",
       "    .dataframe tbody tr th:only-of-type {\n",
       "        vertical-align: middle;\n",
       "    }\n",
       "\n",
       "    .dataframe tbody tr th {\n",
       "        vertical-align: top;\n",
       "    }\n",
       "\n",
       "    .dataframe thead th {\n",
       "        text-align: right;\n",
       "    }\n",
       "</style>\n",
       "<table border=\"1\" class=\"dataframe\">\n",
       "  <thead>\n",
       "    <tr style=\"text-align: right;\">\n",
       "      <th></th>\n",
       "      <th>longitude</th>\n",
       "      <th>latitude</th>\n",
       "      <th>housing_median_age</th>\n",
       "      <th>total_rooms</th>\n",
       "      <th>population</th>\n",
       "      <th>households</th>\n",
       "      <th>median_income</th>\n",
       "      <th>median_house_value</th>\n",
       "      <th>total_bedrooms_prep</th>\n",
       "      <th>rooms_per_household</th>\n",
       "      <th>bedrooms_per_room</th>\n",
       "      <th>population_per_household</th>\n",
       "    </tr>\n",
       "  </thead>\n",
       "  <tbody>\n",
       "    <tr>\n",
       "      <th>17853</th>\n",
       "      <td>-121.88</td>\n",
       "      <td>37.44</td>\n",
       "      <td>23.0</td>\n",
       "      <td>1310.0</td>\n",
       "      <td>910.0</td>\n",
       "      <td>261.0</td>\n",
       "      <td>5.3994</td>\n",
       "      <td>237900.0</td>\n",
       "      <td>267.0</td>\n",
       "      <td>5.019157</td>\n",
       "      <td>0.203817</td>\n",
       "      <td>3.486590</td>\n",
       "    </tr>\n",
       "    <tr>\n",
       "      <th>15963</th>\n",
       "      <td>-122.44</td>\n",
       "      <td>37.71</td>\n",
       "      <td>52.0</td>\n",
       "      <td>2711.0</td>\n",
       "      <td>1848.0</td>\n",
       "      <td>524.0</td>\n",
       "      <td>3.9567</td>\n",
       "      <td>251500.0</td>\n",
       "      <td>591.0</td>\n",
       "      <td>5.173664</td>\n",
       "      <td>0.218001</td>\n",
       "      <td>3.526718</td>\n",
       "    </tr>\n",
       "    <tr>\n",
       "      <th>20106</th>\n",
       "      <td>-120.29</td>\n",
       "      <td>37.94</td>\n",
       "      <td>17.0</td>\n",
       "      <td>1459.0</td>\n",
       "      <td>753.0</td>\n",
       "      <td>271.0</td>\n",
       "      <td>3.0500</td>\n",
       "      <td>144800.0</td>\n",
       "      <td>297.0</td>\n",
       "      <td>5.383764</td>\n",
       "      <td>0.203564</td>\n",
       "      <td>2.778598</td>\n",
       "    </tr>\n",
       "  </tbody>\n",
       "</table>\n",
       "</div>"
      ],
      "text/plain": [
       "       longitude  latitude  housing_median_age  total_rooms  population  \\\n",
       "17853    -121.88     37.44                23.0       1310.0       910.0   \n",
       "15963    -122.44     37.71                52.0       2711.0      1848.0   \n",
       "20106    -120.29     37.94                17.0       1459.0       753.0   \n",
       "\n",
       "       households  median_income  median_house_value  total_bedrooms_prep  \\\n",
       "17853       261.0         5.3994            237900.0                267.0   \n",
       "15963       524.0         3.9567            251500.0                591.0   \n",
       "20106       271.0         3.0500            144800.0                297.0   \n",
       "\n",
       "       rooms_per_household  bedrooms_per_room  population_per_household  \n",
       "17853             5.019157           0.203817                  3.486590  \n",
       "15963             5.173664           0.218001                  3.526718  \n",
       "20106             5.383764           0.203564                  2.778598  "
      ]
     },
     "execution_count": 23,
     "metadata": {},
     "output_type": "execute_result"
    }
   ],
   "source": [
    "train_set_num[:3]"
   ]
  },
  {
   "cell_type": "code",
   "execution_count": 24,
   "id": "0f615eed",
   "metadata": {},
   "outputs": [],
   "source": [
    "# standard scaler is transform this histogram to have mean value zero, and stardard deviation 1\n",
    "\n",
    "standard_scaler = preprocessing.StandardScaler()\n",
    "\n",
    "standard_scaler.fit(train_set_num)\n",
    "\n",
    "train_set_scaled = standard_scaler.transform(train_set_num)\n"
   ]
  },
  {
   "cell_type": "code",
   "execution_count": 25,
   "id": "d4c0f3fc",
   "metadata": {},
   "outputs": [],
   "source": [
    "train_set_scaled = pd.DataFrame(train_set_scaled, columns=train_set_num.columns)\n"
   ]
  },
  {
   "cell_type": "code",
   "execution_count": 26,
   "id": "c5dcaac5",
   "metadata": {},
   "outputs": [],
   "source": [
    "train_set_scaled['ocean_proximity'] = le.transform(train_set['ocean_proximity'])"
   ]
  },
  {
   "cell_type": "code",
   "execution_count": 27,
   "id": "7a3315ff",
   "metadata": {},
   "outputs": [
    {
     "data": {
      "text/html": [
       "<div>\n",
       "<style scoped>\n",
       "    .dataframe tbody tr th:only-of-type {\n",
       "        vertical-align: middle;\n",
       "    }\n",
       "\n",
       "    .dataframe tbody tr th {\n",
       "        vertical-align: top;\n",
       "    }\n",
       "\n",
       "    .dataframe thead th {\n",
       "        text-align: right;\n",
       "    }\n",
       "</style>\n",
       "<table border=\"1\" class=\"dataframe\">\n",
       "  <thead>\n",
       "    <tr style=\"text-align: right;\">\n",
       "      <th></th>\n",
       "      <th>longitude</th>\n",
       "      <th>latitude</th>\n",
       "      <th>housing_median_age</th>\n",
       "      <th>total_rooms</th>\n",
       "      <th>population</th>\n",
       "      <th>households</th>\n",
       "      <th>median_income</th>\n",
       "      <th>median_house_value</th>\n",
       "      <th>total_bedrooms_prep</th>\n",
       "      <th>rooms_per_household</th>\n",
       "      <th>bedrooms_per_room</th>\n",
       "      <th>population_per_household</th>\n",
       "      <th>ocean_proximity</th>\n",
       "    </tr>\n",
       "  </thead>\n",
       "  <tbody>\n",
       "    <tr>\n",
       "      <th>0</th>\n",
       "      <td>-1.147237</td>\n",
       "      <td>0.839997</td>\n",
       "      <td>-0.443505</td>\n",
       "      <td>-0.614686</td>\n",
       "      <td>-0.453505</td>\n",
       "      <td>-0.629779</td>\n",
       "      <td>0.812270</td>\n",
       "      <td>0.271773</td>\n",
       "      <td>-0.649646</td>\n",
       "      <td>-0.166643</td>\n",
       "      <td>-0.157819</td>\n",
       "      <td>0.064945</td>\n",
       "      <td>0</td>\n",
       "    </tr>\n",
       "    <tr>\n",
       "      <th>1</th>\n",
       "      <td>-1.426429</td>\n",
       "      <td>0.966033</td>\n",
       "      <td>1.854150</td>\n",
       "      <td>0.039994</td>\n",
       "      <td>0.371821</td>\n",
       "      <td>0.066257</td>\n",
       "      <td>0.048889</td>\n",
       "      <td>0.390091</td>\n",
       "      <td>0.133150</td>\n",
       "      <td>-0.103632</td>\n",
       "      <td>0.053898</td>\n",
       "      <td>0.070795</td>\n",
       "      <td>3</td>\n",
       "    </tr>\n",
       "  </tbody>\n",
       "</table>\n",
       "</div>"
      ],
      "text/plain": [
       "   longitude  latitude  housing_median_age  total_rooms  population  \\\n",
       "0  -1.147237  0.839997           -0.443505    -0.614686   -0.453505   \n",
       "1  -1.426429  0.966033            1.854150     0.039994    0.371821   \n",
       "\n",
       "   households  median_income  median_house_value  total_bedrooms_prep  \\\n",
       "0   -0.629779       0.812270            0.271773            -0.649646   \n",
       "1    0.066257       0.048889            0.390091             0.133150   \n",
       "\n",
       "   rooms_per_household  bedrooms_per_room  population_per_household  \\\n",
       "0            -0.166643          -0.157819                  0.064945   \n",
       "1            -0.103632           0.053898                  0.070795   \n",
       "\n",
       "   ocean_proximity  \n",
       "0                0  \n",
       "1                3  "
      ]
     },
     "execution_count": 27,
     "metadata": {},
     "output_type": "execute_result"
    }
   ],
   "source": [
    "train_set_scaled[:2]"
   ]
  },
  {
   "cell_type": "code",
   "execution_count": 28,
   "id": "62aa1d1d",
   "metadata": {},
   "outputs": [],
   "source": [
    "y_train = train_set_scaled['median_house_value'].values\n",
    "X_train = train_set_scaled.drop('median_house_value', axis=1).values\n"
   ]
  },
  {
   "cell_type": "code",
   "execution_count": 29,
   "id": "402df50f",
   "metadata": {},
   "outputs": [
    {
     "data": {
      "text/plain": [
       "(14448,)"
      ]
     },
     "execution_count": 29,
     "metadata": {},
     "output_type": "execute_result"
    }
   ],
   "source": [
    "y_train.shape"
   ]
  },
  {
   "cell_type": "code",
   "execution_count": 30,
   "id": "626d0015",
   "metadata": {},
   "outputs": [
    {
     "data": {
      "text/plain": [
       "(14448, 12)"
      ]
     },
     "execution_count": 30,
     "metadata": {},
     "output_type": "execute_result"
    }
   ],
   "source": [
    "X_train.shape"
   ]
  },
  {
   "cell_type": "code",
   "execution_count": 69,
   "id": "84fe1696",
   "metadata": {},
   "outputs": [],
   "source": [
    "from sklearn.tree import DecisionTreeRegressor\n",
    "from sklearn.ensemble import RandomForestRegressor\n",
    "\n",
    "tree = DecisionTreeRegressor()\n",
    "rfr = RandomForestRegressor()"
   ]
  },
  {
   "cell_type": "code",
   "execution_count": 70,
   "id": "daf2d0ad",
   "metadata": {},
   "outputs": [
    {
     "data": {
      "text/plain": [
       "RandomForestRegressor()"
      ]
     },
     "execution_count": 70,
     "metadata": {},
     "output_type": "execute_result"
    }
   ],
   "source": [
    "tree.fit(X_train, y_train)\n",
    "rfr.fit(X_train, y_train)"
   ]
  },
  {
   "cell_type": "markdown",
   "id": "5c5a2a7e",
   "metadata": {},
   "source": [
    "### preparing testing dataset following the same steps we did for training. \n",
    "\n",
    "* fill null; \n",
    "* standard scaler with drop ['total_bedrooms', 'ocean_proximity'],\n",
    "* label encoder of ocean_proximity"
   ]
  },
  {
   "cell_type": "code",
   "execution_count": 71,
   "id": "94d44ea9",
   "metadata": {},
   "outputs": [],
   "source": [
    "# fill null values with median (preprocessor already fitted above)\n",
    "test_set['total_bedrooms_prep'] = preprocessor.transform(test_set['total_bedrooms'].values.reshape(-1,1))\n",
    "\n",
    "# create new features (feature engineering)\n",
    "test_set[\"rooms_per_household\"] = test_set[\"total_rooms\"]/test_set[\"households\"]\n",
    "test_set[\"bedrooms_per_room\"] = test_set[\"total_bedrooms_prep\"]/test_set[\"total_rooms\"]\n",
    "test_set[\"population_per_household\"]=test_set[\"population\"]/test_set[\"households\"]\n",
    "\n",
    "# separate numerical attributes\n",
    "test_set_num = test_set.drop(['total_bedrooms', 'ocean_proximity'], axis=1)\n",
    "\n",
    "# perform standrad scaler with `standard_scaler` already fitted on train data\n",
    "test_set_scaled = standard_scaler.transform(test_set_num)\n",
    "\n",
    "# convert to dataframe for convenience\n",
    "test_set_scaled = pd.DataFrame(test_set_scaled, columns=test_set_num.columns)\n",
    "\n",
    "# recover categorical feature but with encoder already fitted in training data\n",
    "test_set_scaled['ocean_proximity'] = le.transform(test_set['ocean_proximity'])\n",
    "\n",
    "# create test feature and target\n",
    "y_test = test_set_scaled['median_house_value'].values\n",
    "X_test = test_set_scaled.drop('median_house_value', axis=1).values"
   ]
  },
  {
   "cell_type": "code",
   "execution_count": 72,
   "id": "59055155",
   "metadata": {},
   "outputs": [
    {
     "data": {
      "text/plain": [
       "((6192,), (6192, 12))"
      ]
     },
     "execution_count": 72,
     "metadata": {},
     "output_type": "execute_result"
    }
   ],
   "source": [
    "y_test.shape, X_test.shape"
   ]
  },
  {
   "cell_type": "code",
   "execution_count": 73,
   "id": "bbbfbe3a",
   "metadata": {},
   "outputs": [
    {
     "data": {
      "text/plain": [
       "0.4406839211390981"
      ]
     },
     "execution_count": 73,
     "metadata": {},
     "output_type": "execute_result"
    }
   ],
   "source": [
    "from sklearn.metrics import mean_squared_error \n",
    "\n",
    "# y_pred = tree.predict(X_test)\n",
    "y_pred = rfr.predict(X_test)\n",
    "\n",
    "# squared = False to return the RMSE (root mean square error)\n",
    "rms = mean_squared_error(y_true=y_test, y_pred=y_pred, squared=False)\n",
    "rms"
   ]
  },
  {
   "cell_type": "code",
   "execution_count": 74,
   "id": "47b6a79f",
   "metadata": {},
   "outputs": [
    {
     "data": {
      "text/plain": [
       "<matplotlib.legend.Legend at 0x7fb68cb31730>"
      ]
     },
     "execution_count": 74,
     "metadata": {},
     "output_type": "execute_result"
    },
    {
     "data": {
      "image/png": "[encoded data removed]",
      "text/plain": [
       "<Figure size 432x288 with 1 Axes>"
      ]
     },
     "metadata": {
      "needs_background": "light"
     },
     "output_type": "display_data"
    }
   ],
   "source": [
    "from matplotlib import pyplot as plt\n",
    "plt.hist(y_pred, bins=100, label='predicted', alpha=0.3)\n",
    "plt.hist(y_test, bins=100, label='true value', alpha=0.3)\n",
    "plt.legend()"
   ]
  },
  {
   "cell_type": "code",
   "execution_count": 75,
   "id": "b61c116b",
   "metadata": {},
   "outputs": [],
   "source": [
    "test_set_scaled_predicted = test_set_scaled.copy(deep=True)\n",
    "test_set_scaled_predicted['median_house_value'] = y_pred"
   ]
  },
  {
   "cell_type": "code",
   "execution_count": 76,
   "id": "bf45dbc2",
   "metadata": {},
   "outputs": [],
   "source": [
    "y_pred_not_scaled = pd.DataFrame(\n",
    "    standard_scaler.inverse_transform(\n",
    "        test_set_scaled_predicted.drop('ocean_proximity', axis=1)\n",
    "    ), columns = test_set_num.columns)['median_house_value']"
   ]
  },
  {
   "cell_type": "code",
   "execution_count": 77,
   "id": "488dd984",
   "metadata": {},
   "outputs": [],
   "source": [
    "y_true_not_scaled = test_set['median_house_value']"
   ]
  },
  {
   "cell_type": "code",
   "execution_count": 78,
   "id": "0aeb73b4",
   "metadata": {},
   "outputs": [
    {
     "data": {
      "text/plain": [
       "50653.9843201653"
      ]
     },
     "execution_count": 78,
     "metadata": {},
     "output_type": "execute_result"
    }
   ],
   "source": [
    "rms_not_scaled = mean_squared_error(y_true=y_true_not_scaled, y_pred=y_pred_not_scaled, squared=False)\n",
    "rms_not_scaled"
   ]
  },
  {
   "cell_type": "code",
   "execution_count": 83,
   "id": "58a741e7",
   "metadata": {},
   "outputs": [
    {
     "data": {
      "text/plain": [
       "383362.03"
      ]
     },
     "execution_count": 83,
     "metadata": {},
     "output_type": "execute_result"
    }
   ],
   "source": [
    "y_pred_not_scaled[1]"
   ]
  },
  {
   "cell_type": "code",
   "execution_count": 84,
   "id": "1eaad40c",
   "metadata": {},
   "outputs": [
    {
     "data": {
      "text/plain": [
       "[332708.04567983473, 434016.0143201653]"
      ]
     },
     "execution_count": 84,
     "metadata": {},
     "output_type": "execute_result"
    }
   ],
   "source": [
    "# 68 % C.L\n",
    "[y_pred_not_scaled[1] - rms_not_scaled, y_pred_not_scaled[1] + rms_not_scaled] "
   ]
  },
  {
   "cell_type": "code",
   "execution_count": 80,
   "id": "aba73e2c",
   "metadata": {},
   "outputs": [
    {
     "data": {
      "text/plain": [
       "354100.0"
      ]
     },
     "execution_count": 80,
     "metadata": {},
     "output_type": "execute_result"
    }
   ],
   "source": [
    "test_set.iloc[1]['median_house_value']"
   ]
  },
  {
   "cell_type": "code",
   "execution_count": 85,
   "id": "ff827fae",
   "metadata": {},
   "outputs": [
    {
     "data": {
      "text/plain": [
       "<matplotlib.legend.Legend at 0x7fb68d0870a0>"
      ]
     },
     "execution_count": 85,
     "metadata": {},
     "output_type": "execute_result"
    },
    {
     "data": {
      "image/png": "[encoded data removed]",
      "text/plain": [
       "<Figure size 432x288 with 1 Axes>"
      ]
     },
     "metadata": {
      "needs_background": "light"
     },
     "output_type": "display_data"
    }
   ],
   "source": [
    "_ = plt.hist(test_set['median_house_value'], bins=100, label='true', alpha=0.4)\n",
    "_ = plt.hist(y_pred_not_scaled, bins=100, label='predicted', alpha=0.4)\n",
    "plt.xlabel('median_house_value [USD]')\n",
    "plt.legend()\n"
   ]
  },
  {
   "cell_type": "markdown",
   "id": "633070ff",
   "metadata": {},
   "source": [
    "### Goals for EDA; \n",
    "\n",
    "* observe duplicated datapoints (remove them); \n",
    "* null entry and treat accordingly; \n",
    "* outlier identification (consider remove outliers) - min, max scaler is a candidate method.\n",
    "* encode categorical features (one hot encoding or label encoding depending of feature nature)\n",
    "* scale numerical feature such that its mean value is zero and standard deviation is 1. "
   ]
  },
  {
   "cell_type": "code",
   "execution_count": 86,
   "id": "6be55545",
   "metadata": {},
   "outputs": [],
   "source": [
    "# Compose scikit learn pipeline;\n",
    "# Cross-validation training;  \n",
    "# Overfitting; \n",
    "# Grid search to tunne hyperparameter model; "
   ]
  },
  {
   "cell_type": "code",
   "execution_count": 89,
   "id": "5372ce91",
   "metadata": {},
   "outputs": [
    {
     "ename": "TypeError",
     "evalue": "__init__() takes 2 positional arguments but 5 were given",
     "output_type": "error",
     "traceback": [
      "\u001b[0;31m---------------------------------------------------------------------------\u001b[0m",
      "\u001b[0;31mTypeError\u001b[0m                                 Traceback (most recent call last)",
      "\u001b[0;32m/var/folders/jw/_xh2kvqd50z3gdrr38vxnhfm0000gn/T/ipykernel_47321/3803765173.py\u001b[0m in \u001b[0;36m<module>\u001b[0;34m\u001b[0m\n\u001b[1;32m      1\u001b[0m \u001b[0;32mfrom\u001b[0m \u001b[0msklearn\u001b[0m\u001b[0;34m.\u001b[0m\u001b[0mpipeline\u001b[0m \u001b[0;32mimport\u001b[0m \u001b[0mPipeline\u001b[0m\u001b[0;34m\u001b[0m\u001b[0;34m\u001b[0m\u001b[0m\n\u001b[1;32m      2\u001b[0m \u001b[0;34m\u001b[0m\u001b[0m\n\u001b[0;32m----> 3\u001b[0;31m pipe = Pipeline(\n\u001b[0m\u001b[1;32m      4\u001b[0m     \u001b[0;31m# ('feature_compose', feature_compose)\u001b[0m\u001b[0;34m\u001b[0m\u001b[0;34m\u001b[0m\u001b[0;34m\u001b[0m\u001b[0m\n\u001b[1;32m      5\u001b[0m     \u001b[0;34m(\u001b[0m\u001b[0;34m'replace_null'\u001b[0m\u001b[0;34m,\u001b[0m \u001b[0mpreprocessor\u001b[0m\u001b[0;34m)\u001b[0m\u001b[0;34m,\u001b[0m\u001b[0;34m\u001b[0m\u001b[0;34m\u001b[0m\u001b[0m\n",
      "\u001b[0;31mTypeError\u001b[0m: __init__() takes 2 positional arguments but 5 were given"
     ]
    }
   ],
   "source": [
    "from sklearn.pipeline import Pipeline\n",
    "\n",
    "pipe = Pipeline(\n",
    "    # ('feature_compose', feature_compose) \n",
    "    ('replace_null', preprocessor), \n",
    "    ('label_encoder', le), \n",
    "    ('standard_scaler', standard_scaler), \n",
    "    ('regressor', DecisionTreeRegressor())\n",
    ")\n",
    "\n",
    "pipe.fit()\n",
    "pipe.predict()"
   ]
  },
  {
   "cell_type": "code",
   "execution_count": null,
   "id": "a8cf1607",
   "metadata": {},
   "outputs": [],
   "source": []
  }
 ],
 "metadata": {
  "kernelspec": {
   "display_name": "Python 3 (ipykernel)",
   "language": "python",
   "name": "python3"
  },
  "language_info": {
   "codemirror_mode": {
    "name": "ipython",
    "version": 3
   },
   "file_extension": ".py",
   "mimetype": "text/x-python",
   "name": "python",
   "nbconvert_exporter": "python",
   "pygments_lexer": "ipython3",
   "version": "3.9.4"
  }
 },
 "nbformat": 4,
 "nbformat_minor": 5
}
